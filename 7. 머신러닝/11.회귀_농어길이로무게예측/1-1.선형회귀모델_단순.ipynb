{
 "cells": [
  {
   "cell_type": "markdown",
   "metadata": {},
   "source": [
    "## 모델 학습: 선형 회귀\n",
    "\n",
    "* 대표적인 회귀 알고리즘입니다. \n",
    "* 선형이란 말처럼 특성이 하나인 경우 어떤 직선을 학습하는 알고리즘이다. \n",
    "* 이때 직선을 학습한다는 말은 특성을 가장 잘 나타낼 수 있는 직선을 찾는다는 의미이다.  \n",
    "\n"
   ]
  },
  {
   "cell_type": "code",
   "execution_count": 2,
   "metadata": {},
   "outputs": [],
   "source": [
    "from sklearn.metrics import r2_score\n",
    "from sklearn.metrics import mean_squared_error\n",
    "from sklearn.metrics import mean_absolute_error\n",
    "from sklearn.metrics import mean_squared_log_error\n",
    "\n",
    "def evaluate_reg_all(y_test, y_predict):\n",
    "    MSE = mean_squared_error(y_test,y_predict,squared=True)\n",
    "    RMSE = mean_squared_error(y_test,y_predict,squared=False)\n",
    "    MAE = mean_absolute_error(y_test,y_predict)\n",
    "    R2 = r2_score(y_test,y_predict)\n",
    "    \n",
    "    print(f'MSE: {MSE:.3f}, RMSE: {RMSE:.3F}, MAE: {MAE:.3F}, R^2: {R2:.3F}')"
   ]
  },
  {
   "cell_type": "code",
   "execution_count": 3,
   "metadata": {},
   "outputs": [
    {
     "name": "stdout",
     "output_type": "stream",
     "text": [
      "훈련_R2: 0.9111335077849486\n",
      "테스트_R2: 0.9341519682404069\n",
      "MSE: 6481.480, RMSE: 80.508, MAE: 64.756, R^2: 0.934\n",
      "예측값: 1214.4057041788446\n",
      "[37.02646696] -636.9176440163857\n"
     ]
    }
   ],
   "source": [
    "import pandas as pd\n",
    "import numpy as np\n",
    "from sklearn.model_selection import train_test_split\n",
    "from sklearn.metrics import mean_squared_error , r2_score, mean_absolute_error\n",
    "from sklearn.linear_model import LinearRegression\n",
    "\n",
    "# 경고메세지 끄기\n",
    "import warnings\n",
    "warnings.filterwarnings(action='ignore')\n",
    "\n",
    "##########데이터 로드\n",
    "\n",
    "fish_df = pd.read_csv('./data/fish.csv')\n",
    "\n",
    "x_data = fish_df.drop(['무게'], axis = 1)\n",
    "y_data = fish_df['무게']\n",
    "\n",
    "##########데이터 분석\n",
    "\n",
    "##########데이터 전처리\n",
    "\n",
    "# test_size = 0.3 : 학습:테스트 = 7:3으로 분리\n",
    "# random_state = 777 : 랜덤시드고정 -> 이 코드가 여러 번 실행되도 똑같은 구성의 데이터를 만들기 위해서 사용한다.\n",
    "# 이유는 데이터 샘플링시 랜덤으로 데이터를 구성하기 때문에 평가를 매번 다른 문제로 평가가 진행되는 꼴...\n",
    "# 문제가 틀리면, 같은 문제를 다시 공부해서 풀어야 하는데...\n",
    "# 777번의 의미는 내 마음대로\n",
    "\n",
    "x_train, x_test, y_train, y_test = train_test_split(x_data, y_data, test_size=0.3, random_state=777)\n",
    "\n",
    "\n",
    "\n",
    "##########모델 생성\n",
    "\n",
    "model = LinearRegression()\n",
    "\n",
    "##########모델 학습\n",
    "\n",
    "model.fit(x_train, y_train)\n",
    "\n",
    "##########모델 검증\n",
    "\n",
    "print(f'훈련_R2: {model.score(x_train, y_train)}') #0.9371680443381393\n",
    "print(f'테스트_R2: {model.score(x_test, y_test)}') #0.8324765337629763\n",
    "\n",
    "# 모델 평가\n",
    "y_predict = model.predict(x_test)\n",
    "\n",
    "evaluate_reg_all(y_test, y_predict)\n",
    "\n",
    "##########모델 예측\n",
    "\n",
    "x_real = np.array([\n",
    "    [50]\n",
    "])\n",
    "\n",
    "y_real_predict = model.predict(x_real)\n",
    "\n",
    "\n",
    "\n",
    "print(f'예측값: {y_real_predict[0]}') #1245.423930742852\n",
    "\n",
    "#model객체에 coef_와 intercept_ 속성에 저장되어 있음\n",
    "print(model.coef_ , model.intercept_)"
   ]
  },
  {
   "cell_type": "markdown",
   "metadata": {},
   "source": [
    "train 두 개의 쌍과 리니얼리그레이션(회귀알고리즘)을 이용해서 두 개로 피팅 학습을 한 후 평가를 한다. 훈련 데이터와 테스트 데이터의 점수를 본다.(검증) 예측을 한 후 이것이 실제 데이터와 얼마나 차이가 나느냐? 그 오차에 대한 결과가 나옴  / 여기까지가 모델 예측 바로 전, \n",
    "\n",
    "모델 예측 부분: x_test에 넘파이 50이 들어간 것은 농어길이가 만약 50이라면 무게가 몇 일까?를 보는 것. 예측 결과를 본다 1214.40gm으로 예측이 되었구나하고 마무리."
   ]
  },
  {
   "cell_type": "markdown",
   "metadata": {},
   "source": [
    "### 우리가 잘해야 하는 건 데이터 분리와 나온 결과를 잘 살펴보는 것."
   ]
  },
  {
   "cell_type": "markdown",
   "metadata": {},
   "source": [
    "---\n",
    "**[농어 무게 예측 방정식]**\n",
    "\n",
    "$y = 37.03*x - 636.92$\n",
    "\n",
    "---"
   ]
  },
  {
   "cell_type": "markdown",
   "metadata": {},
   "source": [
    "> * coef_는 기울기, intercept_를 절편이다.\n",
    "> * 머신러닝에서는 기울기를 계수(coefficient) 또는 가중치(weight)라고 부른다.\n",
    "> * 이는 머신러닝 알고리즘이 학습을 하고 찾은 값이라는 의미로 모델 파라미터라고 부른다. \n",
    "> * 많은 머신러닝 알고리즘의 훈련과정은 최적의 모델 파라미터를 찾는 것과 같다. "
   ]
  },
  {
   "cell_type": "code",
   "execution_count": 8,
   "metadata": {},
   "outputs": [
    {
     "data": {
      "text/html": [
       "<div>\n",
       "<style scoped>\n",
       "    .dataframe tbody tr th:only-of-type {\n",
       "        vertical-align: middle;\n",
       "    }\n",
       "\n",
       "    .dataframe tbody tr th {\n",
       "        vertical-align: top;\n",
       "    }\n",
       "\n",
       "    .dataframe thead th {\n",
       "        text-align: right;\n",
       "    }\n",
       "</style>\n",
       "<table border=\"1\" class=\"dataframe\">\n",
       "  <thead>\n",
       "    <tr style=\"text-align: right;\">\n",
       "      <th></th>\n",
       "      <th>길이</th>\n",
       "      <th>무게</th>\n",
       "    </tr>\n",
       "  </thead>\n",
       "  <tbody>\n",
       "    <tr>\n",
       "      <th>0</th>\n",
       "      <td>8.4</td>\n",
       "      <td>5.9</td>\n",
       "    </tr>\n",
       "    <tr>\n",
       "      <th>1</th>\n",
       "      <td>13.7</td>\n",
       "      <td>32.0</td>\n",
       "    </tr>\n",
       "    <tr>\n",
       "      <th>2</th>\n",
       "      <td>15.0</td>\n",
       "      <td>40.0</td>\n",
       "    </tr>\n",
       "  </tbody>\n",
       "</table>\n",
       "</div>"
      ],
      "text/plain": [
       "     길이    무게\n",
       "0   8.4   5.9\n",
       "1  13.7  32.0\n",
       "2  15.0  40.0"
      ]
     },
     "execution_count": 8,
     "metadata": {},
     "output_type": "execute_result"
    }
   ],
   "source": [
    "fish_df.head(3)"
   ]
  },
  {
   "cell_type": "code",
   "execution_count": 3,
   "metadata": {},
   "outputs": [
    {
     "data": {
      "image/png": "[encoded data removed]",
      "text/plain": [
       "<Figure size 640x480 with 1 Axes>"
      ]
     },
     "metadata": {},
     "output_type": "display_data"
    }
   ],
   "source": [
    "import matplotlib.pyplot as plt\n",
    "\n",
    "# 훈련 세트의 산점도를 그립니다\n",
    "plt.scatter(x_train, y_train)\n",
    "\n",
    "# 농어의 길이 15에서 50까지 1차 방정식 직선 그래프를 그립니다\n",
    "plt.plot([15, 50], [15*model.coef_+model.intercept_, 50*model.coef_+model.intercept_])\n",
    "\n",
    "# 50cm 농어 데이터\n",
    "plt.scatter(50, 1245.42, marker='^')\n",
    "plt.xlabel('length')\n",
    "plt.ylabel('weight')\n",
    "plt.show()"
   ]
  },
  {
   "cell_type": "markdown",
   "metadata": {},
   "source": [
    "> * 길이가 50cm인 농어에 대한 예측은 이 직선의 연장선에 있다.\n",
    "> * 이제 훈련 세트 범위를 벗어난 농어의 무게도 예측가능하게 되었다. "
   ]
  },
  {
   "cell_type": "markdown",
   "metadata": {},
   "source": [
    "> * 훈련세트에 비해서 테스트 세트의 성능이 많이 떨어지는 것을 보아 과대적합이 된 것 같다. \n",
    "> * 그리고 그래프 왼쪽아래가 이상하다.\n",
    "> * 무게를 음수로 예측하다니...\n",
    "\n",
    "\n",
    "> * 1차 선형방정식이니 무게가 음수로 예측될 수 밖에 없다. \n",
    "> * 좀 더 예측력을 높이기 위해 곡선인 다항 회귀로 접근해야 겠다. "
   ]
  }
 ],
 "metadata": {
  "kernelspec": {
   "display_name": "Python 3",
   "language": "python",
   "name": "python3"
  },
  "language_info": {
   "codemirror_mode": {
    "name": "ipython",
    "version": 3
   },
   "file_extension": ".py",
   "mimetype": "text/x-python",
   "name": "python",
   "nbconvert_exporter": "python",
   "pygments_lexer": "ipython3",
   "version": "3.10.11"
  },
  "orig_nbformat": 4
 },
 "nbformat": 4,
 "nbformat_minor": 2
}
