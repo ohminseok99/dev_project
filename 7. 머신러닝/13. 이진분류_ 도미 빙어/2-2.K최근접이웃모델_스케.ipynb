{
 "cells": [
  {
   "cell_type": "code",
   "execution_count": 1,
   "metadata": {},
   "outputs": [
    {
     "name": "stdout",
     "output_type": "stream",
     "text": [
      "훈련_Accuracy: 0.6875\n",
      "테스트_Accuracy: 0.7333333333333333\n",
      "              precision    recall  f1-score   support\n",
      "\n",
      "          빙어       0.00      0.00      0.00         4\n",
      "          도미       0.73      1.00      0.85        11\n",
      "\n",
      "    accuracy                           0.73        15\n",
      "   macro avg       0.37      0.50      0.42        15\n",
      "weighted avg       0.54      0.73      0.62        15\n",
      "\n",
      "분류결과:도미 1.0\n"
     ]
    }
   ],
   "source": [
    "import pandas as pd\n",
    "import numpy as np\n",
    "from sklearn.model_selection import train_test_split   #데이터 셋 분리\n",
    "from sklearn.metrics import accuracy_score  #분류 평가\n",
    "from sklearn.preprocessing import StandardScaler\n",
    "from sklearn.metrics import classification_report\n",
    "\n",
    "# 경고메세지 끄기\n",
    "import warnings\n",
    "warnings.filterwarnings(action='ignore')\n",
    "\n",
    "from sklearn.neighbors import KNeighborsClassifier\n",
    "\n",
    "##########데이터 로드\n",
    "\n",
    "fish_df = pd.read_csv('./data/fish_pre.csv')\n",
    "labels = ['빙어','도미']\n",
    "\n",
    "##########데이터 분석\n",
    "\n",
    "##########데이터 전처리\n",
    "\n",
    "#### 스케일링\n",
    "y_target = fish_df['Label']\n",
    "X_data = fish_df.drop(['Label'],axis=1)\n",
    "\n",
    "x_train, x_test, y_train , y_test = train_test_split(X_data , y_target ,test_size=0.3, random_state=42,stratify=y_target)\n",
    "\n",
    "#### 스케일링\n",
    "\n",
    "ss_scaler = StandardScaler()\n",
    "x_train_scaled= ss_scaler.fit_transform(x_train)\n",
    "x_test_scaled = ss_scaler.transform(x_test)\n",
    "\n",
    "x_train_scaled_df = pd.DataFrame(data = x_train_scaled, columns=['길이', '무게'])\n",
    "#x_train_scaled_df\n",
    "\n",
    "\n",
    "##########모델 생성\n",
    "\n",
    "model = KNeighborsClassifier()\n",
    "\n",
    "##########모델 학습\n",
    "\n",
    "model.fit(x_train_scaled, y_train)\n",
    "\n",
    "##########모델 검증\n",
    "\n",
    "print(f'훈련_Accuracy: {model.score(x_train, y_train)}') \n",
    "print(f'테스트_Accuracy: {model.score(x_test, y_test)}') \n",
    "\n",
    "#평가 리포트\n",
    "y_predict = model.predict(x_test)\n",
    "print(classification_report(y_test,y_predict,target_names=labels))\n",
    "\n",
    "##########모델 예측\n",
    "\n",
    "x_real = np.array([\n",
    "    # [31.5, 496] # 도미\n",
    "    [25,150]\n",
    "]\n",
    ")\n",
    "\n",
    "# 실제 데이터에 대해서도 훈련때와 동일한 스케일 작업을 진행진행\n",
    "#################################################\n",
    "x_real_scaled = ss_scaler.transform(x_real) \n",
    "#################################################\n",
    "y_predict = model.predict(x_real_scaled)\n",
    "\n",
    "label = labels[y_predict[0]]\n",
    "y_predict = model.predict_proba(x_real_scaled)\n",
    "confidence = y_predict[0][y_predict[0].argmax()]\n",
    "\n",
    "print(f'분류결과:{label} {confidence}')"
   ]
  },
  {
   "cell_type": "code",
   "execution_count": 5,
   "metadata": {},
   "outputs": [
    {
     "data": {
      "text/plain": [
       "array([[-0.15930411, -0.8680124 ]])"
      ]
     },
     "execution_count": 5,
     "metadata": {},
     "output_type": "execute_result"
    }
   ],
   "source": [
    "x_real_scaled"
   ]
  },
  {
   "cell_type": "code",
   "execution_count": 6,
   "metadata": {},
   "outputs": [
    {
     "data": {
      "text/html": [
       "<div>\n",
       "<style scoped>\n",
       "    .dataframe tbody tr th:only-of-type {\n",
       "        vertical-align: middle;\n",
       "    }\n",
       "\n",
       "    .dataframe tbody tr th {\n",
       "        vertical-align: top;\n",
       "    }\n",
       "\n",
       "    .dataframe thead th {\n",
       "        text-align: right;\n",
       "    }\n",
       "</style>\n",
       "<table border=\"1\" class=\"dataframe\">\n",
       "  <thead>\n",
       "    <tr style=\"text-align: right;\">\n",
       "      <th></th>\n",
       "      <th>길이</th>\n",
       "      <th>무게</th>\n",
       "    </tr>\n",
       "  </thead>\n",
       "  <tbody>\n",
       "    <tr>\n",
       "      <th>22</th>\n",
       "      <td>0.230580</td>\n",
       "      <td>-0.208108</td>\n",
       "    </tr>\n",
       "    <tr>\n",
       "      <th>10</th>\n",
       "      <td>0.328051</td>\n",
       "      <td>-0.124458</td>\n",
       "    </tr>\n",
       "    <tr>\n",
       "      <th>26</th>\n",
       "      <td>0.522993</td>\n",
       "      <td>-0.279365</td>\n",
       "    </tr>\n",
       "    <tr>\n",
       "      <th>3</th>\n",
       "      <td>0.230580</td>\n",
       "      <td>-0.000532</td>\n",
       "    </tr>\n",
       "    <tr>\n",
       "      <th>11</th>\n",
       "      <td>0.328051</td>\n",
       "      <td>0.061430</td>\n",
       "    </tr>\n",
       "  </tbody>\n",
       "</table>\n",
       "</div>"
      ],
      "text/plain": [
       "          길이        무게\n",
       "22  0.230580 -0.208108\n",
       "10  0.328051 -0.124458\n",
       "26  0.522993 -0.279365\n",
       "3   0.230580 -0.000532\n",
       "11  0.328051  0.061430"
      ]
     },
     "execution_count": 6,
     "metadata": {},
     "output_type": "execute_result"
    }
   ],
   "source": [
    "# 주변샘플을 살펴보면\n",
    "model.predict(x_real_scaled)\n",
    "dist, indexes = model.kneighbors(x_real_scaled)\n",
    "\n",
    "idx = indexes.tolist()[0]\n",
    "kne = x_train_scaled_df.iloc[idx]\n",
    "kne"
   ]
  },
  {
   "cell_type": "code",
   "execution_count": 48,
   "metadata": {},
   "outputs": [
    {
     "data": {
      "text/plain": [
       "(numpy.ndarray, array([[-0.15930411, -0.8680124 ]]))"
      ]
     },
     "execution_count": 48,
     "metadata": {},
     "output_type": "execute_result"
    }
   ],
   "source": [
    "type(x_real_scaled),x_real_scaled"
   ]
  },
  {
   "cell_type": "code",
   "execution_count": 49,
   "metadata": {},
   "outputs": [
    {
     "data": {
      "text/plain": [
       "-0.15930410912141546"
      ]
     },
     "execution_count": 49,
     "metadata": {},
     "output_type": "execute_result"
    }
   ],
   "source": [
    "x_real_scaled.squeeze()[0] # 길이"
   ]
  },
  {
   "cell_type": "code",
   "execution_count": 50,
   "metadata": {},
   "outputs": [
    {
     "data": {
      "text/plain": [
       "-0.8680123979206747"
      ]
     },
     "execution_count": 50,
     "metadata": {},
     "output_type": "execute_result"
    }
   ],
   "source": [
    "x_real_scaled.squeeze()[1] # 무게"
   ]
  },
  {
   "cell_type": "code",
   "execution_count": 7,
   "metadata": {},
   "outputs": [
    {
     "data": {
      "text/plain": [
       "[22, 10, 26, 3, 11]"
      ]
     },
     "execution_count": 7,
     "metadata": {},
     "output_type": "execute_result"
    }
   ],
   "source": [
    "indexes.tolist()[0]"
   ]
  },
  {
   "cell_type": "code",
   "execution_count": 8,
   "metadata": {},
   "outputs": [
    {
     "data": {
      "image/png": "[encoded data removed]",
      "text/plain": [
       "<Figure size 640x480 with 1 Axes>"
      ]
     },
     "metadata": {},
     "output_type": "display_data"
    }
   ],
   "source": [
    "import matplotlib.pyplot as plt\n",
    "\n",
    "#스케터 차트그리기\n",
    "plt.scatter(x_train_scaled_df['길이'],x_train_scaled_df['무게']) #훈련데이터\n",
    "plt.scatter(x_real_scaled.squeeze()[0] ,x_real_scaled.squeeze()[1] ,marker='^')              # 새로운 데이터\n",
    "plt.scatter(kne['길이'],kne['무게'],marker='D')\n",
    "plt.show()"
   ]
  },
  {
   "cell_type": "markdown",
   "metadata": {},
   "source": [
    "```\n",
    "도미로 분류되었네~~\n",
    "\n",
    "```"
   ]
  },
  {
   "cell_type": "code",
   "execution_count": null,
   "metadata": {},
   "outputs": [],
   "source": []
  }
 ],
 "metadata": {
  "kernelspec": {
   "display_name": "Python 3",
   "language": "python",
   "name": "python3"
  },
  "language_info": {
   "codemirror_mode": {
    "name": "ipython",
    "version": 3
   },
   "file_extension": ".py",
   "mimetype": "text/x-python",
   "name": "python",
   "nbconvert_exporter": "python",
   "pygments_lexer": "ipython3",
   "version": "3.10.11"
  },
  "orig_nbformat": 4
 },
 "nbformat": 4,
 "nbformat_minor": 2
}
