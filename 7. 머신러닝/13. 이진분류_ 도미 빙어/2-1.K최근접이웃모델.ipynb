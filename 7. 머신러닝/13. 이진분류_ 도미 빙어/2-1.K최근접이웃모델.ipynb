{
 "cells": [
  {
   "cell_type": "code",
   "execution_count": 1,
   "metadata": {},
   "outputs": [
    {
     "name": "stdout",
     "output_type": "stream",
     "text": [
      "      길이     무게\n",
      "16  33.5  610.0\n",
      "31  41.0  975.0\n",
      "30  39.5  925.0\n",
      "4   29.0  430.0\n",
      "38  11.3    8.7\n",
      "훈련_Accuracy: 1.0\n",
      "테스트_Accuracy: 1.0\n",
      "              precision    recall  f1-score   support\n",
      "\n",
      "          빙어       1.00      1.00      1.00         4\n",
      "          도미       1.00      1.00      1.00        11\n",
      "\n",
      "    accuracy                           1.00        15\n",
      "   macro avg       1.00      1.00      1.00        15\n",
      "weighted avg       1.00      1.00      1.00        15\n",
      "\n",
      "분류결과:빙어 1.0\n"
     ]
    }
   ],
   "source": [
    "import pandas as pd\n",
    "import numpy as np\n",
    "from sklearn.model_selection import train_test_split   #데이터 셋 분리\n",
    "from sklearn.metrics import accuracy_score  #분류 평가\n",
    "from sklearn.metrics import classification_report\n",
    "\n",
    "# 경고메세지 끄기\n",
    "import warnings\n",
    "warnings.filterwarnings(action='ignore')\n",
    "\n",
    "from sklearn.neighbors import KNeighborsClassifier\n",
    "\n",
    "##########데이터 로드\n",
    "\n",
    "fish_df = pd.read_csv('./data/fish_pre.csv')\n",
    "labels = ['빙어','도미']\n",
    "\n",
    "##########데이터 분석\n",
    "\n",
    "##########데이터 전처리\n",
    "\n",
    "y_target = fish_df['Label']\n",
    "X_data = fish_df.drop(['Label'],axis=1)\n",
    "\n",
    "x_train, x_test, y_train , y_test = train_test_split(X_data , y_target ,test_size=0.3, random_state=42,stratify=y_target)\n",
    "\n",
    "print(x_train.head())\n",
    "\n",
    "\n",
    "##########모델 생성\n",
    "\n",
    "model = KNeighborsClassifier()\n",
    "\n",
    "##########모델 학습\n",
    "\n",
    "model.fit(x_train, y_train)\n",
    "\n",
    "##########모델 검증\n",
    "\n",
    "print(f'훈련_Accuracy: {model.score(x_train, y_train)}') \n",
    "print(f'테스트_Accuracy: {model.score(x_test, y_test)}') \n",
    "\n",
    "#평가 리포트\n",
    "y_predict = model.predict(x_test)\n",
    "print(classification_report(y_test,y_predict,target_names=labels))\n",
    "\n",
    "##########모델 예측\n",
    "\n",
    "x_test = np.array([\n",
    "    # [31.5, 496] # 도미\n",
    "    [25,150]\n",
    "])\n",
    "\n",
    "y_predict = model.predict(x_test)\n",
    "label = labels[y_predict[0]]\n",
    "y_predict = model.predict_proba(x_test)\n",
    "confidence = y_predict[0][y_predict[0].argmax()]\n",
    "\n",
    "print(f'분류결과:{label} {confidence}')"
   ]
  },
  {
   "cell_type": "code",
   "execution_count": 2,
   "metadata": {},
   "outputs": [
    {
     "data": {
      "image/png": "[encoded data removed]",
      "text/plain": [
       "<Figure size 640x480 with 1 Axes>"
      ]
     },
     "metadata": {},
     "output_type": "display_data"
    }
   ],
   "source": [
    "import matplotlib.pyplot as plt\n",
    "\n",
    "#스케터 차트그리기\n",
    "plt.scatter(x_train['길이'],x_train['무게'])\n",
    "plt.scatter(25,150,marker='^')\n",
    "plt.show()"
   ]
  },
  {
   "cell_type": "markdown",
   "metadata": {},
   "source": [
    "> * 빙어라고 판단됐지만, 실제는 도미이네~~~\n",
    "> * 어떻게 된거지?"
   ]
  },
  {
   "cell_type": "markdown",
   "metadata": {},
   "source": [
    "> * 분명히 새로운 데이터는 도미쪽에 가까우나,\n",
    "> * 모델의 판단은 빙어라고 판단했는데 왜 이런 현상이 벌어질까요??????"
   ]
  },
  {
   "cell_type": "code",
   "execution_count": 3,
   "metadata": {},
   "outputs": [
    {
     "data": {
      "text/plain": [
       "array([[25, 31, 23, 14,  8]], dtype=int64)"
      ]
     },
     "execution_count": 3,
     "metadata": {},
     "output_type": "execute_result"
    }
   ],
   "source": [
    "# 주변샘플을 살펴보면\n",
    "dist, indexes = model.kneighbors([[25,150]])\n",
    "indexes"
   ]
  },
  {
   "cell_type": "code",
   "execution_count": 4,
   "metadata": {},
   "outputs": [
    {
     "data": {
      "text/plain": [
       "[25, 31, 23, 14, 8]"
      ]
     },
     "execution_count": 4,
     "metadata": {},
     "output_type": "execute_result"
    }
   ],
   "source": [
    "\n",
    "idx = indexes.tolist()[0]\n",
    "idx\n"
   ]
  },
  {
   "cell_type": "code",
   "execution_count": 5,
   "metadata": {},
   "outputs": [
    {
     "data": {
      "text/html": [
       "<div>\n",
       "<style scoped>\n",
       "    .dataframe tbody tr th:only-of-type {\n",
       "        vertical-align: middle;\n",
       "    }\n",
       "\n",
       "    .dataframe tbody tr th {\n",
       "        vertical-align: top;\n",
       "    }\n",
       "\n",
       "    .dataframe thead th {\n",
       "        text-align: right;\n",
       "    }\n",
       "</style>\n",
       "<table border=\"1\" class=\"dataframe\">\n",
       "  <thead>\n",
       "    <tr style=\"text-align: right;\">\n",
       "      <th></th>\n",
       "      <th>길이</th>\n",
       "      <th>무게</th>\n",
       "    </tr>\n",
       "  </thead>\n",
       "  <tbody>\n",
       "    <tr>\n",
       "      <th>46</th>\n",
       "      <td>15.0</td>\n",
       "      <td>19.9</td>\n",
       "    </tr>\n",
       "    <tr>\n",
       "      <th>45</th>\n",
       "      <td>14.3</td>\n",
       "      <td>19.7</td>\n",
       "    </tr>\n",
       "    <tr>\n",
       "      <th>44</th>\n",
       "      <td>13.0</td>\n",
       "      <td>12.2</td>\n",
       "    </tr>\n",
       "    <tr>\n",
       "      <th>42</th>\n",
       "      <td>12.2</td>\n",
       "      <td>12.2</td>\n",
       "    </tr>\n",
       "    <tr>\n",
       "      <th>41</th>\n",
       "      <td>12.0</td>\n",
       "      <td>9.8</td>\n",
       "    </tr>\n",
       "  </tbody>\n",
       "</table>\n",
       "</div>"
      ],
      "text/plain": [
       "      길이    무게\n",
       "46  15.0  19.9\n",
       "45  14.3  19.7\n",
       "44  13.0  12.2\n",
       "42  12.2  12.2\n",
       "41  12.0   9.8"
      ]
     },
     "execution_count": 5,
     "metadata": {},
     "output_type": "execute_result"
    }
   ],
   "source": [
    "kne = x_train.iloc[idx]\n",
    "kne"
   ]
  },
  {
   "cell_type": "code",
   "execution_count": 6,
   "metadata": {},
   "outputs": [
    {
     "data": {
      "text/plain": [
       "46    0\n",
       "45    0\n",
       "44    0\n",
       "42    0\n",
       "41    0\n",
       "Name: Label, dtype: int64"
      ]
     },
     "execution_count": 6,
     "metadata": {},
     "output_type": "execute_result"
    }
   ],
   "source": [
    "y_train.iloc[idx] \n",
    "# K-최근접 모델이 훈련하고, 새로운 데이터에 대해서 최근점 이웃인 5개 데이터를 바탕으로 판단한 결과\n",
    "# 빙어가 5마리가 대상이 되고 다수결에 따라 빙어로 판단함."
   ]
  },
  {
   "cell_type": "code",
   "execution_count": 7,
   "metadata": {},
   "outputs": [
    {
     "data": {
      "image/png": "[encoded data removed]",
      "text/plain": [
       "<Figure size 640x480 with 1 Axes>"
      ]
     },
     "metadata": {},
     "output_type": "display_data"
    }
   ],
   "source": [
    "#스케터 차트그리기\n",
    "plt.scatter(x_train['길이'],x_train['무게']) #훈련데이터\n",
    "plt.scatter(25,150,marker='^')              # 새로운 데이터\n",
    "plt.scatter(kne['길이'],kne['무게'], marker='D') # 근접 이웃인 데이터 5개\n",
    "plt.show()"
   ]
  },
  {
   "cell_type": "markdown",
   "metadata": {},
   "source": [
    " > * X축의 범위는 10~40이고, y축의 범위는 0~1000사이 입니다. \n",
    " > * 스케일이 다르니 y축으로 조금만 이동을 해도 거리가 아주 큰 값으로 계산됩니다. \n",
    " > * 따라서, 각 축의 범위를 동일하게 맞춰줘야 합니다. "
   ]
  }
 ],
 "metadata": {
  "kernelspec": {
   "display_name": "Python 3",
   "language": "python",
   "name": "python3"
  },
  "language_info": {
   "codemirror_mode": {
    "name": "ipython",
    "version": 3
   },
   "file_extension": ".py",
   "mimetype": "text/x-python",
   "name": "python",
   "nbconvert_exporter": "python",
   "pygments_lexer": "ipython3",
   "version": "3.10.11"
  },
  "orig_nbformat": 4
 },
 "nbformat": 4,
 "nbformat_minor": 2
}
