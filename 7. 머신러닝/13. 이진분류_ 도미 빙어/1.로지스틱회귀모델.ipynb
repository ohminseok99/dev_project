{
 "cells": [
  {
   "cell_type": "code",
   "execution_count": 4,
   "metadata": {},
   "outputs": [
    {
     "name": "stdout",
     "output_type": "stream",
     "text": [
      "훈련_Accuracy: 1.0\n",
      "테스트_Accuracy: 1.0\n",
      "              precision    recall  f1-score   support\n",
      "\n",
      "          빙어       1.00      1.00      1.00         4\n",
      "          도미       1.00      1.00      1.00        11\n",
      "\n",
      "    accuracy                           1.00        15\n",
      "   macro avg       1.00      1.00      1.00        15\n",
      "weighted avg       1.00      1.00      1.00        15\n",
      "\n",
      "분류결과:도미 0.9999999885061744\n"
     ]
    }
   ],
   "source": [
    "import pandas as pd\n",
    "import numpy as np\n",
    "from sklearn.model_selection import train_test_split   #데이터 셋 분리\n",
    "from sklearn.metrics import accuracy_score  #분류 평가\n",
    "from sklearn.metrics import classification_report\n",
    "\n",
    "# 경고메세지 끄기\n",
    "import warnings\n",
    "warnings.filterwarnings(action='ignore')\n",
    "\n",
    "from sklearn.linear_model import LogisticRegression\n",
    "\n",
    "##########데이터 로드\n",
    "\n",
    "fish_df = pd.read_csv('./data/fish_pre.csv')   # 전처리 완료본\n",
    "labels = ['빙어','도미']          # 1: 도미 / 2: 빙어\n",
    " \n",
    "##########데이터 분석\n",
    "\n",
    "x_data = fish_df.drop(['Label'], axis = 1)\n",
    "y_data = fish_df['Label']\n",
    "##########데이터 전처리\n",
    "\n",
    "# 불균형데이터의 경우 stratify = y_target 지정할 것.\n",
    "x_train, x_test, y_train, y_test = train_test_split(x_data, y_data, test_size=0.3, random_state=42, stratify=y_data)\n",
    "\n",
    "\n",
    "##########모델 생성\n",
    "\n",
    "model = LogisticRegression()\n",
    "\n",
    "##########모델 학습\n",
    "\n",
    "model.fit(x_train, y_train)\n",
    "\n",
    "##########모델 검증\n",
    "\n",
    "print(f'훈련_Accuracy: {model.score(x_train, y_train)}') \n",
    "print(f'테스트_Accuracy: {model.score(x_test, y_test)}') \n",
    "\n",
    "#평가 리포트\n",
    "y_predict = model.predict(x_test)\n",
    "print(classification_report(y_test,y_predict,target_names=labels))\n",
    "\n",
    "##########모델 예측\n",
    "\n",
    "x_test = np.array([\n",
    "    [31.5, 496]\n",
    "])\n",
    "\n",
    "y_predict = model.predict(x_test)\n",
    "label = labels[y_predict[0]]\n",
    "y_predict = model.predict_proba(x_test)\n",
    "confidence = y_predict[0][y_predict[0].argmax()]\n",
    "\n",
    "print(f'분류결과:{label} {confidence}')\n"
   ]
  }
 ],
 "metadata": {
  "kernelspec": {
   "display_name": "Python 3",
   "language": "python",
   "name": "python3"
  },
  "language_info": {
   "codemirror_mode": {
    "name": "ipython",
    "version": 3
   },
   "file_extension": ".py",
   "mimetype": "text/x-python",
   "name": "python",
   "nbconvert_exporter": "python",
   "pygments_lexer": "ipython3",
   "version": "3.10.11"
  },
  "orig_nbformat": 4
 },
 "nbformat": 4,
 "nbformat_minor": 2
}
