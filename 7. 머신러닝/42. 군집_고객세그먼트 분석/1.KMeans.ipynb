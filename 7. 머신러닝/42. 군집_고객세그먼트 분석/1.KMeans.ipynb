{
 "cells": [
  {
   "cell_type": "markdown",
   "metadata": {},
   "source": [
    "## 고객 세그먼트\n",
    "\n",
    "https://www.kaggle.com/datasets/vjchoudhary7/customer-segmentation-tutorial-in-python"
   ]
  },
  {
   "cell_type": "code",
   "execution_count": 7,
   "metadata": {},
   "outputs": [
    {
     "data": {
      "text/html": [
       "<div>\n",
       "<style scoped>\n",
       "    .dataframe tbody tr th:only-of-type {\n",
       "        vertical-align: middle;\n",
       "    }\n",
       "\n",
       "    .dataframe tbody tr th {\n",
       "        vertical-align: top;\n",
       "    }\n",
       "\n",
       "    .dataframe thead th {\n",
       "        text-align: right;\n",
       "    }\n",
       "</style>\n",
       "<table border=\"1\" class=\"dataframe\">\n",
       "  <thead>\n",
       "    <tr style=\"text-align: right;\">\n",
       "      <th></th>\n",
       "      <th>Age</th>\n",
       "      <th>Annual Income (k$)</th>\n",
       "      <th>Spending Score (1-100)</th>\n",
       "      <th>Gender_Male</th>\n",
       "    </tr>\n",
       "  </thead>\n",
       "  <tbody>\n",
       "    <tr>\n",
       "      <th>0</th>\n",
       "      <td>0.019231</td>\n",
       "      <td>0.000000</td>\n",
       "      <td>0.387755</td>\n",
       "      <td>1.0</td>\n",
       "    </tr>\n",
       "    <tr>\n",
       "      <th>1</th>\n",
       "      <td>0.057692</td>\n",
       "      <td>0.000000</td>\n",
       "      <td>0.816327</td>\n",
       "      <td>1.0</td>\n",
       "    </tr>\n",
       "    <tr>\n",
       "      <th>2</th>\n",
       "      <td>0.038462</td>\n",
       "      <td>0.008197</td>\n",
       "      <td>0.051020</td>\n",
       "      <td>0.0</td>\n",
       "    </tr>\n",
       "    <tr>\n",
       "      <th>3</th>\n",
       "      <td>0.096154</td>\n",
       "      <td>0.008197</td>\n",
       "      <td>0.775510</td>\n",
       "      <td>0.0</td>\n",
       "    </tr>\n",
       "    <tr>\n",
       "      <th>4</th>\n",
       "      <td>0.250000</td>\n",
       "      <td>0.016393</td>\n",
       "      <td>0.397959</td>\n",
       "      <td>0.0</td>\n",
       "    </tr>\n",
       "  </tbody>\n",
       "</table>\n",
       "</div>"
      ],
      "text/plain": [
       "        Age  Annual Income (k$)  Spending Score (1-100)  Gender_Male\n",
       "0  0.019231            0.000000                0.387755          1.0\n",
       "1  0.057692            0.000000                0.816327          1.0\n",
       "2  0.038462            0.008197                0.051020          0.0\n",
       "3  0.096154            0.008197                0.775510          0.0\n",
       "4  0.250000            0.016393                0.397959          0.0"
      ]
     },
     "execution_count": 7,
     "metadata": {},
     "output_type": "execute_result"
    }
   ],
   "source": [
    "from sklearn.preprocessing import MinMaxScaler\n",
    "from sklearn.cluster import KMeans\n",
    "from yellowbrick.cluster import KElbowVisualizer\n",
    "from sklearn.metrics import silhouette_score\n",
    "from yellowbrick.cluster import SilhouetteVisualizer\n",
    "# from sklearn.cluster import DBSCAN\n",
    "import pandas as pd\n",
    "import seaborn as sns\n",
    "import matplotlib.pyplot as plt\n",
    "\n",
    "# 경고메세지 끄기\n",
    "import warnings\n",
    "warnings.filterwarnings(action='ignore')\n",
    "\n",
    "##########데이터 로드\n",
    "\n",
    "\n",
    "df = pd.read_csv(\"./data/Mall_Customers.csv\")\n",
    "\n",
    "\n",
    "##########데이터 분석\n",
    "##########데이터 전처리\n",
    "\n",
    "df.drop('CustomerID', axis=1,inplace=True)\n",
    "\n",
    "# Gender변수 가변수 처리\n",
    "df1 = pd.get_dummies(df, columns = ['Gender'], drop_first=True)\n",
    "\n",
    "# 데이터 정규화 적용\n",
    "mm_scaler = MinMaxScaler()\n",
    "minmax = mm_scaler.fit_transform(df1)\n",
    "\n",
    "# 컬럼명 결합\n",
    "df_minmax = pd.DataFrame(data=minmax, columns=df1.columns)\n",
    "\n",
    "df_minmax.head()"
   ]
  },
  {
   "cell_type": "code",
   "execution_count": 8,
   "metadata": {},
   "outputs": [
    {
     "data": {
      "text/plain": [
       "<Axes: >"
      ]
     },
     "execution_count": 8,
     "metadata": {},
     "output_type": "execute_result"
    }
   ],
   "source": [
    "df_minmax.boxplot()"
   ]
  },
  {
   "cell_type": "markdown",
   "metadata": {},
   "source": [
    "## K 찾기"
   ]
  },
  {
   "cell_type": "markdown",
   "metadata": {},
   "source": [
    "## 엘보차트"
   ]
  },
  {
   "cell_type": "code",
   "execution_count": 12,
   "metadata": {},
   "outputs": [
    {
     "data": {
      "image/png": "[encoded data removed]",
      "text/plain": [
       "<Figure size 800x550 with 2 Axes>"
      ]
     },
     "metadata": {},
     "output_type": "display_data"
    },
    {
     "data": {
      "text/plain": [
       "<Axes: title={'center': 'Distortion Score Elbow for KMeans Clustering'}, xlabel='k', ylabel='distortion score'>"
      ]
     },
     "execution_count": 12,
     "metadata": {},
     "output_type": "execute_result"
    }
   ],
   "source": [
    "from yellowbrick.cluster import KElbowVisualizer\n",
    "\n",
    "model = KMeans()\n",
    "\n",
    "Elbow_Chart = KElbowVisualizer(model, k=(1,11))\n",
    "Elbow_Chart.fit(minmax)\n",
    "Elbow_Chart.show()"
   ]
  },
  {
   "cell_type": "markdown",
   "metadata": {},
   "source": [
    "2, 4 지점에서 꺾임.\n",
    "2지점이 주요하게 나온 이유는 성별 변수 때문이지 않을끼? 그게 제일 그룹핑하기 빠르니까"
   ]
  },
  {
   "cell_type": "markdown",
   "metadata": {},
   "source": [
    "## 실루엣 분석"
   ]
  },
  {
   "cell_type": "code",
   "execution_count": 13,
   "metadata": {},
   "outputs": [
    {
     "data": {
      "image/png": "[encoded data removed]",
      "text/plain": [
       "<Figure size 500x500 with 6 Axes>"
      ]
     },
     "metadata": {},
     "output_type": "display_data"
    }
   ],
   "source": [
    "from sklearn.metrics import silhouette_score\n",
    "from yellowbrick.cluster import SilhouetteVisualizer\n",
    "import matplotlib.pyplot as plt\n",
    "\n",
    "fig,ax = plt.subplots(3,2,figsize=(5,5))\n",
    "for i in range(2,8):   # k = 2,3,4,5, 6, 7 일때의 실루엣 분석을 시도\n",
    "    q,mod = divmod(i,2)\n",
    "    model = KMeans(n_clusters=i,random_state=3)\n",
    "\n",
    "    visualizer = SilhouetteVisualizer(model, colors='yellowbrick',ax=ax[q-1][mod])\n",
    "    visualizer.fit(minmax)    \n",
    "\n",
    "    score = silhouette_score(minmax, model.labels_)\n",
    "    # print(f'실루엣 스코어(1에 근접해야 좋음): {score}')\n",
    "    ax[q - 1][mod].set_title(f'Number of Clusters: {i} \\n silhouette_score: {score:.4f}')\n",
    "\n",
    "plt.tight_layout()\n",
    "plt.show()    "
   ]
  },
  {
   "cell_type": "markdown",
   "metadata": {},
   "source": [
    "### 실루엣 스코어가 가장 높은 건 k = 2 ,하지만 고르게 발달한 것은 k = 4\n",
    "## 2개의 군집은 더 세분화할 수 있을 만큼 각 데이터가 많이 포함되어 있다.\n",
    "## 4개의 군집에서는 관측치가 비교적 균등하게 나뉘며, 실루엣 계수의 편차도 고른편임..\n"
   ]
  },
  {
   "cell_type": "markdown",
   "metadata": {},
   "source": [
    "```\n",
    "내가 찾은 k는? 4\n",
    "```"
   ]
  },
  {
   "cell_type": "code",
   "execution_count": 15,
   "metadata": {},
   "outputs": [
    {
     "name": "stdout",
     "output_type": "stream",
     "text": [
      "inertia(작을수록) : 22.390960011928552\n",
      "silhouette_score(1에 가까울수록) : 0.3641657522339062\n",
      "[1 1 0 2 2 2 0 2 3 2 3 2 0 2 3 1 0 1 3 2 3 1 0 1 0 1 0 1 0 2 3 2 3 1 0 2 0\n",
      " 2 0 2 0 1 3 2 0 2 0 2 2 2 0 1 2 3 0 3 0 3 2 3 3 1 0 0 3 1 0 0 1 2 3 0 0 0\n",
      " 3 1 0 3 2 0 3 1 3 0 2 3 0 2 2 0 0 1 3 0 2 1 0 2 3 1 2 0 3 1 3 2 0 3 3 3 3\n",
      " 2 0 1 2 2 0 0 0 0 1 0 2 1 2 2 3 1 3 1 3 1 2 2 3 2 0 1 3 2 0 1 2 2 3 1 3 2\n",
      " 0 1 3 1 0 2 0 2 3 2 3 2 0 2 3 2 3 2 3 2 0 1 3 1 3 1 0 2 3 1 3 1 0 2 3 2 0\n",
      " 1 0 1 0 2 0 2 3 2 0 2 0 1 3 1]\n"
     ]
    }
   ],
   "source": [
    "from sklearn.preprocessing import MinMaxScaler\n",
    "from sklearn.cluster import KMeans\n",
    "from yellowbrick.cluster import KElbowVisualizer\n",
    "from sklearn.metrics import silhouette_score\n",
    "from yellowbrick.cluster import SilhouetteVisualizer\n",
    "# from sklearn.cluster import DBSCAN\n",
    "import pandas as pd\n",
    "import seaborn as sns\n",
    "import matplotlib.pyplot as plt\n",
    "\n",
    "# 경고메세지 끄기\n",
    "import warnings\n",
    "warnings.filterwarnings(action='ignore')\n",
    "\n",
    "##########데이터 로드\n",
    "\n",
    "\n",
    "df = pd.read_csv(\"./data/Mall_Customers.csv\")\n",
    "\n",
    "\n",
    "\n",
    "##########데이터 분석\n",
    "##########데이터 전처리\n",
    "\n",
    "df.drop('CustomerID', axis=1,inplace=True)\n",
    "\n",
    "# Gender변수 가변수 처리\n",
    "df1 = pd.get_dummies(df, columns = ['Gender'], drop_first=True)\n",
    "\n",
    "# 데이터 정규화 적용\n",
    "mm_scaler = MinMaxScaler()\n",
    "minmax = mm_scaler.fit_transform(df1)\n",
    "\n",
    "# 컬럼명 결합\n",
    "df_minmax = pd.DataFrame(data=minmax, columns=df1.columns)\n",
    "\n",
    "##########모델 생성\n",
    "\n",
    "model = KMeans(n_clusters=4) #알맞은 클러스터 갯수는?\n",
    "\n",
    "##########모델 학습\n",
    "\n",
    "model.fit(df_minmax)\n",
    "\n",
    "##########모델 검증\n",
    "\n",
    "print(f'inertia(작을수록) : {model.inertia_}') #78.94084142614601 #관성값: 샘플과 클러스터간 거리 제곱 합, 작을수록 좋음\n",
    "print(f'silhouette_score(1에 가까울수록) : {silhouette_score(minmax, model.predict(minmax))}') ##0.5003019230876485 #실루엣 계수: 군집간 거리는 멀고 군집내 거리는 가까울수록 점수 높음 (0~1), 0.5 보다 크면 클러스터링이 잘 된거라 평가\n",
    "\n",
    "##########모델 예측\n",
    "\n",
    "print(model.labels_) #[1 1 1 2 2 1 0 0 0 2 0 1]\n",
    "\n",
    "y_predict = model.predict(minmax)\n",
    "\n"
   ]
  },
  {
   "cell_type": "code",
   "execution_count": 16,
   "metadata": {},
   "outputs": [
    {
     "data": {
      "text/html": [
       "<div>\n",
       "<style scoped>\n",
       "    .dataframe tbody tr th:only-of-type {\n",
       "        vertical-align: middle;\n",
       "    }\n",
       "\n",
       "    .dataframe tbody tr th {\n",
       "        vertical-align: top;\n",
       "    }\n",
       "\n",
       "    .dataframe thead th {\n",
       "        text-align: right;\n",
       "    }\n",
       "</style>\n",
       "<table border=\"1\" class=\"dataframe\">\n",
       "  <thead>\n",
       "    <tr style=\"text-align: right;\">\n",
       "      <th></th>\n",
       "      <th>Age</th>\n",
       "      <th>Annual Income (k$)</th>\n",
       "      <th>Spending Score (1-100)</th>\n",
       "      <th>Gender_Male</th>\n",
       "    </tr>\n",
       "  </thead>\n",
       "  <tbody>\n",
       "    <tr>\n",
       "      <th>0</th>\n",
       "      <td>19</td>\n",
       "      <td>15</td>\n",
       "      <td>39</td>\n",
       "      <td>1</td>\n",
       "    </tr>\n",
       "    <tr>\n",
       "      <th>1</th>\n",
       "      <td>21</td>\n",
       "      <td>15</td>\n",
       "      <td>81</td>\n",
       "      <td>1</td>\n",
       "    </tr>\n",
       "    <tr>\n",
       "      <th>2</th>\n",
       "      <td>20</td>\n",
       "      <td>16</td>\n",
       "      <td>6</td>\n",
       "      <td>0</td>\n",
       "    </tr>\n",
       "    <tr>\n",
       "      <th>3</th>\n",
       "      <td>23</td>\n",
       "      <td>16</td>\n",
       "      <td>77</td>\n",
       "      <td>0</td>\n",
       "    </tr>\n",
       "    <tr>\n",
       "      <th>4</th>\n",
       "      <td>31</td>\n",
       "      <td>17</td>\n",
       "      <td>40</td>\n",
       "      <td>0</td>\n",
       "    </tr>\n",
       "    <tr>\n",
       "      <th>...</th>\n",
       "      <td>...</td>\n",
       "      <td>...</td>\n",
       "      <td>...</td>\n",
       "      <td>...</td>\n",
       "    </tr>\n",
       "    <tr>\n",
       "      <th>195</th>\n",
       "      <td>35</td>\n",
       "      <td>120</td>\n",
       "      <td>79</td>\n",
       "      <td>0</td>\n",
       "    </tr>\n",
       "    <tr>\n",
       "      <th>196</th>\n",
       "      <td>45</td>\n",
       "      <td>126</td>\n",
       "      <td>28</td>\n",
       "      <td>0</td>\n",
       "    </tr>\n",
       "    <tr>\n",
       "      <th>197</th>\n",
       "      <td>32</td>\n",
       "      <td>126</td>\n",
       "      <td>74</td>\n",
       "      <td>1</td>\n",
       "    </tr>\n",
       "    <tr>\n",
       "      <th>198</th>\n",
       "      <td>32</td>\n",
       "      <td>137</td>\n",
       "      <td>18</td>\n",
       "      <td>1</td>\n",
       "    </tr>\n",
       "    <tr>\n",
       "      <th>199</th>\n",
       "      <td>30</td>\n",
       "      <td>137</td>\n",
       "      <td>83</td>\n",
       "      <td>1</td>\n",
       "    </tr>\n",
       "  </tbody>\n",
       "</table>\n",
       "<p>200 rows × 4 columns</p>\n",
       "</div>"
      ],
      "text/plain": [
       "     Age  Annual Income (k$)  Spending Score (1-100)  Gender_Male\n",
       "0     19                  15                      39            1\n",
       "1     21                  15                      81            1\n",
       "2     20                  16                       6            0\n",
       "3     23                  16                      77            0\n",
       "4     31                  17                      40            0\n",
       "..   ...                 ...                     ...          ...\n",
       "195   35                 120                      79            0\n",
       "196   45                 126                      28            0\n",
       "197   32                 126                      74            1\n",
       "198   32                 137                      18            1\n",
       "199   30                 137                      83            1\n",
       "\n",
       "[200 rows x 4 columns]"
      ]
     },
     "execution_count": 16,
     "metadata": {},
     "output_type": "execute_result"
    }
   ],
   "source": [
    "df1"
   ]
  },
  {
   "cell_type": "code",
   "execution_count": 18,
   "metadata": {},
   "outputs": [],
   "source": [
    "df1['Cluster'] = model.labels_"
   ]
  },
  {
   "cell_type": "code",
   "execution_count": 19,
   "metadata": {},
   "outputs": [
    {
     "data": {
      "text/html": [
       "<div>\n",
       "<style scoped>\n",
       "    .dataframe tbody tr th:only-of-type {\n",
       "        vertical-align: middle;\n",
       "    }\n",
       "\n",
       "    .dataframe tbody tr th {\n",
       "        vertical-align: top;\n",
       "    }\n",
       "\n",
       "    .dataframe thead th {\n",
       "        text-align: right;\n",
       "    }\n",
       "</style>\n",
       "<table border=\"1\" class=\"dataframe\">\n",
       "  <thead>\n",
       "    <tr style=\"text-align: right;\">\n",
       "      <th></th>\n",
       "      <th>Age</th>\n",
       "      <th>Annual Income (k$)</th>\n",
       "      <th>Spending Score (1-100)</th>\n",
       "      <th>Gender_Male</th>\n",
       "      <th>Cluster</th>\n",
       "    </tr>\n",
       "  </thead>\n",
       "  <tbody>\n",
       "    <tr>\n",
       "      <th>0</th>\n",
       "      <td>19</td>\n",
       "      <td>15</td>\n",
       "      <td>39</td>\n",
       "      <td>1</td>\n",
       "      <td>1</td>\n",
       "    </tr>\n",
       "    <tr>\n",
       "      <th>1</th>\n",
       "      <td>21</td>\n",
       "      <td>15</td>\n",
       "      <td>81</td>\n",
       "      <td>1</td>\n",
       "      <td>1</td>\n",
       "    </tr>\n",
       "    <tr>\n",
       "      <th>2</th>\n",
       "      <td>20</td>\n",
       "      <td>16</td>\n",
       "      <td>6</td>\n",
       "      <td>0</td>\n",
       "      <td>0</td>\n",
       "    </tr>\n",
       "    <tr>\n",
       "      <th>3</th>\n",
       "      <td>23</td>\n",
       "      <td>16</td>\n",
       "      <td>77</td>\n",
       "      <td>0</td>\n",
       "      <td>2</td>\n",
       "    </tr>\n",
       "    <tr>\n",
       "      <th>4</th>\n",
       "      <td>31</td>\n",
       "      <td>17</td>\n",
       "      <td>40</td>\n",
       "      <td>0</td>\n",
       "      <td>2</td>\n",
       "    </tr>\n",
       "  </tbody>\n",
       "</table>\n",
       "</div>"
      ],
      "text/plain": [
       "   Age  Annual Income (k$)  Spending Score (1-100)  Gender_Male  Cluster\n",
       "0   19                  15                      39            1        1\n",
       "1   21                  15                      81            1        1\n",
       "2   20                  16                       6            0        0\n",
       "3   23                  16                      77            0        2\n",
       "4   31                  17                      40            0        2"
      ]
     },
     "execution_count": 19,
     "metadata": {},
     "output_type": "execute_result"
    }
   ],
   "source": [
    "df1.head()"
   ]
  },
  {
   "cell_type": "code",
   "execution_count": 20,
   "metadata": {},
   "outputs": [
    {
     "data": {
      "text/html": [
       "<div>\n",
       "<style scoped>\n",
       "    .dataframe tbody tr th:only-of-type {\n",
       "        vertical-align: middle;\n",
       "    }\n",
       "\n",
       "    .dataframe tbody tr th {\n",
       "        vertical-align: top;\n",
       "    }\n",
       "\n",
       "    .dataframe thead th {\n",
       "        text-align: right;\n",
       "    }\n",
       "</style>\n",
       "<table border=\"1\" class=\"dataframe\">\n",
       "  <thead>\n",
       "    <tr style=\"text-align: right;\">\n",
       "      <th></th>\n",
       "      <th>Age</th>\n",
       "      <th>Annual Income (k$)</th>\n",
       "      <th>Spending Score (1-100)</th>\n",
       "      <th>Gender_Male</th>\n",
       "    </tr>\n",
       "    <tr>\n",
       "      <th>Cluster</th>\n",
       "      <th></th>\n",
       "      <th></th>\n",
       "      <th></th>\n",
       "      <th></th>\n",
       "    </tr>\n",
       "  </thead>\n",
       "  <tbody>\n",
       "    <tr>\n",
       "      <th>0</th>\n",
       "      <td>55</td>\n",
       "      <td>55</td>\n",
       "      <td>55</td>\n",
       "      <td>55</td>\n",
       "    </tr>\n",
       "    <tr>\n",
       "      <th>1</th>\n",
       "      <td>40</td>\n",
       "      <td>40</td>\n",
       "      <td>40</td>\n",
       "      <td>40</td>\n",
       "    </tr>\n",
       "    <tr>\n",
       "      <th>2</th>\n",
       "      <td>57</td>\n",
       "      <td>57</td>\n",
       "      <td>57</td>\n",
       "      <td>57</td>\n",
       "    </tr>\n",
       "    <tr>\n",
       "      <th>3</th>\n",
       "      <td>48</td>\n",
       "      <td>48</td>\n",
       "      <td>48</td>\n",
       "      <td>48</td>\n",
       "    </tr>\n",
       "  </tbody>\n",
       "</table>\n",
       "</div>"
      ],
      "text/plain": [
       "         Age  Annual Income (k$)  Spending Score (1-100)  Gender_Male\n",
       "Cluster                                                              \n",
       "0         55                  55                      55           55\n",
       "1         40                  40                      40           40\n",
       "2         57                  57                      57           57\n",
       "3         48                  48                      48           48"
      ]
     },
     "execution_count": 20,
     "metadata": {},
     "output_type": "execute_result"
    }
   ],
   "source": [
    "df1.groupby('Cluster').count()"
   ]
  },
  {
   "cell_type": "code",
   "execution_count": 21,
   "metadata": {},
   "outputs": [
    {
     "data": {
      "text/html": [
       "<div>\n",
       "<style scoped>\n",
       "    .dataframe tbody tr th:only-of-type {\n",
       "        vertical-align: middle;\n",
       "    }\n",
       "\n",
       "    .dataframe tbody tr th {\n",
       "        vertical-align: top;\n",
       "    }\n",
       "\n",
       "    .dataframe thead th {\n",
       "        text-align: right;\n",
       "    }\n",
       "</style>\n",
       "<table border=\"1\" class=\"dataframe\">\n",
       "  <thead>\n",
       "    <tr style=\"text-align: right;\">\n",
       "      <th></th>\n",
       "      <th>Age</th>\n",
       "      <th>Annual Income (k$)</th>\n",
       "      <th>Spending Score (1-100)</th>\n",
       "      <th>Gender_Male</th>\n",
       "      <th>Cluster</th>\n",
       "      <th>silhouette_coeff</th>\n",
       "    </tr>\n",
       "  </thead>\n",
       "  <tbody>\n",
       "    <tr>\n",
       "      <th>0</th>\n",
       "      <td>19</td>\n",
       "      <td>15</td>\n",
       "      <td>39</td>\n",
       "      <td>1</td>\n",
       "      <td>1</td>\n",
       "      <td>0.244976</td>\n",
       "    </tr>\n",
       "    <tr>\n",
       "      <th>1</th>\n",
       "      <td>21</td>\n",
       "      <td>15</td>\n",
       "      <td>81</td>\n",
       "      <td>1</td>\n",
       "      <td>1</td>\n",
       "      <td>0.465892</td>\n",
       "    </tr>\n",
       "    <tr>\n",
       "      <th>2</th>\n",
       "      <td>20</td>\n",
       "      <td>16</td>\n",
       "      <td>6</td>\n",
       "      <td>0</td>\n",
       "      <td>0</td>\n",
       "      <td>0.010117</td>\n",
       "    </tr>\n",
       "    <tr>\n",
       "      <th>3</th>\n",
       "      <td>23</td>\n",
       "      <td>16</td>\n",
       "      <td>77</td>\n",
       "      <td>0</td>\n",
       "      <td>2</td>\n",
       "      <td>0.420871</td>\n",
       "    </tr>\n",
       "    <tr>\n",
       "      <th>4</th>\n",
       "      <td>31</td>\n",
       "      <td>17</td>\n",
       "      <td>40</td>\n",
       "      <td>0</td>\n",
       "      <td>2</td>\n",
       "      <td>0.060785</td>\n",
       "    </tr>\n",
       "  </tbody>\n",
       "</table>\n",
       "</div>"
      ],
      "text/plain": [
       "   Age  Annual Income (k$)  Spending Score (1-100)  Gender_Male  Cluster  \\\n",
       "0   19                  15                      39            1        1   \n",
       "1   21                  15                      81            1        1   \n",
       "2   20                  16                       6            0        0   \n",
       "3   23                  16                      77            0        2   \n",
       "4   31                  17                      40            0        2   \n",
       "\n",
       "   silhouette_coeff  \n",
       "0          0.244976  \n",
       "1          0.465892  \n",
       "2          0.010117  \n",
       "3          0.420871  \n",
       "4          0.060785  "
      ]
     },
     "execution_count": 21,
     "metadata": {},
     "output_type": "execute_result"
    }
   ],
   "source": [
    "# 실루엣 분석 metric 값을 구하기 위한 API 추가\n",
    "from sklearn.metrics import silhouette_samples, silhouette_score\n",
    "\n",
    "# 모든 개별 데이터에 실루엣 계수값을 구함. \n",
    "score_samples = silhouette_samples(minmax, df1['Cluster'])\n",
    "df1['silhouette_coeff'] = score_samples\n",
    "df1.head()"
   ]
  },
  {
   "cell_type": "code",
   "execution_count": 22,
   "metadata": {},
   "outputs": [
    {
     "data": {
      "text/plain": [
       "Cluster\n",
       "0    0.332338\n",
       "1    0.442321\n",
       "2    0.374693\n",
       "3    0.323004\n",
       "Name: silhouette_coeff, dtype: float64"
      ]
     },
     "execution_count": 22,
     "metadata": {},
     "output_type": "execute_result"
    }
   ],
   "source": [
    "# 각 클러스터별 실루엣 계수 평균\n",
    "df1.groupby('Cluster')['silhouette_coeff'].mean()"
   ]
  },
  {
   "cell_type": "markdown",
   "metadata": {},
   "source": [
    "## 시각화"
   ]
  },
  {
   "cell_type": "code",
   "execution_count": 23,
   "metadata": {},
   "outputs": [
    {
     "data": {
      "text/html": [
       "<div>\n",
       "<style scoped>\n",
       "    .dataframe tbody tr th:only-of-type {\n",
       "        vertical-align: middle;\n",
       "    }\n",
       "\n",
       "    .dataframe tbody tr th {\n",
       "        vertical-align: top;\n",
       "    }\n",
       "\n",
       "    .dataframe thead th {\n",
       "        text-align: right;\n",
       "    }\n",
       "</style>\n",
       "<table border=\"1\" class=\"dataframe\">\n",
       "  <thead>\n",
       "    <tr style=\"text-align: right;\">\n",
       "      <th></th>\n",
       "      <th>Age</th>\n",
       "      <th>Annual Income (k$)</th>\n",
       "      <th>Spending Score (1-100)</th>\n",
       "      <th>Gender_Male</th>\n",
       "      <th>Cluster</th>\n",
       "      <th>silhouette_coeff</th>\n",
       "      <th>pca_x</th>\n",
       "      <th>pca_y</th>\n",
       "    </tr>\n",
       "  </thead>\n",
       "  <tbody>\n",
       "    <tr>\n",
       "      <th>0</th>\n",
       "      <td>19</td>\n",
       "      <td>15</td>\n",
       "      <td>39</td>\n",
       "      <td>1</td>\n",
       "      <td>1</td>\n",
       "      <td>0.244976</td>\n",
       "      <td>0.532955</td>\n",
       "      <td>-0.227841</td>\n",
       "    </tr>\n",
       "    <tr>\n",
       "      <th>1</th>\n",
       "      <td>21</td>\n",
       "      <td>15</td>\n",
       "      <td>81</td>\n",
       "      <td>1</td>\n",
       "      <td>1</td>\n",
       "      <td>0.465892</td>\n",
       "      <td>0.513939</td>\n",
       "      <td>-0.493080</td>\n",
       "    </tr>\n",
       "    <tr>\n",
       "      <th>2</th>\n",
       "      <td>20</td>\n",
       "      <td>16</td>\n",
       "      <td>6</td>\n",
       "      <td>0</td>\n",
       "      <td>0</td>\n",
       "      <td>0.010117</td>\n",
       "      <td>-0.446266</td>\n",
       "      <td>0.087079</td>\n",
       "    </tr>\n",
       "    <tr>\n",
       "      <th>3</th>\n",
       "      <td>23</td>\n",
       "      <td>16</td>\n",
       "      <td>77</td>\n",
       "      <td>0</td>\n",
       "      <td>2</td>\n",
       "      <td>0.420871</td>\n",
       "      <td>-0.478796</td>\n",
       "      <td>-0.366617</td>\n",
       "    </tr>\n",
       "    <tr>\n",
       "      <th>4</th>\n",
       "      <td>31</td>\n",
       "      <td>17</td>\n",
       "      <td>40</td>\n",
       "      <td>0</td>\n",
       "      <td>2</td>\n",
       "      <td>0.060785</td>\n",
       "      <td>-0.451984</td>\n",
       "      <td>0.003006</td>\n",
       "    </tr>\n",
       "  </tbody>\n",
       "</table>\n",
       "</div>"
      ],
      "text/plain": [
       "   Age  Annual Income (k$)  Spending Score (1-100)  Gender_Male  Cluster  \\\n",
       "0   19                  15                      39            1        1   \n",
       "1   21                  15                      81            1        1   \n",
       "2   20                  16                       6            0        0   \n",
       "3   23                  16                      77            0        2   \n",
       "4   31                  17                      40            0        2   \n",
       "\n",
       "   silhouette_coeff     pca_x     pca_y  \n",
       "0          0.244976  0.532955 -0.227841  \n",
       "1          0.465892  0.513939 -0.493080  \n",
       "2          0.010117 -0.446266  0.087079  \n",
       "3          0.420871 -0.478796 -0.366617  \n",
       "4          0.060785 -0.451984  0.003006  "
      ]
     },
     "execution_count": 23,
     "metadata": {},
     "output_type": "execute_result"
    }
   ],
   "source": [
    "from sklearn.decomposition import PCA\n",
    "\n",
    "transformer = PCA(n_components=2)\n",
    "\n",
    "df1['pca_x'] = transformer.fit_transform(minmax)[:,0]\n",
    "df1['pca_y'] = transformer.fit_transform(minmax)[:,1]\n",
    "df1.head()\n"
   ]
  },
  {
   "cell_type": "code",
   "execution_count": 24,
   "metadata": {},
   "outputs": [
    {
     "data": {
      "image/png": "[encoded data removed]",
      "text/plain": [
       "<Figure size 800x550 with 1 Axes>"
      ]
     },
     "metadata": {},
     "output_type": "display_data"
    }
   ],
   "source": [
    "# cluster 값이 0, 1, 2 인 경우마다 별도의 Index로 추출\n",
    "marker0_ind = df1[df1['Cluster']==0].index\n",
    "marker1_ind = df1[df1['Cluster']==1].index\n",
    "marker2_ind = df1[df1['Cluster']==2].index\n",
    "marker3_ind = df1[df1['Cluster']==3].index\n",
    "\n",
    "# cluster값 0, 1, 2,3에 해당하는 Index로 각 cluster 레벨의 pca_x, pca_y 값 추출. x, s, ^ 로 marker 표시\n",
    "plt.scatter(x=df1.loc[marker0_ind,'pca_x'], y=df1.loc[marker0_ind,'pca_y'], marker='x', label='1') \n",
    "plt.scatter(x=df1.loc[marker1_ind,'pca_x'], y=df1.loc[marker1_ind,'pca_y'], marker='s',label='2')\n",
    "plt.scatter(x=df1.loc[marker2_ind,'pca_x'], y=df1.loc[marker2_ind,'pca_y'], marker='^',label='3')\n",
    "plt.scatter(x=df1.loc[marker3_ind,'pca_x'], y=df1.loc[marker3_ind,'pca_y'], marker='*',label='4')\n",
    "\n",
    "plt.xlabel('PCA 1')\n",
    "plt.ylabel('PCA 2')\n",
    "plt.title('4 Clusters Visualization by 2 PCA Components')\n",
    "plt.legend()\n",
    "plt.show()"
   ]
  },
  {
   "cell_type": "code",
   "execution_count": 25,
   "metadata": {},
   "outputs": [
    {
     "data": {
      "text/html": [
       "<div>\n",
       "<style scoped>\n",
       "    .dataframe tbody tr th:only-of-type {\n",
       "        vertical-align: middle;\n",
       "    }\n",
       "\n",
       "    .dataframe tbody tr th {\n",
       "        vertical-align: top;\n",
       "    }\n",
       "\n",
       "    .dataframe thead th {\n",
       "        text-align: right;\n",
       "    }\n",
       "</style>\n",
       "<table border=\"1\" class=\"dataframe\">\n",
       "  <thead>\n",
       "    <tr style=\"text-align: right;\">\n",
       "      <th></th>\n",
       "      <th>Age</th>\n",
       "      <th>Annual Income (k$)</th>\n",
       "      <th>Spending Score (1-100)</th>\n",
       "      <th>Gender_Male</th>\n",
       "      <th>Cluster</th>\n",
       "      <th>silhouette_coeff</th>\n",
       "      <th>pca_x</th>\n",
       "      <th>pca_y</th>\n",
       "      <th>pca_z</th>\n",
       "    </tr>\n",
       "  </thead>\n",
       "  <tbody>\n",
       "    <tr>\n",
       "      <th>0</th>\n",
       "      <td>19</td>\n",
       "      <td>15</td>\n",
       "      <td>39</td>\n",
       "      <td>1</td>\n",
       "      <td>1</td>\n",
       "      <td>0.244976</td>\n",
       "      <td>0.532955</td>\n",
       "      <td>-0.227841</td>\n",
       "      <td>0.321860</td>\n",
       "    </tr>\n",
       "    <tr>\n",
       "      <th>1</th>\n",
       "      <td>21</td>\n",
       "      <td>15</td>\n",
       "      <td>81</td>\n",
       "      <td>1</td>\n",
       "      <td>1</td>\n",
       "      <td>0.465892</td>\n",
       "      <td>0.513939</td>\n",
       "      <td>-0.493080</td>\n",
       "      <td>-0.016202</td>\n",
       "    </tr>\n",
       "    <tr>\n",
       "      <th>2</th>\n",
       "      <td>20</td>\n",
       "      <td>16</td>\n",
       "      <td>6</td>\n",
       "      <td>0</td>\n",
       "      <td>0</td>\n",
       "      <td>0.010117</td>\n",
       "      <td>-0.446266</td>\n",
       "      <td>0.087079</td>\n",
       "      <td>0.555761</td>\n",
       "    </tr>\n",
       "    <tr>\n",
       "      <th>3</th>\n",
       "      <td>23</td>\n",
       "      <td>16</td>\n",
       "      <td>77</td>\n",
       "      <td>0</td>\n",
       "      <td>2</td>\n",
       "      <td>0.420871</td>\n",
       "      <td>-0.478796</td>\n",
       "      <td>-0.366617</td>\n",
       "      <td>-0.010714</td>\n",
       "    </tr>\n",
       "    <tr>\n",
       "      <th>4</th>\n",
       "      <td>31</td>\n",
       "      <td>17</td>\n",
       "      <td>40</td>\n",
       "      <td>0</td>\n",
       "      <td>2</td>\n",
       "      <td>0.060785</td>\n",
       "      <td>-0.451984</td>\n",
       "      <td>0.003006</td>\n",
       "      <td>0.159208</td>\n",
       "    </tr>\n",
       "  </tbody>\n",
       "</table>\n",
       "</div>"
      ],
      "text/plain": [
       "   Age  Annual Income (k$)  Spending Score (1-100)  Gender_Male  Cluster  \\\n",
       "0   19                  15                      39            1        1   \n",
       "1   21                  15                      81            1        1   \n",
       "2   20                  16                       6            0        0   \n",
       "3   23                  16                      77            0        2   \n",
       "4   31                  17                      40            0        2   \n",
       "\n",
       "   silhouette_coeff     pca_x     pca_y     pca_z  \n",
       "0          0.244976  0.532955 -0.227841  0.321860  \n",
       "1          0.465892  0.513939 -0.493080 -0.016202  \n",
       "2          0.010117 -0.446266  0.087079  0.555761  \n",
       "3          0.420871 -0.478796 -0.366617 -0.010714  \n",
       "4          0.060785 -0.451984  0.003006  0.159208  "
      ]
     },
     "execution_count": 25,
     "metadata": {},
     "output_type": "execute_result"
    }
   ],
   "source": [
    "from sklearn.decomposition import PCA\n",
    "\n",
    "transformer = PCA(n_components=3)\n",
    "df_3D = df1.copy()\n",
    "\n",
    "df_3D['pca_x'] = transformer.fit_transform(minmax)[:,0]\n",
    "df_3D['pca_y'] = transformer.fit_transform(minmax)[:,1]\n",
    "df_3D['pca_z'] = transformer.fit_transform(minmax)[:,2]\n",
    "\n",
    "df_3D.head()"
   ]
  },
  {
   "cell_type": "markdown",
   "metadata": {},
   "source": []
  },
  {
   "cell_type": "markdown",
   "metadata": {},
   "source": [
    "pip install plotly"
   ]
  },
  {
   "cell_type": "code",
   "execution_count": 41,
   "metadata": {},
   "outputs": [
    {
     "data": {
      "application/vnd.plotly.v1+json": {
       "config": {
        "plotlyServerURL": "https://plot.ly"
       },
       "data": [
        {
         "hovertemplate": "pca_x=%{x}<br>pca_y=%{y}<br>pca_z=%{z}<br>Cluster=%{marker.color}<extra></extra>",
         "legendgroup": "",
         "marker": {
          "color": [
           0,
           0,
           3,
           1,
           1,
           1,
           3,
           1,
           2,
           1,
           2,
           1,
           3,
           1,
           2,
           0,
           3,
           0,
           2,
           1,
           2,
           0,
           3,
           0,
           3,
           0,
           3,
           0,
           3,
           1,
           2,
           1,
           2,
           0,
           3,
           1,
           3,
           1,
           3,
           1,
           3,
           0,
           2,
           1,
           3,
           1,
           3,
           1,
           1,
           1,
           3,
           0,
           1,
           2,
           3,
           2,
           3,
           2,
           1,
           2,
           2,
           0,
           3,
           3,
           2,
           0,
           3,
           3,
           0,
           1,
           2,
           3,
           3,
           3,
           2,
           0,
           3,
           2,
           1,
           3,
           2,
           0,
           2,
           3,
           1,
           2,
           3,
           1,
           1,
           3,
           3,
           0,
           2,
           3,
           1,
           0,
           3,
           1,
           2,
           0,
           1,
           3,
           2,
           0,
           2,
           1,
           3,
           2,
           2,
           2,
           2,
           1,
           3,
           0,
           1,
           1,
           3,
           3,
           3,
           3,
           0,
           3,
           1,
           0,
           1,
           1,
           2,
           0,
           2,
           0,
           2,
           0,
           1,
           1,
           2,
           1,
           3,
           0,
           2,
           1,
           3,
           0,
           1,
           1,
           2,
           0,
           2,
           1,
           3,
           0,
           2,
           0,
           3,
           1,
           3,
           1,
           2,
           1,
           2,
           1,
           3,
           1,
           2,
           1,
           2,
           1,
           2,
           1,
           3,
           0,
           2,
           0,
           2,
           0,
           3,
           1,
           2,
           0,
           2,
           0,
           3,
           1,
           2,
           1,
           3,
           0,
           3,
           0,
           3,
           1,
           3,
           1,
           2,
           1,
           3,
           1,
           3,
           0,
           2,
           0
          ],
          "coloraxis": "coloraxis",
          "symbol": "circle"
         },
         "mode": "markers",
         "name": "",
         "scene": "scene",
         "showlegend": false,
         "type": "scatter3d",
         "x": [
          0.5329554154544267,
          0.5139390667134287,
          -0.4462658933924117,
          -0.4787956942427831,
          -0.4519843241122703,
          -0.4790591911836292,
          -0.43069765191002396,
          -0.48682386336620875,
          0.597200843654843,
          -0.468528068690133,
          0.5947106258460314,
          -0.47701748258860005,
          -0.4115899103314941,
          -0.47682392240537047,
          0.5652824177778222,
          0.5171536810214014,
          -0.4444922146059205,
          0.52189242099482,
          0.573081626818302,
          -0.47555073072787524,
          0.5532226367511885,
          0.5241407705510638,
          -0.41744385430725806,
          0.5304163717511873,
          -0.41317978510359193,
          0.5246236440143832,
          -0.43124277726248295,
          0.5411715762432111,
          -0.43552899297951714,
          -0.48066249195043853,
          0.5953342185555505,
          -0.4754230922596605,
          0.5890190298047456,
          0.5097621853854798,
          -0.41700056839462013,
          -0.47870380089101094,
          -0.4253007823691859,
          -0.4654058828698723,
          -0.43511622888217777,
          -0.4757394301375367,
          -0.4102159321752073,
          0.5170038787289685,
          0.5694186585940602,
          -0.45718467138830643,
          -0.42256066622260274,
          -0.4662270681160728,
          -0.4348312758614162,
          -0.45395663108562256,
          -0.44944197311073186,
          -0.4474306137226378,
          -0.4338519303317024,
          0.5430421990742554,
          -0.4527139612234258,
          0.5694313941553191,
          -0.4291001095802987,
          0.5668757724565819,
          -0.43035620543720704,
          0.5867389501746606,
          -0.45451013174001176,
          0.5711311211415916,
          0.5832210787667972,
          0.5324320740877596,
          -0.41454208065964965,
          -0.431120534703776,
          0.5791676655669475,
          0.5299068015959579,
          -0.43743555084621766,
          -0.41129223906032397,
          0.5309124812900047,
          -0.4469960483286567,
          0.5844463075916807,
          -0.4291660312953136,
          -0.41935529025837653,
          -0.42285990827989195,
          0.578596723875245,
          0.5419046759501784,
          -0.4354770323951535,
          0.5589881499709924,
          -0.45710132594682823,
          -0.4259470567280129,
          0.5745827256177137,
          0.5534721725613834,
          0.5896461197317769,
          -0.42996541524487253,
          -0.4616159839217187,
          0.5680349069580872,
          -0.42719896493395604,
          -0.45888441568542904,
          -0.44907803490782044,
          -0.42597792376003785,
          -0.4121401036875843,
          0.5415754299026805,
          0.5679820660210573,
          -0.4325477163246691,
          -0.4415944733117638,
          0.5423437742118515,
          -0.42901257648785546,
          -0.4506281495208734,
          0.5717282070784141,
          0.5400645576235829,
          -0.4496618847691448,
          -0.42701883074543795,
          0.5825664291060398,
          0.5433362005195501,
          0.5659661737652718,
          -0.45217390387459816,
          -0.4106820723455163,
          0.5762426924449415,
          0.5918241873136777,
          0.5873095293387868,
          0.5843012107753025,
          -0.4599516568351626,
          -0.43459430300411644,
          0.5412854261891378,
          -0.45747033215337096,
          -0.4574659718940427,
          -0.40971144733445936,
          -0.43180151852886667,
          -0.42129655759134066,
          -0.42931147332841824,
          0.5450488356754445,
          -0.4328684144618736,
          -0.4393858839145647,
          0.5400769479681149,
          -0.44172178387410216,
          -0.45770801275497375,
          0.5726196569881078,
          0.5395630348644074,
          0.6007263653094839,
          0.5475648698234997,
          0.5896595284156383,
          0.5485705495175468,
          -0.44173067700112195,
          -0.4542210083791349,
          0.5649918616174894,
          -0.46450205992649635,
          -0.40886342740968573,
          0.5430151571656193,
          0.5617244063724872,
          -0.45021590324862365,
          -0.3943052258806735,
          0.5334850088901153,
          -0.4407515040797716,
          -0.46025979201947187,
          0.5674817342095744,
          0.5279426973161729,
          0.5785965339560317,
          -0.45350969265795926,
          -0.4252225049313389,
          0.5377229165378115,
          0.5833221931514654,
          0.5437526344427651,
          -0.41416438855615023,
          -0.44823541089255464,
          -0.40914471060457197,
          -0.4658064638527428,
          0.5852986704649324,
          -0.45728216787964926,
          0.5822816313827915,
          -0.45477886929285266,
          -0.4093646049521347,
          -0.46054962312465153,
          0.5659183662101733,
          -0.46306181483846803,
          0.5875466748044498,
          -0.4480554493123999,
          0.5827467185920713,
          -0.4608441597058859,
          -0.4235407368074694,
          0.5514030768409914,
          0.5844815002613338,
          0.5413724414564914,
          0.5819607606372237,
          0.5409066638137588,
          -0.40019910262384534,
          -0.45887221526011035,
          0.6018239383553025,
          0.5436122431024416,
          0.6045378929459155,
          0.5423514417694788,
          -0.42262312534180546,
          -0.45468714854944414,
          0.592171012385152,
          -0.4584639840304625,
          -0.42162197851545,
          0.5352675634927764,
          -0.40055520066076633,
          0.5482583819797858,
          -0.4096413725901794,
          -0.44871463184084875,
          -0.41968508875266436,
          -0.4447267951392873,
          0.5862246399216765,
          -0.447292000398497,
          -0.3990007430992351,
          -0.4426104616214368,
          -0.4055708808805928,
          0.5553152183478516,
          0.5860089159142288,
          0.5514546748977787
         ],
         "y": [
          -0.22784075480336982,
          -0.4930799092630325,
          0.08707858801453112,
          -0.3666167294915273,
          0.0030061860506973475,
          -0.3738215949716773,
          0.29588453975711626,
          -0.4857354306888693,
          0.6503076929360672,
          -0.23475757409135037,
          0.6153867690542376,
          -0.35344874852901026,
          0.5534860167652558,
          -0.35359718162716625,
          0.20358954795327833,
          -0.46633419311310226,
          0.09277798166635672,
          -0.4037356404070552,
          0.30048934989416387,
          -0.3474010879762274,
          0.021204103206143066,
          -0.3835342848090212,
          0.45469933172931815,
          -0.30005849974570153,
          0.502795922489157,
          -0.39147651437234865,
          0.25160045955405097,
          -0.1611967133719769,
          0.18858975191930658,
          -0.43944117795366644,
          0.5849595177001117,
          -0.36986305202054887,
          0.4866003594238558,
          -0.6159032034110474,
          0.43187372895305465,
          -0.4263985723428283,
          0.3130418073327311,
          -0.24523181984699893,
          0.1658179505514896,
          -0.3994045061933415,
          0.5073611689600926,
          -0.5333593310220153,
          0.19209884445292613,
          -0.148690371426364,
          0.3327618347626367,
          -0.2742688881051861,
          0.15803184000181034,
          -0.1070151665705435,
          -0.044214379357893914,
          -0.016311458280596748,
          0.16455314280722952,
          -0.18538175558220982,
          -0.10076527151115815,
          0.17712324025408163,
          0.2271286377667995,
          0.14231760510463765,
          0.2059492540015238,
          0.41411889265098256,
          -0.13633132849025661,
          0.19042956769546127,
          0.35780866458178245,
          -0.3467362496622253,
          0.41451454166004487,
          0.18428854206811965,
          0.2945803506094511,
          -0.3890719594462997,
          0.09340565701804757,
          0.45615131693840344,
          -0.375120498907651,
          -0.03912168922587551,
          0.36408930330313727,
          0.20481510682063392,
          0.3370941030650005,
          0.2882370904755071,
          0.2652949323517072,
          -0.2439602780131897,
          0.09897198940270209,
          -0.006762391109686492,
          -0.20098056922049645,
          0.23155313705507183,
          0.20947371836612821,
          -0.08352232477647703,
          0.418784056023319,
          0.17573960898498503,
          -0.26378135643314615,
          0.1188084396536432,
          0.20288979414811992,
          -0.23656968394607217,
          -0.10428300178621333,
          0.21665439201115094,
          0.40473154449461946,
          -0.26600240121332164,
          0.09647185096100054,
          0.11855126964994411,
          -0.007019561113385581,
          -0.25930192164777716,
          0.1673544808309909,
          -0.13261344962319246,
          0.14509588538192203,
          -0.2944020222897319,
          -0.1260690890712962,
          0.1878118723440739,
          0.29128791258747533,
          -0.2528036765888352,
          0.06110034257301208,
          -0.16095158337566384,
          0.4107945768783872,
          0.20042039936838793,
          0.4166795665906798,
          0.3538787793780302,
          0.3120090259310997,
          -0.27284236134637874,
          0.07575728944421849,
          -0.2881136976528848,
          -0.24538233885974828,
          -0.2453900247752406,
          0.417331251514791,
          0.11033763234058296,
          0.24944776871386404,
          0.13778228299622874,
          -0.24699668012011644,
          0.08901750139264385,
          -0.009177851954471454,
          -0.32433017294094396,
          -0.04417803569502545,
          -0.2675858662852199,
          0.12186581359245373,
          -0.3387629616477211,
          0.5125989396605227,
          -0.22707441818360855,
          0.35914055965088054,
          -0.21312295764496,
          -0.05163893709022442,
          -0.22617438325994071,
          0.009903461678506831,
          -0.3729630273660079,
          0.40165431210643,
          -0.29728999129850286,
          -0.039178843164066134,
          -0.17781407066956045,
          0.596516489225859,
          -0.4373474121770563,
          -0.052593907510988955,
          -0.3248280070287072,
          0.029871839107968767,
          -0.5215375035770762,
          0.1832456740471949,
          -0.23432653324536287,
          0.15628121747102747,
          -0.38920470592426326,
          0.24586728449971934,
          -0.30548825677687935,
          0.3097549693116544,
          -0.16480989463618417,
          0.37952764383588217,
          -0.40901041251323494,
          0.2738316929009553,
          -0.29038072539951376,
          0.2319773112850095,
          -0.2554828592641614,
          0.3722459192008085,
          -0.33946303024208674,
          -0.005911824208716918,
          -0.3818217977726382,
          0.279080502046622,
          -0.18736408966641402,
          0.20911327893128417,
          -0.3690429139923413,
          0.14718946889582535,
          -0.2307559533878043,
          0.22983439227490854,
          -0.37031667426724446,
          0.19496726980152557,
          -0.3773577348182539,
          0.4678938845246178,
          -0.34854709290179653,
          0.46676855734787037,
          -0.342623673612042,
          0.48653470027073,
          -0.3787479179141927,
          0.12391328161340281,
          -0.32274097534164614,
          0.29702124919836853,
          -0.37878748158030473,
          0.1303961548413601,
          -0.4987601022083603,
          0.41599278391270533,
          -0.3247213560377573,
          0.2830148531626232,
          -0.2613534289714126,
          0.14347719002966008,
          -0.20548609949287913,
          0.161014602256852,
          -0.277657728942257,
          0.36974256075586337,
          -0.23738807901336004,
          0.25668689194228916,
          -0.3166174074598827,
          0.07167593340177361,
          -0.40989924743510486
         ],
         "z": [
          0.3218595366575176,
          -0.01620161832615632,
          0.5557614264464051,
          -0.010713599367910989,
          0.15920800530067933,
          0.010328077573316002,
          0.35945860487711084,
          -0.13596443212006604,
          -0.0007627736185476235,
          -0.06423706998426217,
          -0.12186309939182476,
          -0.3304028473900963,
          -0.0088458815181258,
          -0.021985700659772425,
          0.2805121193961291,
          -0.012158563486913528,
          0.14560216491315103,
          0.11110748593999449,
          -0.03408795605437245,
          -0.3211026045371338,
          0.14538425885497339,
          -0.005192059729617803,
          0.22552308886707553,
          -0.08361932179805487,
          0.054929422430341886,
          -0.12271866346005515,
          0.03966190471529032,
          -0.04573411331053159,
          0.11330131156641061,
          -0.07884138968817883,
          0.0495747053844277,
          0.051847571406079825,
          0.14302873111594988,
          -0.049957358899340075,
          0.12302324879972341,
          -0.0061277235435164565,
          0.19326987393638784,
          -0.06461998970556838,
          0.20676826218428102,
          0.05343651012367262,
          -0.24090215187219877,
          -0.12650728978216533,
          -0.025941283073486216,
          0.01365218180718094,
          0.021918482235232073,
          0.07600656248009166,
          -0.1911802324643057,
          0.17064000785638625,
          0.18145570123819285,
          0.1551568362832462,
          -0.15482339939197454,
          -0.00544167753859277,
          0.06748989466424732,
          -0.3468575891564965,
          -0.11554311740159033,
          -0.048029077747154245,
          -0.165337775419414,
          -0.37396181779191817,
          0.14376435796540152,
          -0.16263223255953874,
          -0.4604017013500918,
          0.2176422666683991,
          -0.3891665200044798,
          -0.270184279468781,
          -0.33030245007821935,
          0.20203871806927573,
          -0.05826498441401543,
          -0.37215497301614764,
          0.18888928559180237,
          0.10864750784024328,
          -0.4515707912935323,
          -0.05101008818870059,
          -0.27344375927090564,
          -0.3254041409423602,
          -0.2451970767205056,
          0.13677381336466007,
          -0.10401658759259617,
          -0.0027807713158628446,
          0.19269383857916791,
          -0.07496228916163251,
          -0.24858985843496154,
          -0.0284422880323707,
          -0.30585506653618855,
          -0.05035981506391376,
          0.18187814519736129,
          -0.09313040780094825,
          -0.271217472314874,
          0.18498253444379817,
          -0.00945588082623212,
          -0.11592603712289652,
          -0.41895269392716955,
          0.34081378884201996,
          -0.11258314602458239,
          0.06104442324874665,
          0.15139405973383208,
          0.18073449843272582,
          -0.08296198576502124,
          0.15775792878239353,
          -0.06015343155672493,
          0.25607029614107407,
          0.27810052929124873,
          -0.11574509679451271,
          -0.4357128141772766,
          0.13310556406853313,
          -0.1767542945807044,
          0.29697648257884474,
          -0.35366193944985785,
          -0.16780300749816165,
          -0.3296263271807365,
          -0.3404420205625431,
          -0.3569842347544722,
          0.23466974032198662,
          0.07437479605460387,
          0.2928964620098082,
          0.2932953083963698,
          0.2653000525841951,
          -0.2613145947531773,
          -0.19598912674616098,
          -0.1025827394306913,
          -0.193354070296127,
          0.11487988390572393,
          0.09062861777851408,
          -0.06834399159593833,
          -0.30177654858842284,
          0.3709301316706801,
          -0.0905650881819376,
          0.06224744046612596,
          -0.34367896214249294,
          0.030006400842968114,
          -0.16892186384053326,
          0.2026454139073495,
          -0.18207129631800661,
          0.3084553739717862,
          -0.04508895258502776,
          0.5883104030613382,
          -0.14451025317863914,
          0.25950410471466306,
          -0.07424078004818596,
          0.5648146099984613,
          -0.10417092856946585,
          0.10434597143501696,
          -0.22176034780239298,
          0.2263469377208741,
          -0.1751276405544996,
          0.47248019018812865,
          -0.19791559896909633,
          -0.008106636810173594,
          -0.07816045608253822,
          0.28200141846115173,
          -0.22438247936607877,
          0.19914518005325837,
          -0.2752838184187443,
          0.16535291702111957,
          -0.17143354148567666,
          0.15559626625810224,
          -0.12328763590902828,
          0.3968083615957087,
          -0.08108390500059114,
          0.43625665902812866,
          -0.043969346663837956,
          -0.10331461492241732,
          -0.10457969806346812,
          0.6052144979100351,
          -0.20416901409911536,
          0.043578277279609924,
          -0.13442643528855852,
          0.1937805398999035,
          -0.24296703840674855,
          0.22281199033707855,
          0.006558995774962007,
          0.27250911932270766,
          -0.029918214323352493,
          0.34737558423465303,
          -0.26130317248810003,
          0.11681116683681707,
          -0.13577387037536678,
          0.021442844189889163,
          0.028238020954627793,
          0.01806298736178136,
          -0.2304919198975077,
          0.17724132748688154,
          -0.15784874016268677,
          0.1839293618835989,
          -0.13277693326856502,
          0.07362188149833954,
          -0.21388914240317775,
          0.01496159989425176,
          0.02861282649774351,
          0.23880326936566562,
          -0.20020756162681166,
          0.2863118267038751,
          -0.028843245039307894,
          0.4138723577082512,
          -0.2663505686218326,
          0.17530824370702677,
          -0.13454200160638405,
          0.11534816543218336,
          -0.056789053506179556,
          0.3640566606258893,
          -0.09213373279695615
         ]
        }
       ],
       "layout": {
        "coloraxis": {
         "colorbar": {
          "title": {
           "text": "Cluster"
          }
         },
         "colorscale": [
          [
           0,
           "#0d0887"
          ],
          [
           0.1111111111111111,
           "#46039f"
          ],
          [
           0.2222222222222222,
           "#7201a8"
          ],
          [
           0.3333333333333333,
           "#9c179e"
          ],
          [
           0.4444444444444444,
           "#bd3786"
          ],
          [
           0.5555555555555556,
           "#d8576b"
          ],
          [
           0.6666666666666666,
           "#ed7953"
          ],
          [
           0.7777777777777778,
           "#fb9f3a"
          ],
          [
           0.8888888888888888,
           "#fdca26"
          ],
          [
           1,
           "#f0f921"
          ]
         ]
        },
        "legend": {
         "tracegroupgap": 0
        },
        "margin": {
         "t": 60
        },
        "scene": {
         "domain": {
          "x": [
           0,
           1
          ],
          "y": [
           0,
           1
          ]
         },
         "xaxis": {
          "title": {
           "text": "pca_x"
          }
         },
         "yaxis": {
          "title": {
           "text": "pca_y"
          }
         },
         "zaxis": {
          "title": {
           "text": "pca_z"
          }
         }
        },
        "template": {
         "data": {
          "bar": [
           {
            "error_x": {
             "color": "#2a3f5f"
            },
            "error_y": {
             "color": "#2a3f5f"
            },
            "marker": {
             "line": {
              "color": "#E5ECF6",
              "width": 0.5
             },
             "pattern": {
              "fillmode": "overlay",
              "size": 10,
              "solidity": 0.2
             }
            },
            "type": "bar"
           }
          ],
          "barpolar": [
           {
            "marker": {
             "line": {
              "color": "#E5ECF6",
              "width": 0.5
             },
             "pattern": {
              "fillmode": "overlay",
              "size": 10,
              "solidity": 0.2
             }
            },
            "type": "barpolar"
           }
          ],
          "carpet": [
           {
            "aaxis": {
             "endlinecolor": "#2a3f5f",
             "gridcolor": "white",
             "linecolor": "white",
             "minorgridcolor": "white",
             "startlinecolor": "#2a3f5f"
            },
            "baxis": {
             "endlinecolor": "#2a3f5f",
             "gridcolor": "white",
             "linecolor": "white",
             "minorgridcolor": "white",
             "startlinecolor": "#2a3f5f"
            },
            "type": "carpet"
           }
          ],
          "choropleth": [
           {
            "colorbar": {
             "outlinewidth": 0,
             "ticks": ""
            },
            "type": "choropleth"
           }
          ],
          "contour": [
           {
            "colorbar": {
             "outlinewidth": 0,
             "ticks": ""
            },
            "colorscale": [
             [
              0,
              "#0d0887"
             ],
             [
              0.1111111111111111,
              "#46039f"
             ],
             [
              0.2222222222222222,
              "#7201a8"
             ],
             [
              0.3333333333333333,
              "#9c179e"
             ],
             [
              0.4444444444444444,
              "#bd3786"
             ],
             [
              0.5555555555555556,
              "#d8576b"
             ],
             [
              0.6666666666666666,
              "#ed7953"
             ],
             [
              0.7777777777777778,
              "#fb9f3a"
             ],
             [
              0.8888888888888888,
              "#fdca26"
             ],
             [
              1,
              "#f0f921"
             ]
            ],
            "type": "contour"
           }
          ],
          "contourcarpet": [
           {
            "colorbar": {
             "outlinewidth": 0,
             "ticks": ""
            },
            "type": "contourcarpet"
           }
          ],
          "heatmap": [
           {
            "colorbar": {
             "outlinewidth": 0,
             "ticks": ""
            },
            "colorscale": [
             [
              0,
              "#0d0887"
             ],
             [
              0.1111111111111111,
              "#46039f"
             ],
             [
              0.2222222222222222,
              "#7201a8"
             ],
             [
              0.3333333333333333,
              "#9c179e"
             ],
             [
              0.4444444444444444,
              "#bd3786"
             ],
             [
              0.5555555555555556,
              "#d8576b"
             ],
             [
              0.6666666666666666,
              "#ed7953"
             ],
             [
              0.7777777777777778,
              "#fb9f3a"
             ],
             [
              0.8888888888888888,
              "#fdca26"
             ],
             [
              1,
              "#f0f921"
             ]
            ],
            "type": "heatmap"
           }
          ],
          "heatmapgl": [
           {
            "colorbar": {
             "outlinewidth": 0,
             "ticks": ""
            },
            "colorscale": [
             [
              0,
              "#0d0887"
             ],
             [
              0.1111111111111111,
              "#46039f"
             ],
             [
              0.2222222222222222,
              "#7201a8"
             ],
             [
              0.3333333333333333,
              "#9c179e"
             ],
             [
              0.4444444444444444,
              "#bd3786"
             ],
             [
              0.5555555555555556,
              "#d8576b"
             ],
             [
              0.6666666666666666,
              "#ed7953"
             ],
             [
              0.7777777777777778,
              "#fb9f3a"
             ],
             [
              0.8888888888888888,
              "#fdca26"
             ],
             [
              1,
              "#f0f921"
             ]
            ],
            "type": "heatmapgl"
           }
          ],
          "histogram": [
           {
            "marker": {
             "pattern": {
              "fillmode": "overlay",
              "size": 10,
              "solidity": 0.2
             }
            },
            "type": "histogram"
           }
          ],
          "histogram2d": [
           {
            "colorbar": {
             "outlinewidth": 0,
             "ticks": ""
            },
            "colorscale": [
             [
              0,
              "#0d0887"
             ],
             [
              0.1111111111111111,
              "#46039f"
             ],
             [
              0.2222222222222222,
              "#7201a8"
             ],
             [
              0.3333333333333333,
              "#9c179e"
             ],
             [
              0.4444444444444444,
              "#bd3786"
             ],
             [
              0.5555555555555556,
              "#d8576b"
             ],
             [
              0.6666666666666666,
              "#ed7953"
             ],
             [
              0.7777777777777778,
              "#fb9f3a"
             ],
             [
              0.8888888888888888,
              "#fdca26"
             ],
             [
              1,
              "#f0f921"
             ]
            ],
            "type": "histogram2d"
           }
          ],
          "histogram2dcontour": [
           {
            "colorbar": {
             "outlinewidth": 0,
             "ticks": ""
            },
            "colorscale": [
             [
              0,
              "#0d0887"
             ],
             [
              0.1111111111111111,
              "#46039f"
             ],
             [
              0.2222222222222222,
              "#7201a8"
             ],
             [
              0.3333333333333333,
              "#9c179e"
             ],
             [
              0.4444444444444444,
              "#bd3786"
             ],
             [
              0.5555555555555556,
              "#d8576b"
             ],
             [
              0.6666666666666666,
              "#ed7953"
             ],
             [
              0.7777777777777778,
              "#fb9f3a"
             ],
             [
              0.8888888888888888,
              "#fdca26"
             ],
             [
              1,
              "#f0f921"
             ]
            ],
            "type": "histogram2dcontour"
           }
          ],
          "mesh3d": [
           {
            "colorbar": {
             "outlinewidth": 0,
             "ticks": ""
            },
            "type": "mesh3d"
           }
          ],
          "parcoords": [
           {
            "line": {
             "colorbar": {
              "outlinewidth": 0,
              "ticks": ""
             }
            },
            "type": "parcoords"
           }
          ],
          "pie": [
           {
            "automargin": true,
            "type": "pie"
           }
          ],
          "scatter": [
           {
            "fillpattern": {
             "fillmode": "overlay",
             "size": 10,
             "solidity": 0.2
            },
            "type": "scatter"
           }
          ],
          "scatter3d": [
           {
            "line": {
             "colorbar": {
              "outlinewidth": 0,
              "ticks": ""
             }
            },
            "marker": {
             "colorbar": {
              "outlinewidth": 0,
              "ticks": ""
             }
            },
            "type": "scatter3d"
           }
          ],
          "scattercarpet": [
           {
            "marker": {
             "colorbar": {
              "outlinewidth": 0,
              "ticks": ""
             }
            },
            "type": "scattercarpet"
           }
          ],
          "scattergeo": [
           {
            "marker": {
             "colorbar": {
              "outlinewidth": 0,
              "ticks": ""
             }
            },
            "type": "scattergeo"
           }
          ],
          "scattergl": [
           {
            "marker": {
             "colorbar": {
              "outlinewidth": 0,
              "ticks": ""
             }
            },
            "type": "scattergl"
           }
          ],
          "scattermapbox": [
           {
            "marker": {
             "colorbar": {
              "outlinewidth": 0,
              "ticks": ""
             }
            },
            "type": "scattermapbox"
           }
          ],
          "scatterpolar": [
           {
            "marker": {
             "colorbar": {
              "outlinewidth": 0,
              "ticks": ""
             }
            },
            "type": "scatterpolar"
           }
          ],
          "scatterpolargl": [
           {
            "marker": {
             "colorbar": {
              "outlinewidth": 0,
              "ticks": ""
             }
            },
            "type": "scatterpolargl"
           }
          ],
          "scatterternary": [
           {
            "marker": {
             "colorbar": {
              "outlinewidth": 0,
              "ticks": ""
             }
            },
            "type": "scatterternary"
           }
          ],
          "surface": [
           {
            "colorbar": {
             "outlinewidth": 0,
             "ticks": ""
            },
            "colorscale": [
             [
              0,
              "#0d0887"
             ],
             [
              0.1111111111111111,
              "#46039f"
             ],
             [
              0.2222222222222222,
              "#7201a8"
             ],
             [
              0.3333333333333333,
              "#9c179e"
             ],
             [
              0.4444444444444444,
              "#bd3786"
             ],
             [
              0.5555555555555556,
              "#d8576b"
             ],
             [
              0.6666666666666666,
              "#ed7953"
             ],
             [
              0.7777777777777778,
              "#fb9f3a"
             ],
             [
              0.8888888888888888,
              "#fdca26"
             ],
             [
              1,
              "#f0f921"
             ]
            ],
            "type": "surface"
           }
          ],
          "table": [
           {
            "cells": {
             "fill": {
              "color": "#EBF0F8"
             },
             "line": {
              "color": "white"
             }
            },
            "header": {
             "fill": {
              "color": "#C8D4E3"
             },
             "line": {
              "color": "white"
             }
            },
            "type": "table"
           }
          ]
         },
         "layout": {
          "annotationdefaults": {
           "arrowcolor": "#2a3f5f",
           "arrowhead": 0,
           "arrowwidth": 1
          },
          "autotypenumbers": "strict",
          "coloraxis": {
           "colorbar": {
            "outlinewidth": 0,
            "ticks": ""
           }
          },
          "colorscale": {
           "diverging": [
            [
             0,
             "#8e0152"
            ],
            [
             0.1,
             "#c51b7d"
            ],
            [
             0.2,
             "#de77ae"
            ],
            [
             0.3,
             "#f1b6da"
            ],
            [
             0.4,
             "#fde0ef"
            ],
            [
             0.5,
             "#f7f7f7"
            ],
            [
             0.6,
             "#e6f5d0"
            ],
            [
             0.7,
             "#b8e186"
            ],
            [
             0.8,
             "#7fbc41"
            ],
            [
             0.9,
             "#4d9221"
            ],
            [
             1,
             "#276419"
            ]
           ],
           "sequential": [
            [
             0,
             "#0d0887"
            ],
            [
             0.1111111111111111,
             "#46039f"
            ],
            [
             0.2222222222222222,
             "#7201a8"
            ],
            [
             0.3333333333333333,
             "#9c179e"
            ],
            [
             0.4444444444444444,
             "#bd3786"
            ],
            [
             0.5555555555555556,
             "#d8576b"
            ],
            [
             0.6666666666666666,
             "#ed7953"
            ],
            [
             0.7777777777777778,
             "#fb9f3a"
            ],
            [
             0.8888888888888888,
             "#fdca26"
            ],
            [
             1,
             "#f0f921"
            ]
           ],
           "sequentialminus": [
            [
             0,
             "#0d0887"
            ],
            [
             0.1111111111111111,
             "#46039f"
            ],
            [
             0.2222222222222222,
             "#7201a8"
            ],
            [
             0.3333333333333333,
             "#9c179e"
            ],
            [
             0.4444444444444444,
             "#bd3786"
            ],
            [
             0.5555555555555556,
             "#d8576b"
            ],
            [
             0.6666666666666666,
             "#ed7953"
            ],
            [
             0.7777777777777778,
             "#fb9f3a"
            ],
            [
             0.8888888888888888,
             "#fdca26"
            ],
            [
             1,
             "#f0f921"
            ]
           ]
          },
          "colorway": [
           "#636efa",
           "#EF553B",
           "#00cc96",
           "#ab63fa",
           "#FFA15A",
           "#19d3f3",
           "#FF6692",
           "#B6E880",
           "#FF97FF",
           "#FECB52"
          ],
          "font": {
           "color": "#2a3f5f"
          },
          "geo": {
           "bgcolor": "white",
           "lakecolor": "white",
           "landcolor": "#E5ECF6",
           "showlakes": true,
           "showland": true,
           "subunitcolor": "white"
          },
          "hoverlabel": {
           "align": "left"
          },
          "hovermode": "closest",
          "mapbox": {
           "style": "light"
          },
          "paper_bgcolor": "white",
          "plot_bgcolor": "#E5ECF6",
          "polar": {
           "angularaxis": {
            "gridcolor": "white",
            "linecolor": "white",
            "ticks": ""
           },
           "bgcolor": "#E5ECF6",
           "radialaxis": {
            "gridcolor": "white",
            "linecolor": "white",
            "ticks": ""
           }
          },
          "scene": {
           "xaxis": {
            "backgroundcolor": "#E5ECF6",
            "gridcolor": "white",
            "gridwidth": 2,
            "linecolor": "white",
            "showbackground": true,
            "ticks": "",
            "zerolinecolor": "white"
           },
           "yaxis": {
            "backgroundcolor": "#E5ECF6",
            "gridcolor": "white",
            "gridwidth": 2,
            "linecolor": "white",
            "showbackground": true,
            "ticks": "",
            "zerolinecolor": "white"
           },
           "zaxis": {
            "backgroundcolor": "#E5ECF6",
            "gridcolor": "white",
            "gridwidth": 2,
            "linecolor": "white",
            "showbackground": true,
            "ticks": "",
            "zerolinecolor": "white"
           }
          },
          "shapedefaults": {
           "line": {
            "color": "#2a3f5f"
           }
          },
          "ternary": {
           "aaxis": {
            "gridcolor": "white",
            "linecolor": "white",
            "ticks": ""
           },
           "baxis": {
            "gridcolor": "white",
            "linecolor": "white",
            "ticks": ""
           },
           "bgcolor": "#E5ECF6",
           "caxis": {
            "gridcolor": "white",
            "linecolor": "white",
            "ticks": ""
           }
          },
          "title": {
           "x": 0.05
          },
          "xaxis": {
           "automargin": true,
           "gridcolor": "white",
           "linecolor": "white",
           "ticks": "",
           "title": {
            "standoff": 15
           },
           "zerolinecolor": "white",
           "zerolinewidth": 2
          },
          "yaxis": {
           "automargin": true,
           "gridcolor": "white",
           "linecolor": "white",
           "ticks": "",
           "title": {
            "standoff": 15
           },
           "zerolinecolor": "white",
           "zerolinewidth": 2
          }
         }
        }
       }
      }
     },
     "metadata": {},
     "output_type": "display_data"
    }
   ],
   "source": [
    "import plotly.express as px\n",
    "fig = px.scatter_3d(df_3D, x='pca_x', y='pca_y', z='pca_z',color='Cluster')\n",
    "fig.show()"
   ]
  }
 ],
 "metadata": {
  "kernelspec": {
   "display_name": "Python 3",
   "language": "python",
   "name": "python3"
  },
  "language_info": {
   "codemirror_mode": {
    "name": "ipython",
    "version": 3
   },
   "file_extension": ".py",
   "mimetype": "text/x-python",
   "name": "python",
   "nbconvert_exporter": "python",
   "pygments_lexer": "ipython3",
   "version": "3.10.11"
  },
  "orig_nbformat": 4
 },
 "nbformat": 4,
 "nbformat_minor": 2
}
