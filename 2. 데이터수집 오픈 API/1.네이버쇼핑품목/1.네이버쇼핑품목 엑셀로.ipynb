{
 "cells": [
  {
   "attachments": {},
   "cell_type": "markdown",
   "metadata": {},
   "source": [
    "## 네이버 쇼핑품목 1000개 엑셀 보고서 만들기\n",
    "\n",
    "* 네이버 API를 사용하여 쇼핑 품목을 가져온다.\n",
    "* 가져온 데이터를 엑셀로 만든다."
   ]
  },
  {
   "cell_type": "code",
   "execution_count": 1,
   "metadata": {},
   "outputs": [
    {
     "name": "stdout",
     "output_type": "stream",
     "text": [
      "1\n",
      "101\n",
      "201\n",
      "301\n",
      "401\n",
      "501\n",
      "601\n",
      "701\n",
      "801\n",
      "901\n"
     ]
    }
   ],
   "source": [
    "for i in range(1,1000,100):\n",
    "    print(i)\n"
   ]
  },
  {
   "cell_type": "code",
   "execution_count": 35,
   "metadata": {},
   "outputs": [],
   "source": [
    "import requests\n",
    "import pprint # JSON 출력 이쁘게\n",
    "import pandas as pd\n",
    "\n",
    "# 네이버에서 받은 아이디와 패스워드 할당\n",
    "client_id = 'Wt4weCJvDQk0xBqZgh2n'\n",
    "client_secret = 'DU1HhY5PLd'\n",
    "\n",
    "#검색어\n",
    "query = '우산'\n",
    "\n",
    "#네이버 쇼핑 URL\n",
    "naver_open_api = 'https://openapi.naver.com/v1/search/shop.json'\n",
    "\n",
    "header_params = {\"X-Naver-Client-Id\":'Wt4weCJvDQk0xBqZgh2n', \"X-Naver-Client-Secret\":'DU1HhY5PLd'}\n",
    "\n",
    "idx_list = []\n",
    "title_lst = []\n",
    "lnk_lst = []\n",
    "\n",
    "# 요청변수\n",
    "for i in range(10):\n",
    "    start = (i*100) + 1\n",
    "\n",
    "    params = {'query':query, 'display': 100, 'sort': 'sim', 'start': start}\n",
    "\n",
    "# 패턴 코드\n",
    "\n",
    "    res = requests.get(naver_open_api, headers=header_params, params=params)\n",
    "    #print(f'[{i}]{res.url}')\n",
    "    \n",
    "    # 검색 결과\n",
    "    data = res.json()\n",
    "    \n",
    "    # 데이터 추출\n",
    "    for index, item in enumerate(data['items']):\n",
    "        title = item['title']\n",
    "        idx_list.append(start + index)\n",
    "        title_lst.append(title.replace('<b>', '').replace('</b>', ''))\n",
    "        lnk_lst.append(item['link'])\n",
    "\n",
    "df = pd.DataFrame({'index': idx_list, '제목': title_lst, '링크': lnk_lst})\n",
    "df\n",
    "df.to_excel(f'./1.네이버쇼핑품목 엑셀로.ipynb.xlsx', index = False)"
   ]
  },
  {
   "cell_type": "code",
   "execution_count": 17,
   "metadata": {},
   "outputs": [
    {
     "data": {
      "text/plain": [
       "(1000, 1000, 1000)"
      ]
     },
     "execution_count": 17,
     "metadata": {},
     "output_type": "execute_result"
    }
   ],
   "source": [
    "len(idx_list), len(title_lst), len(lnk_lst)"
   ]
  },
  {
   "cell_type": "code",
   "execution_count": 8,
   "metadata": {},
   "outputs": [
    {
     "data": {
      "text/html": [
       "<div>\n",
       "<style scoped>\n",
       "    .dataframe tbody tr th:only-of-type {\n",
       "        vertical-align: middle;\n",
       "    }\n",
       "\n",
       "    .dataframe tbody tr th {\n",
       "        vertical-align: top;\n",
       "    }\n",
       "\n",
       "    .dataframe thead th {\n",
       "        text-align: right;\n",
       "    }\n",
       "</style>\n",
       "<table border=\"1\" class=\"dataframe\">\n",
       "  <thead>\n",
       "    <tr style=\"text-align: right;\">\n",
       "      <th></th>\n",
       "      <th>index</th>\n",
       "      <th>제목</th>\n",
       "      <th>링크</th>\n",
       "    </tr>\n",
       "  </thead>\n",
       "  <tbody>\n",
       "    <tr>\n",
       "      <th>0</th>\n",
       "      <td>1</td>\n",
       "      <td>예쁜 패션 파스텔 16K 방수 튼튼한 장우산&gt; 자동 우드 우산&gt;</td>\n",
       "      <td>https://search.shopping.naver.com/gate.nhn?id=...</td>\n",
       "    </tr>\n",
       "    <tr>\n",
       "      <th>1</th>\n",
       "      <td>2</td>\n",
       "      <td>원터치 암막 자동 캔디 3단 우산&gt;</td>\n",
       "      <td>https://search.shopping.naver.com/gate.nhn?id=...</td>\n",
       "    </tr>\n",
       "    <tr>\n",
       "      <th>2</th>\n",
       "      <td>3</td>\n",
       "      <td>튼튼한 자동 3단우산&gt; 거꾸로 우산&gt; 반전</td>\n",
       "      <td>https://search.shopping.naver.com/gate.nhn?id=...</td>\n",
       "    </tr>\n",
       "    <tr>\n",
       "      <th>3</th>\n",
       "      <td>4</td>\n",
       "      <td>거꾸로우산&gt; C형손잡이 반대로 펴고 접는 반전우산&gt;</td>\n",
       "      <td>https://search.shopping.naver.com/gate.nhn?id=...</td>\n",
       "    </tr>\n",
       "    <tr>\n",
       "      <th>4</th>\n",
       "      <td>5</td>\n",
       "      <td>산리오 투명우산&gt; 유아동 캐릭터 쿠로미 마이멜로디 시나모롤 폼폼푸린 성인 사용가능</td>\n",
       "      <td>https://search.shopping.naver.com/gate.nhn?id=...</td>\n",
       "    </tr>\n",
       "  </tbody>\n",
       "</table>\n",
       "</div>"
      ],
      "text/plain": [
       "   index                                             제목  \\\n",
       "0      1            예쁜 패션 파스텔 16K 방수 튼튼한 장우산> 자동 우드 우산>   \n",
       "1      2                            원터치 암막 자동 캔디 3단 우산>   \n",
       "2      3                        튼튼한 자동 3단우산> 거꾸로 우산> 반전   \n",
       "3      4                   거꾸로우산> C형손잡이 반대로 펴고 접는 반전우산>   \n",
       "4      5  산리오 투명우산> 유아동 캐릭터 쿠로미 마이멜로디 시나모롤 폼폼푸린 성인 사용가능   \n",
       "\n",
       "                                                  링크  \n",
       "0  https://search.shopping.naver.com/gate.nhn?id=...  \n",
       "1  https://search.shopping.naver.com/gate.nhn?id=...  \n",
       "2  https://search.shopping.naver.com/gate.nhn?id=...  \n",
       "3  https://search.shopping.naver.com/gate.nhn?id=...  \n",
       "4  https://search.shopping.naver.com/gate.nhn?id=...  "
      ]
     },
     "execution_count": 8,
     "metadata": {},
     "output_type": "execute_result"
    }
   ],
   "source": [
    "df.head()"
   ]
  },
  {
   "cell_type": "code",
   "execution_count": null,
   "metadata": {},
   "outputs": [],
   "source": []
  }
 ],
 "metadata": {
  "kernelspec": {
   "display_name": "Python 3",
   "language": "python",
   "name": "python3"
  },
  "language_info": {
   "codemirror_mode": {
    "name": "ipython",
    "version": 3
   },
   "file_extension": ".py",
   "mimetype": "text/x-python",
   "name": "python",
   "nbconvert_exporter": "python",
   "pygments_lexer": "ipython3",
   "version": "3.10.11"
  },
  "orig_nbformat": 4
 },
 "nbformat": 4,
 "nbformat_minor": 2
}
