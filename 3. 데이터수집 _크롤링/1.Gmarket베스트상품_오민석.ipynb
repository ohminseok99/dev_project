{
 "cells": [
  {
   "attachments": {},
   "cell_type": "markdown",
   "metadata": {},
   "source": [
    "## Gmartket 베스트 상품 이미지 크롤링"
   ]
  },
  {
   "attachments": {},
   "cell_type": "markdown",
   "metadata": {},
   "source": [
    "### Gmartket 베스트 상품 이미지 크롤링\n",
    "* 패션 의류 탑 5 상품 이미지"
   ]
  },
  {
   "cell_type": "code",
   "execution_count": null,
   "metadata": {},
   "outputs": [],
   "source": [
    "#http://corners.gmarket.co.kr/Bestsellers?viewType=G&groupCode=G01\n",
    "#http://corners.gmarket.co.kr/Bestsellers?viewType=G&groupCode=G02\n",
    "#http://corners.gmarket.co.kr/Bestsellers?viewType=G&groupCode=G03"
   ]
  },
  {
   "cell_type": "code",
   "execution_count": 1,
   "metadata": {},
   "outputs": [],
   "source": [
    "import requests\n",
    "from bs4 import BeautifulSoup\n",
    "\n",
    "crawl_num = 5   #수집할 이미지 개수\n",
    "best_url = 'http://corners.gmarket.co.kr/Bestsellers?viewType=G&groupCode=G01'\n",
    "\n",
    "res = requests.get(best_url)\n",
    "\n",
    "soup = BeautifulSoup(res.content, 'html.parser')\n"
   ]
  },
  {
   "cell_type": "code",
   "execution_count": 2,
   "metadata": {},
   "outputs": [],
   "source": [
    "products = soup.select('#gBestWrap > div.best-list > ul > li')"
   ]
  },
  {
   "cell_type": "code",
   "execution_count": 3,
   "metadata": {},
   "outputs": [
    {
     "data": {
      "text/plain": [
       "100"
      ]
     },
     "execution_count": 3,
     "metadata": {},
     "output_type": "execute_result"
    }
   ],
   "source": [
    "len(products)"
   ]
  },
  {
   "cell_type": "code",
   "execution_count": 4,
   "metadata": {},
   "outputs": [
    {
     "data": {
      "text/plain": [
       "'시즌오프가 1+1 남여공용 비침없는 면 프린팅 티셔츠 장당 3750원 딱 오늘만 가능한 가격'"
      ]
     },
     "execution_count": 4,
     "metadata": {},
     "output_type": "execute_result"
    }
   ],
   "source": [
    "# 첫 번째 상품 이름 출력\n",
    "products[0].select_one('a.itemname').getText()\n"
   ]
  },
  {
   "cell_type": "code",
   "execution_count": 5,
   "metadata": {},
   "outputs": [
    {
     "data": {
      "text/plain": [
       "<img alt=\"시즌오프가 1+1 남여공용 비침없는 면 프린팅 티셔츠 장당 3750원 딱 오늘만 가능한 가격\" class=\"image__lazy\" decoding=\"async\" height=\"210\" loading=\"lazy\" src=\"//gdimg.gmarket.co.kr/3057263239/still/300?ver=20230724\" width=\"210\"/>"
      ]
     },
     "execution_count": 5,
     "metadata": {},
     "output_type": "execute_result"
    }
   ],
   "source": [
    "# 첫 번째 상품 이미지 링크 출력\n",
    "img_tag = products[0].select_one('img.image__lazy')\n",
    "img_tag"
   ]
  },
  {
   "cell_type": "code",
   "execution_count": 6,
   "metadata": {},
   "outputs": [
    {
     "data": {
      "text/plain": [
       "'//gdimg.gmarket.co.kr/3057263239/still/300?ver=20230724'"
      ]
     },
     "execution_count": 6,
     "metadata": {},
     "output_type": "execute_result"
    }
   ],
   "source": [
    "img_tag['src']\n",
    "#https://gdimg.gmarket.co.kr/3057263239/still/300?ver=20230724"
   ]
  },
  {
   "cell_type": "code",
   "execution_count": 7,
   "metadata": {},
   "outputs": [
    {
     "name": "stdout",
     "output_type": "stream",
     "text": [
      "Image downloaded successfully.\n"
     ]
    }
   ],
   "source": [
    "# 이미지 다운로드하기\n",
    "import urllib.request\n",
    "\n",
    "filename = \"img_테스트.jpg\"\n",
    "img_url = 'https://gdimg.gmarket.co.kr/3057263239/still/300?ver=20230724'\n",
    "\n",
    "urllib.request.urlretrieve(img_url, filename)\n",
    "\n",
    "print(\"Image downloaded successfully.\")"
   ]
  },
  {
   "attachments": {},
   "cell_type": "markdown",
   "metadata": {},
   "source": [
    "## 패션의류 탑5 이미지 추출"
   ]
  },
  {
   "cell_type": "code",
   "execution_count": 9,
   "metadata": {},
   "outputs": [
    {
     "name": "stdout",
     "output_type": "stream",
     "text": [
      "Image Crawling is done\n"
     ]
    }
   ],
   "source": [
    "import requests\n",
    "from urllib import request\n",
    "from urllib.request import urlopen\n",
    "from bs4 import BeautifulSoup\n",
    "\n",
    "crawl_num = 5   #크롤 갯수\n",
    "best_url = 'http://corners.gmarket.co.kr/Bestsellers?viewType=G&groupCode=G01'\n",
    "\n",
    "res = requests.get(best_url)\n",
    "\n",
    "soup = BeautifulSoup(res.content, 'html.parser')\n",
    "                 \n",
    "products = soup.select('div.best-list > ul > li')       ## 베스트 상품 리스트\n",
    "\n",
    "for index, product in enumerate(products):\n",
    "    #print(index)\n",
    "    title = product.select_one('a.itemname').getText()  # 상품명\n",
    "\n",
    "    img_tag = product.select_one('img.image__lazy')        \n",
    "    img_url = 'https:'+ img_tag['src']                  # 상품 이미지 URL\n",
    "    # print(title,img_url)\n",
    "\n",
    "    filename = f'./image/img_{index +1}.png'            # 이미지 저장\n",
    "    urllib.request.urlretrieve(img_url,filename )\n",
    "\n",
    "    if index == crawl_num -1:\n",
    "        break\n",
    "\n",
    "print(\"Image Crawling is done\")"
   ]
  },
  {
   "attachments": {},
   "cell_type": "markdown",
   "metadata": {},
   "source": [
    "### 카테고리별 베스트 상품 크롤링 자동화\n",
    "\n",
    "* 패션의류, 신발/잡화, 화장품/헤어, 유아동/출산 .........\n",
    "* 원하는 만큼 상품 크롤링"
   ]
  },
  {
   "attachments": {},
   "cell_type": "markdown",
   "metadata": {},
   "source": [
    "#### 자동으로 URL 만들기(패션의류, 신발/잡화, 화장품/헤어)\n",
    "\n",
    "\n",
    "\n",
    "\n",
    "\n"
   ]
  },
  {
   "cell_type": "code",
   "execution_count": 10,
   "metadata": {},
   "outputs": [
    {
     "name": "stdout",
     "output_type": "stream",
     "text": [
      "http://corners.gmarket.co.kr/Bestsellers?viewType=G&groupCode=G01\n",
      "http://corners.gmarket.co.kr/Bestsellers?viewType=G&groupCode=G02\n",
      "http://corners.gmarket.co.kr/Bestsellers?viewType=G&groupCode=G03\n"
     ]
    }
   ],
   "source": [
    "import requests\n",
    "from urllib import request\n",
    "from urllib.request import urlopen\n",
    "from bs4 import BeautifulSoup\n",
    "from datetime import datetime, timedelta\n",
    "\n",
    "basic_url = \"http://corners.gmarket.co.kr/Bestsellers?viewType=G&groupCode=G\"\n",
    "codes = ['01', '02', '03']\n",
    "\n",
    "for i in codes:\n",
    "    #print(i)\n",
    "    best_url = basic_url + i\n",
    "    print(best_url)"
   ]
  },
  {
   "attachments": {},
   "cell_type": "markdown",
   "metadata": {},
   "source": [
    "#### 자동으로 5개의 카테고리 베스트 상품을 크롤링 하세요"
   ]
  },
  {
   "cell_type": "code",
   "execution_count": 11,
   "metadata": {},
   "outputs": [
    {
     "name": "stdout",
     "output_type": "stream",
     "text": [
      "http://corners.gmarket.co.kr/Bestsellers?viewType=G&groupCode=G01\n",
      "Image Crawling is done\n",
      "http://corners.gmarket.co.kr/Bestsellers?viewType=G&groupCode=G02\n",
      "Image Crawling is done\n",
      "http://corners.gmarket.co.kr/Bestsellers?viewType=G&groupCode=G03\n",
      "Image Crawling is done\n"
     ]
    }
   ],
   "source": [
    "import requests\n",
    "from urllib import request\n",
    "from urllib.request import urlopen\n",
    "from bs4 import BeautifulSoup\n",
    "\n",
    "crawl_num = 5   #크롤 갯수\n",
    "\n",
    "basic_url = \"http://corners.gmarket.co.kr/Bestsellers?viewType=G&groupCode=G\"\n",
    "\n",
    "codes = ['01', '02', '03']\n",
    "\n",
    "for i in codes:\n",
    "    #print(i)\n",
    "    best_url = basic_url + i\n",
    "    print(best_url)\n",
    "\n",
    "\n",
    "    res = requests.get(best_url)\n",
    "\n",
    "    soup = BeautifulSoup(res.content, 'html.parser')\n",
    "                    \n",
    "    products = soup.select('div.best-list > ul > li')       ## 베스트 상품 리스트\n",
    "\n",
    "    for index, product in enumerate(products):\n",
    "        #print(index)\n",
    "        title = product.select_one('a.itemname').getText()  # 상품명\n",
    "\n",
    "        img_tag = product.select_one('img.image__lazy')        \n",
    "        img_url = 'https:'+ img_tag['src']                  # 상품 이미지 URL\n",
    "        # print(title,img_url)\n",
    "\n",
    "        filename = f'./image/img{i}_{index +1}.png'            # 이미지 저장\n",
    "        urllib.request.urlretrieve(img_url,filename )\n",
    "\n",
    "        if index == crawl_num -1:\n",
    "            break\n",
    "\n",
    "    print(\"Image Crawling is done\")"
   ]
  },
  {
   "cell_type": "code",
   "execution_count": null,
   "metadata": {},
   "outputs": [],
   "source": [
    "#### 자동으로 3개의 카테고리 베스트 상품을 크롤링 하세요. -미션 후 파일 제출- \n",
    "# 5개의 카테고리\n",
    "# top7 이미지 수집\n",
    "# 이미지 수집시, 파일이름을 상품 명으로 넣어서 저장"
   ]
  },
  {
   "cell_type": "code",
   "execution_count": 8,
   "metadata": {},
   "outputs": [
    {
     "name": "stdout",
     "output_type": "stream",
     "text": [
      "http://corners.gmarket.co.kr/Bestsellers?viewType=G&groupCode=G01\n",
      "Image Crawling is done\n",
      "http://corners.gmarket.co.kr/Bestsellers?viewType=G&groupCode=G02\n",
      "Image Crawling is done\n",
      "http://corners.gmarket.co.kr/Bestsellers?viewType=G&groupCode=G03\n",
      "Image Crawling is done\n",
      "http://corners.gmarket.co.kr/Bestsellers?viewType=G&groupCode=G04\n",
      "Image Crawling is done\n",
      "http://corners.gmarket.co.kr/Bestsellers?viewType=G&groupCode=G05\n",
      "Image Crawling is done\n"
     ]
    }
   ],
   "source": [
    "import requests\n",
    "from urllib import request\n",
    "from urllib.request import urlopen\n",
    "from bs4 import BeautifulSoup\n",
    "\n",
    "crawl_num = 7   #크롤 갯수\n",
    "\n",
    "basic_url = \"http://corners.gmarket.co.kr/Bestsellers?viewType=G&groupCode=G\"\n",
    "\n",
    "codes = ['01', '02', '03', '04', '05']\n",
    "\n",
    "\n",
    "for i in codes:\n",
    "    #print(i)\n",
    "    best_url = basic_url + i\n",
    "    print(best_url)\n",
    "\n",
    "\n",
    "    res = requests.get(best_url)\n",
    "\n",
    "    soup = BeautifulSoup(res.content, 'html.parser')\n",
    "                    \n",
    "    products = soup.select('div.best-list > ul > li')       ## 베스트 상품 리스트\n",
    "\n",
    "    for index, product in enumerate(products):\n",
    "        #print(index)\n",
    "        title = product.select_one('a.itemname').getText().replace('/',' ')  # 상품명\n",
    "\n",
    "        img_tag = product.select_one('img.image__lazy')        \n",
    "        img_url = 'https:'+ img_tag['src']                  # 상품 이미지 URL\n",
    "\n",
    "      \n",
    "        # print(title,img_url)\n",
    "        \n",
    "        filename = f'./image/img{i}_{index +1}_{title}.png'            # 이미지 저장\n",
    "        urllib.request.urlretrieve(img_url,filename)\n",
    "\n",
    "        if index == crawl_num -1:\n",
    "            break\n",
    "\n",
    "    print(\"Image Crawling is done\")"
   ]
  }
 ],
 "metadata": {
  "kernelspec": {
   "display_name": "Python 3.9.13 64-bit",
   "language": "python",
   "name": "python3"
  },
  "language_info": {
   "codemirror_mode": {
    "name": "ipython",
    "version": 3
   },
   "file_extension": ".py",
   "mimetype": "text/x-python",
   "name": "python",
   "nbconvert_exporter": "python",
   "pygments_lexer": "ipython3",
   "version": "3.10.11"
  },
  "toc": {
   "base_numbering": 1,
   "nav_menu": {},
   "number_sections": true,
   "sideBar": true,
   "skip_h1_title": false,
   "title_cell": "Table of Contents",
   "title_sidebar": "Contents",
   "toc_cell": false,
   "toc_position": {
    "height": "calc(100% - 180px)",
    "left": "10px",
    "top": "150px",
    "width": "284.2px"
   },
   "toc_section_display": true,
   "toc_window_display": false
  },
  "varInspector": {
   "cols": {
    "lenName": 16,
    "lenType": 16,
    "lenVar": 40
   },
   "kernels_config": {
    "python": {
     "delete_cmd_postfix": "",
     "delete_cmd_prefix": "del ",
     "library": "var_list.py",
     "varRefreshCmd": "print(var_dic_list())"
    },
    "r": {
     "delete_cmd_postfix": ") ",
     "delete_cmd_prefix": "rm(",
     "library": "var_list.r",
     "varRefreshCmd": "cat(var_dic_list()) "
    }
   },
   "position": {
    "height": "496.4px",
    "left": "1173px",
    "right": "20px",
    "top": "146px",
    "width": "350px"
   },
   "types_to_exclude": [
    "module",
    "function",
    "builtin_function_or_method",
    "instance",
    "_Feature"
   ],
   "window_display": false
  },
  "vscode": {
   "interpreter": {
    "hash": "f6f6af92342e95da19c60530c4a8d649d6818e2b0fb1b93d31b29113cdc90935"
   }
  }
 },
 "nbformat": 4,
 "nbformat_minor": 4
}
