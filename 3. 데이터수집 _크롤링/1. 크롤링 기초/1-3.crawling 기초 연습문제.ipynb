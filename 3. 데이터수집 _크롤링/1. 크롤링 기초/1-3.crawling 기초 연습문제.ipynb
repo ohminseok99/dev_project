{
 "cells": [
  {
   "attachments": {},
   "cell_type": "markdown",
   "metadata": {},
   "source": [
    "# 크롤링 실전"
   ]
  },
  {
   "attachments": {},
   "cell_type": "markdown",
   "metadata": {},
   "source": [
    "## 1. 네이버 증권:인기 검색 종목\n",
    "\n",
    "https://finance.naver.com/"
   ]
  },
  {
   "cell_type": "code",
   "execution_count": 11,
   "metadata": {},
   "outputs": [
    {
     "name": "stdout",
     "output_type": "stream",
     "text": [
      "POSCO홀..\n",
      "금양\n",
      "에코프로\n",
      "에코프로비엠\n",
      "포스코퓨처엠\n"
     ]
    }
   ],
   "source": [
    "# 패턴1. 라이브러리 로드\n",
    "import requests\n",
    "from bs4 import BeautifulSoup\n",
    "\n",
    "# remote 에러 발생 해결 후, # 패턴2. 크롤링하고 싶은 페이지 URL넣음 (다음)\n",
    "head = {'User-Agent':'Mozilla/5.0 (Windows NT 10.0; Win64; x64) AppleWebKit/537.36 (KHTML, like Gecko) Chrome/111.0.0.0 Safari/537.36'}\n",
    "url = 'https://finance.naver.com/'\n",
    "naver_res = requests.get(url,headers = head)\n",
    "naver_res.status_code\n",
    "\n",
    "# 패턴3. 데이터 구조화\n",
    "soup = BeautifulSoup(naver_res.content, 'html.parser')\n",
    "soup\n",
    "\n",
    "\n",
    "# 패턴4. 크롤링하고 싶은 내용 HTML 태그 지정\n",
    "#container > div.aside > div > div.aside_area.aside_popular > table > tbody > tr:nth-child(1) > th > a\n",
    "#container > div.aside > div > div.aside_area.aside_popular > table > tbody > tr:nth-child(2) > th > a\n",
    "#container > div.aside > div > div.aside_area.aside_popular > table > tbody > tr:nth-child(5) > th > a\n",
    "fin = '#container > div.aside > div > div.aside_area.aside_popular > table > tbody > tr > th > a'\n",
    "\n",
    "mydata = soup.select(fin)\n",
    "\n",
    "len(mydata)\n",
    "\n",
    "for tag in mydata:\n",
    "    print(tag.text)\n",
    "\n"
   ]
  },
  {
   "attachments": {},
   "cell_type": "markdown",
   "metadata": {},
   "source": [
    "## 2. 네이버 증권:인기 검색 종목 2"
   ]
  },
  {
   "cell_type": "code",
   "execution_count": 20,
   "metadata": {
    "scrolled": true
   },
   "outputs": [
    {
     "name": "stdout",
     "output_type": "stream",
     "text": [
      "POSCO홀.. 551,000  53,500 \n",
      "에코프로 1,143,000  60,000 \n",
      "삼성전자 70,300  700 \n",
      "금양 122,400  13,900 \n",
      "포스코퓨처엠 490,500  26,000 \n"
     ]
    }
   ],
   "source": [
    "# 패턴1. 라이브러리 로드\n",
    "import requests\n",
    "from bs4 import BeautifulSoup\n",
    "\n",
    "# remote 에러 발생 해결 후, # 패턴2. 크롤링하고 싶은 페이지 URL넣음 (다음)\n",
    "head = {'User-Agent':'Mozilla/5.0 (Windows NT 10.0; Win64; x64) AppleWebKit/537.36 (KHTML, like Gecko) Chrome/111.0.0.0 Safari/537.36'}\n",
    "url = 'https://finance.naver.com/'\n",
    "naver_res = requests.get(url,headers = head)\n",
    "naver_res.status_code\n",
    "\n",
    "# 패턴3. 데이터 구조화\n",
    "soup = BeautifulSoup(naver_res.content, 'html.parser')\n",
    "soup\n",
    "\n",
    "\n",
    "# 패턴4. 크롤링하고 싶은 내용 HTML 태그 지정\n",
    "# 종목\n",
    "#container > div.aside > div > div.aside_area.aside_popular > table > tbody > tr:nth-child(1) > th > a\n",
    "#container > div.aside > div > div.aside_area.aside_popular > table > tbody > tr:nth-child(2) > th > a\n",
    "#container > div.aside > div > div.aside_area.aside_popular > table > tbody > tr:nth-child(5) > th > a\n",
    "fin = '#container > div.aside > div > div.aside_area.aside_popular > table > tbody > tr > th > a'\n",
    "# 주가\n",
    "#container > div.aside > div > div.aside_area.aside_popular > table > tbody > tr:nth-child(1) > td:nth-child(2)\n",
    "#container > div.aside > div > div.aside_area.aside_popular > table > tbody > tr:nth-child(2) > td:nth-child(2)\n",
    "#container > div.aside > div > div.aside_area.aside_popular > table > tbody > tr:nth-child(5) > td:nth-child(2)\n",
    "fin_1 = '#container > div.aside > div > div.aside_area.aside_popular > table > tbody > tr > td:nth-child(2)'\n",
    "# 주가 상승\n",
    "#container > div.aside > div > div.aside_area.aside_popular > table > tbody > tr:nth-child(1) > td:nth-child(3) > span\n",
    "#container > div.aside > div > div.aside_area.aside_popular > table > tbody > tr:nth-child(2) > td:nth-child(3) > span\n",
    "#container > div.aside > div > div.aside_area.aside_popular > table > tbody > tr:nth-child(5) > td:nth-child(3) > span\n",
    "fin_2 = '#container > div.aside > div > div.aside_area.aside_popular > table > tbody > tr > td:nth-child(3) > span'\n",
    "\n",
    "\n",
    "mydata = soup.select(fin)\n",
    "mydata1 = soup.select(fin_1)\n",
    "mydata2 = soup.select(fin_2)\n",
    "\n",
    "\n",
    "len(mydata)\n",
    "len(mydata1)\n",
    "len(mydata2)\n",
    "\n",
    "for i in range(len(mydata1)):\n",
    "    print(mydata[i].text, mydata1[i].text, mydata2[i].text)"
   ]
  },
  {
   "attachments": {},
   "cell_type": "markdown",
   "metadata": {},
   "source": [
    "## 3. 네이버 증권: 해외 증시 "
   ]
  },
  {
   "cell_type": "code",
   "execution_count": 22,
   "metadata": {
    "scrolled": true
   },
   "outputs": [
    {
     "name": "stdout",
     "output_type": "stream",
     "text": [
      "다우산업 35,227.69 상승\n",
      " 나스닥 14,032.81 하락\n",
      " 홍콩H 6,415.02 상승\n",
      " 상해종합 3,167.75 하락\n",
      " 니케이225 32,304.25 하락\n"
     ]
    }
   ],
   "source": [
    "import requests\n",
    "from bs4 import BeautifulSoup\n",
    "res = requests.get('https://finance.naver.com/sise/')\n",
    "soup = BeautifulSoup(res.content,'html.parser', from_encoding = 'euc_kr')\n",
    "\n",
    "items = soup.select(' div.rgt > ul.lst_major > li')\n",
    "\n",
    "for item in items:\n",
    "    print (item.select_one('a').get_text(),item.select_one('span').get_text(),item.select_one('em').get_text())"
   ]
  },
  {
   "cell_type": "code",
   "execution_count": null,
   "metadata": {},
   "outputs": [],
   "source": []
  },
  {
   "attachments": {},
   "cell_type": "markdown",
   "metadata": {},
   "source": [
    "## 관심있는 종목에 대한 정보 크롤링"
   ]
  },
  {
   "cell_type": "code",
   "execution_count": 29,
   "metadata": {},
   "outputs": [
    {
     "data": {
      "text/plain": [
       "'50,600'"
      ]
     },
     "execution_count": 29,
     "metadata": {},
     "output_type": "execute_result"
    }
   ],
   "source": [
    "import requests\n",
    "from bs4 import BeautifulSoup\n",
    "res = requests.get('https://finance.naver.com/item/main.naver?code=035720')\n",
    "soup = BeautifulSoup(res.content,'html.parser')\n",
    "\n",
    "#chart_area > div.rate_info > div > p.no_today\n",
    "\n",
    "soup.select_one('#chart_area > div.rate_info > div > p.no_today').text.strip().replace('\\n50,600', '')\n",
    "\n",
    "\n"
   ]
  },
  {
   "attachments": {},
   "cell_type": "markdown",
   "metadata": {},
   "source": [
    "# 검색어를 이용한 크롤링"
   ]
  },
  {
   "cell_type": "code",
   "execution_count": 30,
   "metadata": {},
   "outputs": [
    {
     "name": "stdout",
     "output_type": "stream",
     "text": [
      "200\n",
      "https://browse.gmarket.co.kr/search?keyword=%EA%B3%B5%EC%9C%A0%EA%B8%B0\n"
     ]
    }
   ],
   "source": [
    "import requests\n",
    "url = \"https://browse.gmarket.co.kr/search\"\n",
    "payload = {'keyword': '공유기'}\n",
    "r = requests.get(url, params=payload)\n",
    "print(r.status_code)\n",
    "print(r.url)\n",
    "#print(r.text)"
   ]
  },
  {
   "attachments": {},
   "cell_type": "markdown",
   "metadata": {},
   "source": []
  },
  {
   "attachments": {},
   "cell_type": "markdown",
   "metadata": {},
   "source": []
  },
  {
   "cell_type": "code",
   "execution_count": null,
   "metadata": {},
   "outputs": [],
   "source": []
  }
 ],
 "metadata": {
  "kernelspec": {
   "display_name": "Python 3",
   "language": "python",
   "name": "python3"
  },
  "language_info": {
   "codemirror_mode": {
    "name": "ipython",
    "version": 3
   },
   "file_extension": ".py",
   "mimetype": "text/x-python",
   "name": "python",
   "nbconvert_exporter": "python",
   "pygments_lexer": "ipython3",
   "version": "3.10.11"
  },
  "toc": {
   "base_numbering": 1,
   "nav_menu": {},
   "number_sections": true,
   "sideBar": true,
   "skip_h1_title": false,
   "title_cell": "Table of Contents",
   "title_sidebar": "Contents",
   "toc_cell": false,
   "toc_position": {
    "height": "calc(100% - 180px)",
    "left": "10px",
    "top": "150px",
    "width": "273px"
   },
   "toc_section_display": true,
   "toc_window_display": true
  },
  "varInspector": {
   "cols": {
    "lenName": 16,
    "lenType": 16,
    "lenVar": 40
   },
   "kernels_config": {
    "python": {
     "delete_cmd_postfix": "",
     "delete_cmd_prefix": "del ",
     "library": "var_list.py",
     "varRefreshCmd": "print(var_dic_list())"
    },
    "r": {
     "delete_cmd_postfix": ") ",
     "delete_cmd_prefix": "rm(",
     "library": "var_list.r",
     "varRefreshCmd": "cat(var_dic_list()) "
    }
   },
   "position": {
    "height": "450.4px",
    "left": "918px",
    "right": "20px",
    "top": "108px",
    "width": "586px"
   },
   "types_to_exclude": [
    "module",
    "function",
    "builtin_function_or_method",
    "instance",
    "_Feature"
   ],
   "window_display": false
  }
 },
 "nbformat": 4,
 "nbformat_minor": 4
}
