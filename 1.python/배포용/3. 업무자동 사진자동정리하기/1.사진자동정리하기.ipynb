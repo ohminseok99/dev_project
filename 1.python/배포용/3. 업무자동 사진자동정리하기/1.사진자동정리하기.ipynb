{
 "cells": [
  {
   "attachments": {},
   "cell_type": "markdown",
   "metadata": {},
   "source": [
    "# 사진 자동 정리하기\n",
    "\n",
    "사진 정보를 이용하여 위치, 날짜등의 이름으로 사진의 이름을 변경하여 정리합니다. \n",
    "\n",
    "[정리 전]\n",
    "\n",
    "KakaoTalk_2022-05-06 14-58-50.jpg\n",
    "\n",
    "\n",
    "[정리 후]\n",
    "\n",
    "시흥시_은행동_2022-06-04 14-06-00.jpg\n",
    "\n",
    "\n",
    "---"
   ]
  },
  {
   "attachments": {},
   "cell_type": "markdown",
   "metadata": {},
   "source": [
    "개발 프로세스\n",
    "\n",
    "1. 사진에서 정보 추출\n",
    "    * 위도, 경도(GPS 정보 추출) 추출\n",
    "    * 시간\n",
    "2. 위도, 경도 -> 주소로 변환\n",
    "3. 파일이름 변경\n",
    "    * 변경전:KakaoTalk_2022-05-20 14-22-57.jpg\n",
    "    * 변경후:아산시_구령리_2022-05-20 14-22-57.jpg"
   ]
  },
  {
   "attachments": {},
   "cell_type": "markdown",
   "metadata": {},
   "source": [
    "----"
   ]
  },
  {
   "attachments": {},
   "cell_type": "markdown",
   "metadata": {},
   "source": [
    "## 사진 정보 추출하기"
   ]
  },
  {
   "cell_type": "code",
   "execution_count": 1,
   "metadata": {},
   "outputs": [
    {
     "data": {
      "text/plain": [
       "{34853: {0: b'\\x02\\x02\\x00\\x00',\n",
       "  2: (37.0, 26.0, 41.294399),\n",
       "  4: (126.0, 47.0, 53.931119),\n",
       "  6: 52.0},\n",
       " 296: 2,\n",
       " 34665: 262,\n",
       " 271: 'samsung',\n",
       " 272: 'SM-S908N',\n",
       " 305: 'S908NKSU1AVE4',\n",
       " 306: '2022:06:04 14:06:00',\n",
       " 531: 2,\n",
       " 532: (0.0, 255.0, 128.0, 255.0, 128.0, 255.0),\n",
       " 282: 150.0,\n",
       " 283: 150.0,\n",
       " 36864: b'0221',\n",
       " 37121: b'\\x01\\x02\\x03\\x00',\n",
       " 37377: 7.55,\n",
       " 36867: '2022:06:04 14:06:00',\n",
       " 36868: '2022:06:04 14:06:00',\n",
       " 37378: 2.27,\n",
       " 37379: 5.96,\n",
       " 37380: 0.0,\n",
       " 37381: 2.27,\n",
       " 37383: 2,\n",
       " 37385: 0,\n",
       " 37386: 3.8,\n",
       " 40961: 1,\n",
       " 40962: 841,\n",
       " 41989: 25,\n",
       " 41990: 0,\n",
       " 40963: 1121,\n",
       " 33434: 0.005319148936170213,\n",
       " 33437: 2.2,\n",
       " 34850: 2,\n",
       " 34855: 50,\n",
       " 41986: 0,\n",
       " 40960: b'0100',\n",
       " 41987: 0,\n",
       " 41988: 1.23}"
      ]
     },
     "execution_count": 1,
     "metadata": {},
     "output_type": "execute_result"
    }
   ],
   "source": [
    "from PIL import Image #파이썬 이미지 라이브러리(Python Image Library)\n",
    "from PIL.ExifTags import TAGS\n",
    "\n",
    "image = Image.open(r'./사진/KakaoTalk_2022-06-04 14-06-00.jpg')\n",
    "info = image._getexif() #이미지 메타정보\n",
    "info"
   ]
  },
  {
   "cell_type": "code",
   "execution_count": 2,
   "metadata": {},
   "outputs": [
    {
     "data": {
      "text/plain": [
       "36"
      ]
     },
     "execution_count": 2,
     "metadata": {},
     "output_type": "execute_result"
    }
   ],
   "source": [
    "type(info)\n",
    "len(info)"
   ]
  },
  {
   "cell_type": "code",
   "execution_count": 3,
   "metadata": {},
   "outputs": [
    {
     "name": "stdout",
     "output_type": "stream",
     "text": [
      "34853 GPSInfo {0: b'\\x02\\x02\\x00\\x00', 2: (37.0, 26.0, 41.294399), 4: (126.0, 47.0, 53.931119), 6: 52.0}\n",
      "296 ResolutionUnit 2\n",
      "34665 ExifOffset 262\n",
      "271 Make samsung\n",
      "272 Model SM-S908N\n",
      "305 Software S908NKSU1AVE4\n",
      "306 DateTime 2022:06:04 14:06:00\n",
      "531 YCbCrPositioning 2\n",
      "532 ReferenceBlackWhite (0.0, 255.0, 128.0, 255.0, 128.0, 255.0)\n",
      "282 XResolution 150.0\n",
      "283 YResolution 150.0\n",
      "36864 ExifVersion b'0221'\n",
      "37121 ComponentsConfiguration b'\\x01\\x02\\x03\\x00'\n",
      "37377 ShutterSpeedValue 7.55\n",
      "36867 DateTimeOriginal 2022:06:04 14:06:00\n",
      "36868 DateTimeDigitized 2022:06:04 14:06:00\n",
      "37378 ApertureValue 2.27\n",
      "37379 BrightnessValue 5.96\n",
      "37380 ExposureBiasValue 0.0\n",
      "37381 MaxApertureValue 2.27\n",
      "37383 MeteringMode 2\n",
      "37385 Flash 0\n",
      "37386 FocalLength 3.8\n",
      "40961 ColorSpace 1\n",
      "40962 ExifImageWidth 841\n",
      "41989 FocalLengthIn35mmFilm 25\n",
      "41990 SceneCaptureType 0\n",
      "40963 ExifImageHeight 1121\n",
      "33434 ExposureTime 0.005319148936170213\n",
      "33437 FNumber 2.2\n",
      "34850 ExposureProgram 2\n",
      "34855 ISOSpeedRatings 50\n",
      "41986 ExposureMode 0\n",
      "40960 FlashPixVersion b'0100'\n",
      "41987 WhiteBalance 0\n",
      "41988 DigitalZoomRatio 1.23\n"
     ]
    }
   ],
   "source": [
    "#파일 속성정보 출력\n",
    "# https://exiftool.org/TagNames/EXIF.html\n",
    "from PIL.ExifTags import TAGS\n",
    "for tag, value in info.items():\n",
    "    #print(tag, value)\n",
    "    # 태그숫자를 디코딩 \n",
    "    decoded = TAGS.get(tag, tag)\n",
    "    print(tag, decoded, value)"
   ]
  },
  {
   "cell_type": "code",
   "execution_count": 4,
   "metadata": {},
   "outputs": [
    {
     "name": "stdout",
     "output_type": "stream",
     "text": [
      "GPSInfo:{0: b'\\x02\\x02\\x00\\x00', 2: (37.0, 26.0, 41.294399), 4: (126.0, 47.0, 53.931119), 6: 52.0}\n"
     ]
    }
   ],
   "source": [
    "# GPSInfo 정보 추출\n",
    "\n",
    "#파일 속성정보 출력\n",
    "# https://exiftool.org/TagNames/EXIF.html\n",
    "from PIL.ExifTags import TAGS\n",
    "for tag, value in info.items():\n",
    "    #print(tag, value)\n",
    "    # 태그숫자를 디코딩 \n",
    "    decoded = TAGS.get(tag, tag)\n",
    "    #print(tag, decoded, value)\n",
    "    if decoded == 'GPSInfo':\n",
    "        print(f'{decoded}:{value}')\n",
    "# 출력\n",
    "\n",
    "# GPSInfo {0: b'\\x02\\x02\\x00\\x00', 2: (37.0, 26.0, 41.294399), 4: (126.0, 47.0, 53.931119), 6: 52.0}"
   ]
  },
  {
   "cell_type": "code",
   "execution_count": 5,
   "metadata": {},
   "outputs": [
    {
     "name": "stdout",
     "output_type": "stream",
     "text": [
      "(37.0, 26.0, 41.294399)\n",
      "(126.0, 47.0, 53.931119)\n"
     ]
    }
   ],
   "source": [
    "# GPSInfo 정보 추출(위도, 경도)\n",
    "for tag, value in info.items():\n",
    "    decoded = TAGS.get(tag, tag)\n",
    "    if decoded == 'GPSInfo':\n",
    "        gps_lat = value.get(2)# 위도\n",
    "        gps_lon = value.get(4)# 경도\n",
    "\n",
    "print(gps_lat)\n",
    "print(gps_lon)"
   ]
  },
  {
   "cell_type": "code",
   "execution_count": 6,
   "metadata": {},
   "outputs": [
    {
     "data": {
      "text/plain": [
       "(37.444803999722225, 126.79831419972223)"
      ]
     },
     "execution_count": 6,
     "metadata": {},
     "output_type": "execute_result"
    }
   ],
   "source": [
    "# 위도 경도 값 보정 (도,분,초) 1도는 60분이며, 1분은 60초이다. 1도 = 60분 = 3600초\n",
    "\n",
    "lat = (((gps_lat[2] / 60.0 ) +  gps_lat[1]) / 60.0) + gps_lat[0]\n",
    "lon = (((gps_lon[2] / 60.0 ) +  gps_lon[1]) / 60.0) + gps_lon[0]\n",
    "\n",
    "lat, lon"
   ]
  },
  {
   "attachments": {},
   "cell_type": "markdown",
   "metadata": {},
   "source": [
    "## 날짜 정보 추출하기"
   ]
  },
  {
   "cell_type": "code",
   "execution_count": 17,
   "metadata": {},
   "outputs": [
    {
     "name": "stdout",
     "output_type": "stream",
     "text": [
      "2022-06-04 14-06-00\n"
     ]
    }
   ],
   "source": [
    "# 날짜 포맷을 2023-07-20 13-37-00으로 추출\n",
    "import datetime\n",
    "\n",
    "for tag, value in info.items():\n",
    "    decoded = TAGS.get(tag, tag)\n",
    "    if decoded == 'DateTimeOriginal':\n",
    "        dt = datetime.datetime.strptime(value, '%Y:%m:%d %H:%M:%S')\n",
    "        day = dt.strftime('%Y-%m-%d %H-%M-%S')\n",
    "print(day)\n",
    "        "
   ]
  },
  {
   "attachments": {},
   "cell_type": "markdown",
   "metadata": {},
   "source": [
    "## 위도,경도에서 주소로 변환\n",
    "\n",
    "https://pypi.org/project/geopy/"
   ]
  },
  {
   "cell_type": "code",
   "execution_count": 18,
   "metadata": {},
   "outputs": [
    {
     "name": "stdout",
     "output_type": "stream",
     "text": [
      "Defaulting to user installation because normal site-packages is not writeable\n",
      "Collecting geopy\n",
      "  Downloading geopy-2.3.0-py3-none-any.whl (119 kB)\n",
      "     ---------------------------------------- 0.0/119.8 kB ? eta -:--:--\n",
      "     ----------------------------- --------- 92.2/119.8 kB 1.7 MB/s eta 0:00:01\n",
      "     -------------------------------------- 119.8/119.8 kB 1.8 MB/s eta 0:00:00\n",
      "Collecting geographiclib<3,>=1.52 (from geopy)\n",
      "  Downloading geographiclib-2.0-py3-none-any.whl (40 kB)\n",
      "     ---------------------------------------- 0.0/40.3 kB ? eta -:--:--\n",
      "     ---------------------------------------- 40.3/40.3 kB ? eta 0:00:00\n",
      "Installing collected packages: geographiclib, geopy\n",
      "Successfully installed geographiclib-2.0 geopy-2.3.0\n",
      "Note: you may need to restart the kernel to use updated packages.\n"
     ]
    },
    {
     "name": "stderr",
     "output_type": "stream",
     "text": [
      "WARNING: Ignoring invalid distribution -illow (c:\\users\\82104\\appdata\\roaming\\python\\python310\\site-packages)\n",
      "WARNING: Ignoring invalid distribution -illow (c:\\users\\82104\\appdata\\roaming\\python\\python310\\site-packages)\n",
      "WARNING: Ignoring invalid distribution -illow (c:\\users\\82104\\appdata\\roaming\\python\\python310\\site-packages)\n",
      "WARNING: Ignoring invalid distribution -illow (c:\\users\\82104\\appdata\\roaming\\python\\python310\\site-packages)\n"
     ]
    }
   ],
   "source": [
    "%pip install geopy"
   ]
  },
  {
   "cell_type": "code",
   "execution_count": 19,
   "metadata": {},
   "outputs": [],
   "source": [
    "from geopy.geocoders import Nominatim"
   ]
  },
  {
   "cell_type": "code",
   "execution_count": 21,
   "metadata": {},
   "outputs": [
    {
     "name": "stdout",
     "output_type": "stream",
     "text": [
      "37.4873082 126.8975357\n"
     ]
    }
   ],
   "source": [
    "# 지오코드 사용법 살펴보기\n",
    "# 주소를 위도 경도로 변환\n",
    "\n",
    "from geopy.geocoders import Nominatim\n",
    "\n",
    "test = '구로구 디지털로 27'\n",
    "# test = '강남구 학동로 346'\n",
    "geolocator = Nominatim(user_agent='South Korea') # user_agent는 식별가능 문자열(아무 문자열)\n",
    "location = geolocator.geocode(test)\n",
    "\n",
    "latitude = location.latitude #위도\n",
    "longitude = location.longitude #경도\n",
    "\n",
    "print(latitude,longitude )"
   ]
  },
  {
   "cell_type": "code",
   "execution_count": 22,
   "metadata": {},
   "outputs": [
    {
     "data": {
      "text/plain": [
       "'현대아파트, 도림천로, 구로3동, 구로구, 서울, 08378, 대한민국'"
      ]
     },
     "execution_count": 22,
     "metadata": {},
     "output_type": "execute_result"
    }
   ],
   "source": [
    "# 위도 경도를 주소로 변환\n",
    "lat_lng_str = f'{latitude},{longitude}' #위도 경도 문자열\n",
    "loc = geolocator.reverse(lat_lng_str)\n",
    "loc.address"
   ]
  },
  {
   "cell_type": "code",
   "execution_count": 24,
   "metadata": {},
   "outputs": [
    {
     "data": {
      "text/plain": [
       "'맥도날드, 대은로, 대야동, 은행동, 시흥시, 경기도, 대한민국'"
      ]
     },
     "execution_count": 24,
     "metadata": {},
     "output_type": "execute_result"
    }
   ],
   "source": [
    "lat_lng_str = '37.444803999722225, 126.79831419972223' #위도 경도 문자열\n",
    "loc = geolocator.reverse(lat_lng_str)\n",
    "loc.address"
   ]
  },
  {
   "attachments": {},
   "cell_type": "markdown",
   "metadata": {},
   "source": [
    "---"
   ]
  },
  {
   "attachments": {},
   "cell_type": "markdown",
   "metadata": {},
   "source": [
    "## 함수 생성"
   ]
  },
  {
   "cell_type": "code",
   "execution_count": 1,
   "metadata": {},
   "outputs": [],
   "source": [
    "# 사진 정보 가져오기\n",
    "# 매개변수: 파일 이름\n",
    "# 반환값: 위도, 경도, 시간\n",
    "def getPicInfo(fname):\n",
    "    image = Image.open(fname)\n",
    "    info = image._getexif()\n",
    "    image.close()\n",
    "\n",
    "    for tag, value in info.items():\n",
    "        decoded = TAGS.get(tag, tag)\n",
    "        if decoded == 'GPSInfo':\n",
    "            gps_lat = value.get(2)# 위도\n",
    "            gps_lon = value.get(4)# 경도\n",
    "\n",
    "            lat = (((gps_lat[2] / 60.0 ) +  gps_lat[1]) / 60.0) + gps_lat[0]\n",
    "            lon = (((gps_lon[2] / 60.0 ) +  gps_lon[1]) / 60.0) + gps_lon[0]\n",
    "        \n",
    "        if decoded == 'DateTimeOriginal':\n",
    "            dt = datetime.datetime.strptime(value, '%Y:%m:%d %H:%M:%S')\n",
    "            day = dt.strftime('%Y-%m-%d %H-%M-%S')\n",
    "    \n",
    "    return lat, lon, day\n",
    "    \n",
    "\n",
    "        "
   ]
  },
  {
   "cell_type": "code",
   "execution_count": 27,
   "metadata": {},
   "outputs": [
    {
     "data": {
      "text/plain": [
       "(37.444803999722225, 126.79831419972223, '2022-06-04 14-06-00')"
      ]
     },
     "execution_count": 27,
     "metadata": {},
     "output_type": "execute_result"
    }
   ],
   "source": [
    "getPicInfo('./사진/KakaoTalk_2022-06-04 14-06-00.jpg')"
   ]
  },
  {
   "cell_type": "code",
   "execution_count": 2,
   "metadata": {},
   "outputs": [],
   "source": [
    "# 주소 가져오기\n",
    "def getAddress(latitude,longitude):\n",
    "    lat_lng_str = f'{latitude},{longitude}' #위도 경도 문자열\n",
    "    \n",
    "    geolocator = Nominatim(user_agent='South Korea')\n",
    "\n",
    "    loc = geolocator.reverse(lat_lng_str)  \n",
    "    addlist = loc.address.split(',')\n",
    "\n",
    "    si = addlist[3].strip()\n",
    "    do = addlist[2].strip()\n",
    "\n",
    "    return si, do\n",
    "    "
   ]
  },
  {
   "cell_type": "code",
   "execution_count": 31,
   "metadata": {},
   "outputs": [
    {
     "data": {
      "text/plain": [
       "('은행동', '대야동')"
      ]
     },
     "execution_count": 31,
     "metadata": {},
     "output_type": "execute_result"
    }
   ],
   "source": [
    "getAddress(37.444803999722225, 126.79831419972223)"
   ]
  },
  {
   "attachments": {},
   "cell_type": "markdown",
   "metadata": {},
   "source": [
    "## 종합코드"
   ]
  },
  {
   "cell_type": "code",
   "execution_count": 6,
   "metadata": {},
   "outputs": [
    {
     "name": "stdout",
     "output_type": "stream",
     "text": [
      "사진\\아산시_구령리_2022-05-20 14-22-57.jpg\n",
      "사진\\아산시_백암리_2022-05-06 14-58-50.jpg\n",
      "사진\\은행동_대야동_2022-06-04 14-06-00.jpg\n",
      "사진\\충청남도_아산시_2022-06-01 15-52-35.jpg\n"
     ]
    }
   ],
   "source": [
    "from PIL import Image #파이썬 이미지 라이브러리(Python Image Library)\n",
    "from PIL.ExifTags import TAGS\n",
    "from geopy.geocoders import Nominatim\n",
    "from glob import glob\n",
    "import os\n",
    "import datetime\n",
    "\n",
    "flist = glob(r'사진\\*.jpg')\n",
    "\n",
    "for fname in flist:\n",
    "\n",
    "    lat, lon, pictime = getPicInfo(fname)\n",
    "    si,do = getAddress(lat,lon)\n",
    "    # print(lat, lon, pictime)\n",
    "    # print(si,do)\n",
    "    newfname = f'사진\\\\{si}_{do}_{pictime}.jpg'\n",
    "    # print(newfname)\n",
    "\n",
    "    os.rename(fname,newfname)\n",
    "    \n",
    "    print(fname)"
   ]
  },
  {
   "cell_type": "markdown",
   "metadata": {},
   "source": [
    "##에러가 발생하는 경우"
   ]
  },
  {
   "cell_type": "code",
   "execution_count": 11,
   "metadata": {},
   "outputs": [],
   "source": [
    "import random\n",
    "if (random.randint(0,1)):\n",
    "    raise Exception ('나는 잼민이 에러ㅋㅋㅋㅋ')"
   ]
  },
  {
   "cell_type": "code",
   "execution_count": 13,
   "metadata": {},
   "outputs": [],
   "source": [
    "# 사진 정보 가져오기\n",
    "# 매개변수: 파일 이름\n",
    "# 반환값: 위도, 경도, 시간\n",
    "def getPicInfo(fname):\n",
    "    image = Image.open(fname)\n",
    "    info = image._getexif()\n",
    "    image.close()\n",
    "\n",
    "    for tag, value in info.items():\n",
    "        decoded = TAGS.get(tag, tag)\n",
    "        if decoded == 'GPSInfo':\n",
    "            gps_lat = value.get(2)# 위도\n",
    "            gps_lon = value.get(4)# 경도\n",
    "\n",
    "            lat = (((gps_lat[2] / 60.0 ) +  gps_lat[1]) / 60.0) + gps_lat[0]\n",
    "            lon = (((gps_lon[2] / 60.0 ) +  gps_lon[1]) / 60.0) + gps_lon[0]\n",
    "        \n",
    "        if decoded == 'DateTimeOriginal':\n",
    "            dt = datetime.datetime.strptime(value, '%Y:%m:%d %H:%M:%S')\n",
    "            day = dt.strftime('%Y-%m-%d %H-%M-%S')\n",
    "    \n",
    "    return lat, lon, day\n",
    "    "
   ]
  },
  {
   "cell_type": "code",
   "execution_count": 12,
   "metadata": {},
   "outputs": [],
   "source": [
    "# 주소 가져오기\n",
    "def getAddress(latitude,longitude):\n",
    "    lat_lng_str = f'{latitude},{longitude}' #위도 경도 문자열\n",
    "    \n",
    "#####################################################################\n",
    "# 에러 랜덤 발생\n",
    "#####################################################################\n",
    "    import random\n",
    "    if (random.randint(0,1)):\n",
    "        raise Exception ('나는 잼민이 에러ㅋㅋㅋㅋ')        \n",
    "    \n",
    "    \n",
    "    geolocator = Nominatim(user_agent='South Korea')\n",
    "\n",
    "    loc = geolocator.reverse(lat_lng_str)  \n",
    "    addlist = loc.address.split(',')\n",
    "\n",
    "    si = addlist[3].strip()\n",
    "    do = addlist[2].strip()\n",
    "\n",
    "    return si, do\n",
    "    "
   ]
  },
  {
   "cell_type": "code",
   "execution_count": 16,
   "metadata": {},
   "outputs": [
    {
     "name": "stdout",
     "output_type": "stream",
     "text": [
      "사진\\아산시_구령리_2022-05-20 14-22-57.jpg\n",
      "사진\\아산시_백암리_2022-05-06 14-58-50.jpg에서 에러남\n",
      "사진\\아산시_백암리_2022-05-06 14-58-50.jpg\n",
      "사진\\아산시_백암리_2022-06-04 14-06-00.jpg\n",
      "사진\\충청남도_아산시_2022-06-01 15-52-35.jpg에서 에러남\n",
      "사진\\충청남도_아산시_2022-06-01 15-52-35.jpg\n"
     ]
    }
   ],
   "source": [
    "from PIL import Image #파이썬 이미지 라이브러리(Python Image Library)\n",
    "from PIL.ExifTags import TAGS\n",
    "from geopy.geocoders import Nominatim\n",
    "from glob import glob\n",
    "import os\n",
    "import datetime\n",
    "\n",
    "flist = glob(r'사진\\*.jpg')\n",
    "\n",
    "for fname in flist:\n",
    "\n",
    "    lat, lon, pictime = getPicInfo(fname)\n",
    "    try:\n",
    "        si,do = getAddress(lat,lon)\n",
    "    # print(lat, lon, pictime)\n",
    "    # print(si,do)\n",
    "    except Exception:\n",
    "        print(f'{fname}에서 에러남')\n",
    "        pass\n",
    "\n",
    "    newfname = f'사진\\\\{si}_{do}_{pictime}.jpg'\n",
    "    # print(newfname)\n",
    "\n",
    "    os.rename(fname,newfname)\n",
    "\n",
    "    \n",
    "    \n",
    "    print(fname)"
   ]
  }
 ],
 "metadata": {
  "kernelspec": {
   "display_name": "Python 3",
   "language": "python",
   "name": "python3"
  },
  "language_info": {
   "codemirror_mode": {
    "name": "ipython",
    "version": 3
   },
   "file_extension": ".py",
   "mimetype": "text/x-python",
   "name": "python",
   "nbconvert_exporter": "python",
   "pygments_lexer": "ipython3",
   "version": "3.10.11"
  },
  "orig_nbformat": 4
 },
 "nbformat": 4,
 "nbformat_minor": 2
}
