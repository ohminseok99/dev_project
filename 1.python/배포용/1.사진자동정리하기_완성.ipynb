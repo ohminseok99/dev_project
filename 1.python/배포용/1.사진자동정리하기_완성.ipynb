{
 "cells": [
  {
   "attachments": {},
   "cell_type": "markdown",
   "metadata": {},
   "source": [
    "# 사진 자동 정리하기\n",
    "\n",
    "사진 정보를 이용하여 위치, 날짜등의 이름으로 사진의 이름을 변경하여 정리합니다. \n",
    "\n",
    "[정리 전]\n",
    "\n",
    "KakaoTalk_2022-05-06 14-58-50.jpg\n",
    "\n",
    "\n",
    "[정리 후]\n",
    "\n",
    "시흥시_은행동_2022-06-04 14-06-00.jpg\n",
    "\n",
    "\n",
    "---"
   ]
  },
  {
   "attachments": {},
   "cell_type": "markdown",
   "metadata": {},
   "source": [
    "개발 프로세스\n",
    "\n",
    "1. 사진에서 정보 추출\n",
    "    * 위도, 경도(GPS 정보 추출) 추출\n",
    "    * 시간\n",
    "2. 위도, 경도 -> 주소로 변환\n",
    "3. 파일이름 변경\n",
    "    * 변경전:KakaoTalk_2022-05-20 14-22-57.jpg\n",
    "    * 변경후:아산시_구령리_2022-05-20 14-22-57.jpg"
   ]
  },
  {
   "attachments": {},
   "cell_type": "markdown",
   "metadata": {},
   "source": [
    "----"
   ]
  },
  {
   "attachments": {},
   "cell_type": "markdown",
   "metadata": {},
   "source": [
    "## 사진 정보 추출하기"
   ]
  },
  {
   "cell_type": "code",
   "execution_count": 2,
   "metadata": {},
   "outputs": [
    {
     "data": {
      "text/plain": [
       "{34853: {0: b'\\x02\\x02\\x00\\x00',\n",
       "  2: (37.0, 26.0, 41.294399),\n",
       "  4: (126.0, 47.0, 53.931119),\n",
       "  6: 52.0},\n",
       " 296: 2,\n",
       " 34665: 262,\n",
       " 271: 'samsung',\n",
       " 272: 'SM-S908N',\n",
       " 305: 'S908NKSU1AVE4',\n",
       " 306: '2022:06:04 14:06:00',\n",
       " 531: 2,\n",
       " 532: (0.0, 255.0, 128.0, 255.0, 128.0, 255.0),\n",
       " 282: 150.0,\n",
       " 283: 150.0,\n",
       " 36864: b'0221',\n",
       " 37121: b'\\x01\\x02\\x03\\x00',\n",
       " 37377: 7.55,\n",
       " 36867: '2022:06:04 14:06:00',\n",
       " 36868: '2022:06:04 14:06:00',\n",
       " 37378: 2.27,\n",
       " 37379: 5.96,\n",
       " 37380: 0.0,\n",
       " 37381: 2.27,\n",
       " 37383: 2,\n",
       " 37385: 0,\n",
       " 37386: 3.8,\n",
       " 40961: 1,\n",
       " 40962: 841,\n",
       " 41989: 25,\n",
       " 41990: 0,\n",
       " 40963: 1121,\n",
       " 33434: 0.005319148936170213,\n",
       " 33437: 2.2,\n",
       " 34850: 2,\n",
       " 34855: 50,\n",
       " 41986: 0,\n",
       " 40960: b'0100',\n",
       " 41987: 0,\n",
       " 41988: 1.23}"
      ]
     },
     "execution_count": 2,
     "metadata": {},
     "output_type": "execute_result"
    }
   ],
   "source": [
    "from PIL import Image #파이썬 이미지 라이브러리(Python Image Library)\n",
    "from PIL.ExifTags import TAGS\n",
    "\n",
    "image = Image.open(r'./사진/KakaoTalk_2022-06-04 14-06-00.jpg')\n",
    "info = image._getexif() #이미지 메타정보\n",
    "info "
   ]
  },
  {
   "cell_type": "code",
   "execution_count": 4,
   "metadata": {},
   "outputs": [
    {
     "data": {
      "text/plain": [
       "(dict, 36)"
      ]
     },
     "execution_count": 4,
     "metadata": {},
     "output_type": "execute_result"
    }
   ],
   "source": [
    "type(info),len(info)"
   ]
  },
  {
   "cell_type": "code",
   "execution_count": 8,
   "metadata": {},
   "outputs": [
    {
     "name": "stdout",
     "output_type": "stream",
     "text": [
      "34853 GPSInfo {0: b'\\x02\\x02\\x00\\x00', 2: (37.0, 26.0, 41.294399), 4: (126.0, 47.0, 53.931119), 6: 52.0}\n",
      "296 ResolutionUnit 2\n",
      "34665 ExifOffset 262\n",
      "271 Make samsung\n",
      "272 Model SM-S908N\n",
      "305 Software S908NKSU1AVE4\n",
      "306 DateTime 2022:06:04 14:06:00\n",
      "531 YCbCrPositioning 2\n",
      "532 ReferenceBlackWhite (0.0, 255.0, 128.0, 255.0, 128.0, 255.0)\n",
      "282 XResolution 150.0\n",
      "283 YResolution 150.0\n",
      "36864 ExifVersion b'0221'\n",
      "37121 ComponentsConfiguration b'\\x01\\x02\\x03\\x00'\n",
      "37377 ShutterSpeedValue 7.55\n",
      "36867 DateTimeOriginal 2022:06:04 14:06:00\n",
      "36868 DateTimeDigitized 2022:06:04 14:06:00\n",
      "37378 ApertureValue 2.27\n",
      "37379 BrightnessValue 5.96\n",
      "37380 ExposureBiasValue 0.0\n",
      "37381 MaxApertureValue 2.27\n",
      "37383 MeteringMode 2\n",
      "37385 Flash 0\n",
      "37386 FocalLength 3.8\n",
      "40961 ColorSpace 1\n",
      "40962 ExifImageWidth 841\n",
      "41989 FocalLengthIn35mmFilm 25\n",
      "41990 SceneCaptureType 0\n",
      "40963 ExifImageHeight 1121\n",
      "33434 ExposureTime 0.005319148936170213\n",
      "33437 FNumber 2.2\n",
      "34850 ExposureProgram 2\n",
      "34855 ISOSpeedRatings 50\n",
      "41986 ExposureMode 0\n",
      "40960 FlashPixVersion b'0100'\n",
      "41987 WhiteBalance 0\n",
      "41988 DigitalZoomRatio 1.23\n"
     ]
    }
   ],
   "source": [
    "#파일 속성정보 출력\n",
    "#https://exiftool.org/TagNames/EXIF.html\n",
    "from PIL.ExifTags import TAGS\n",
    "for tag,value in info.items():\n",
    "    # print(value)\n",
    "    decoded = TAGS.get(tag,tag) #태그숫자를 디코딩\n",
    "    print(tag,decoded,value)"
   ]
  },
  {
   "cell_type": "code",
   "execution_count": 9,
   "metadata": {},
   "outputs": [
    {
     "name": "stdout",
     "output_type": "stream",
     "text": [
      "GPSInfo:{0: b'\\x02\\x02\\x00\\x00', 2: (37.0, 26.0, 41.294399), 4: (126.0, 47.0, 53.931119), 6: 52.0}\n"
     ]
    }
   ],
   "source": [
    "# GPSInfo 정보 추출\n",
    "\n",
    "from PIL.ExifTags import TAGS\n",
    "for tag,value in info.items():\n",
    "    # print(value)\n",
    "    decoded = TAGS.get(tag,tag) #태그숫자를 디코딩\n",
    "    # print(tag,decoded,value)\n",
    "\n",
    "    if decoded == 'GPSInfo':\n",
    "        print(f'{decoded}:{value}')\n",
    "\n",
    "\n",
    "#GPSInfo {0: b'\\x02\\x02\\x00\\x00', 2: (37.0, 26.0, 41.294399), 4: (126.0, 47.0, 53.931119), 6: 52.0}"
   ]
  },
  {
   "cell_type": "code",
   "execution_count": 10,
   "metadata": {},
   "outputs": [
    {
     "name": "stdout",
     "output_type": "stream",
     "text": [
      "(37.0, 26.0, 41.294399) (126.0, 47.0, 53.931119)\n"
     ]
    }
   ],
   "source": [
    "# GPSInfo 정보 추출(위도, 경도)\n",
    "from PIL.ExifTags import TAGS\n",
    "for tag,value in info.items():\n",
    "    # print(value)\n",
    "    decoded = TAGS.get(tag,tag) #태그숫자를 디코딩\n",
    "    # print(tag,decoded,value)\n",
    "\n",
    "    if decoded == 'GPSInfo':\n",
    "        # print(f'{decoded}:{value}')\n",
    "        gps_lat =  value.get(2) #위도\n",
    "        gps_lon =  value.get(4) #경도\n",
    "\n",
    "\n",
    "print(gps_lat,gps_lon)"
   ]
  },
  {
   "cell_type": "code",
   "execution_count": 11,
   "metadata": {},
   "outputs": [],
   "source": [
    "# 위도 경도 값 보정 (도,분,초) 1도는 60분이며, 1분은 60초이다. 1도 = 60분 = 3600초\n",
    "\n",
    "lat = (((gps_lat[2] / 60.0 ) +  gps_lat[1]) / 60.0) + gps_lat[0]\n",
    "lon = (((gps_lon[2] / 60.0 ) +  gps_lon[1]) / 60.0) + gps_lon[0]"
   ]
  },
  {
   "cell_type": "code",
   "execution_count": 12,
   "metadata": {},
   "outputs": [
    {
     "data": {
      "text/plain": [
       "(37.444803999722225, 126.79831419972223)"
      ]
     },
     "execution_count": 12,
     "metadata": {},
     "output_type": "execute_result"
    }
   ],
   "source": [
    "lat,lon"
   ]
  },
  {
   "attachments": {},
   "cell_type": "markdown",
   "metadata": {},
   "source": [
    "## 날짜 정보 추출하기"
   ]
  },
  {
   "cell_type": "code",
   "execution_count": 15,
   "metadata": {},
   "outputs": [
    {
     "name": "stdout",
     "output_type": "stream",
     "text": [
      "2022:06:04 14:06:00\n",
      "2022-06-04 14-06-00\n"
     ]
    }
   ],
   "source": [
    "# 2022-06-04 14-06-00\n",
    "import datetime\n",
    "from PIL.ExifTags import TAGS\n",
    "for tag,value in info.items():\n",
    "    # print(value)\n",
    "    decoded = TAGS.get(tag,tag) #태그숫자를 디코딩\n",
    "    # print(tag,decoded,value)\n",
    "\n",
    "    if decoded == 'DateTime':\n",
    "        # print(f'{decoded}:{value}')\n",
    "        print(value)\n",
    "        dt = datetime.datetime.strptime(value,\"%Y:%m:%d %H:%M:%S\")\n",
    "        dtime = dt.strftime(\"%Y-%m-%d %H-%M-%S\")\n",
    "        print(dtime)       "
   ]
  },
  {
   "attachments": {},
   "cell_type": "markdown",
   "metadata": {},
   "source": [
    "## 위도,경도에서 주소로 변환\n",
    "\n",
    "https://pypi.org/project/geopy/"
   ]
  },
  {
   "cell_type": "code",
   "execution_count": null,
   "metadata": {},
   "outputs": [],
   "source": [
    "%pip install geopy"
   ]
  },
  {
   "cell_type": "code",
   "execution_count": 16,
   "metadata": {},
   "outputs": [],
   "source": [
    "from geopy.geocoders import Nominatim"
   ]
  },
  {
   "cell_type": "code",
   "execution_count": 18,
   "metadata": {},
   "outputs": [
    {
     "name": "stdout",
     "output_type": "stream",
     "text": [
      "37.5199698 127.056947\n"
     ]
    }
   ],
   "source": [
    "# 지오코드 사용법 살펴보기\n",
    "# 주소를 위도 경도로 변환\n",
    "\n",
    "from geopy.geocoders import Nominatim\n",
    "\n",
    "# test = '구로구 디지털로 27'\n",
    "test = '강남구 학동로 346'\n",
    "geolocator = Nominatim(user_agent='South Korea') # user_agent는 식별가능 문자열(아무 문자열)\n",
    "location = geolocator.geocode(test)\n",
    "\n",
    "latitude = location.latitude #위도\n",
    "longitude = location.longitude #경도\n",
    "\n",
    "print(latitude,longitude )"
   ]
  },
  {
   "cell_type": "code",
   "execution_count": 19,
   "metadata": {},
   "outputs": [
    {
     "data": {
      "text/plain": [
       "'청담역 2번출구, 영동대로, 삼성동, 삼성1동, 강남구, 서울, 06080, 대한민국'"
      ]
     },
     "execution_count": 19,
     "metadata": {},
     "output_type": "execute_result"
    }
   ],
   "source": [
    "# 위도 경도를 주소로 변환\n",
    "lat_lng_str = f'{latitude},{longitude}' #위도 경도 문자열\n",
    "loc = geolocator.reverse(lat_lng_str)\n",
    "loc.address"
   ]
  },
  {
   "cell_type": "code",
   "execution_count": 20,
   "metadata": {},
   "outputs": [
    {
     "data": {
      "text/plain": [
       "'맥도날드, 대은로, 대야동, 은행동, 시흥시, 경기도, 대한민국'"
      ]
     },
     "execution_count": 20,
     "metadata": {},
     "output_type": "execute_result"
    }
   ],
   "source": [
    "\n",
    "\n",
    "lat_lng_str = '37.444803999722225,126.79831419972223' #위도 경도 문자열\n",
    "loc = geolocator.reverse(lat_lng_str)\n",
    "loc.address"
   ]
  },
  {
   "attachments": {},
   "cell_type": "markdown",
   "metadata": {},
   "source": [
    "---"
   ]
  },
  {
   "attachments": {},
   "cell_type": "markdown",
   "metadata": {},
   "source": [
    "## 함수 생성"
   ]
  },
  {
   "cell_type": "code",
   "execution_count": 1,
   "metadata": {},
   "outputs": [],
   "source": [
    "# 사진 정보 가져오기\n",
    "# 매개변수: 파일 이름\n",
    "# 반환값: 위도, 경도, 시간\n",
    "def getPicInfo(fname):\n",
    "    image = Image.open(fname)\n",
    "    info = image._getexif();\n",
    "    image.close() #close()를 해줄것. 파일이름 변경시 에러발생 가능성 있음. 이미지 파일 스트림 해제\n",
    "\n",
    "    for tag,value in info.items():\n",
    "        decoded = TAGS.get(tag, tag)\n",
    "        # print(f'{decoded} : {value}')\n",
    "        if decoded == 'GPSInfo':\n",
    "            gps_lat = value.get(2)\n",
    "            gps_lon = value.get(4)\n",
    "\n",
    "            #보정\n",
    "            lat = (((gps_lat[2] / 60.0 ) +  gps_lat[1]) / 60.0) + gps_lat[0]\n",
    "            lon = (((gps_lon[2] / 60.0 ) +  gps_lon[1]) / 60.0) + gps_lon[0]    \n",
    "            \n",
    "        if decoded == 'DateTime':\n",
    "            dt = datetime.datetime.strptime(value,\"%Y:%m:%d %H:%M:%S\")\n",
    "            dtime = dt.strftime(\"%Y-%m-%d %H-%M-%S\")\n",
    "\n",
    "    return lat,lon,dtime\n",
    "    "
   ]
  },
  {
   "cell_type": "code",
   "execution_count": 25,
   "metadata": {},
   "outputs": [
    {
     "data": {
      "text/plain": [
       "(37.444803999722225, 126.79831419972223, '2022-06-04 14-06-00')"
      ]
     },
     "execution_count": 25,
     "metadata": {},
     "output_type": "execute_result"
    }
   ],
   "source": [
    "\n",
    "getPicInfo('./사진/KakaoTalk_2022-06-04 14-06-00.jpg')"
   ]
  },
  {
   "cell_type": "markdown",
   "metadata": {},
   "source": [
    "![](data:image/png;base64,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)"
   ]
  },
  {
   "cell_type": "code",
   "execution_count": 2,
   "metadata": {},
   "outputs": [],
   "source": [
    "# 주소 가져오기\n",
    "def getAddress(latitude,longitude):\n",
    "    lat_lng_str = f'{latitude},{longitude}' #위도 경도 문자열\n",
    "    \n",
    "    geolocator = Nominatim(user_agent='South Korea')\n",
    "\n",
    "    loc = geolocator.reverse(lat_lng_str)\n",
    "    addlist = loc.address.split(\",\")\n",
    "    # print(addlist)\n",
    "    si = addlist[3].strip()\n",
    "    do = addlist[2].strip()\n",
    "\n",
    "    return si,do"
   ]
  },
  {
   "cell_type": "code",
   "execution_count": 27,
   "metadata": {},
   "outputs": [
    {
     "data": {
      "text/plain": [
       "('은행동', '대야동')"
      ]
     },
     "execution_count": 27,
     "metadata": {},
     "output_type": "execute_result"
    }
   ],
   "source": [
    "getAddress(37.444803999722225,126.79831419972223)"
   ]
  },
  {
   "attachments": {},
   "cell_type": "markdown",
   "metadata": {},
   "source": [
    "## 종합코드"
   ]
  },
  {
   "cell_type": "code",
   "execution_count": 7,
   "metadata": {},
   "outputs": [],
   "source": [
    "from PIL import Image #파이썬 이미지 라이브러리(Python Image Library)\n",
    "from PIL.ExifTags import TAGS\n",
    "from geopy.geocoders import Nominatim\n",
    "\n",
    "import datetime\n",
    "from glob import glob\n",
    "import os\n",
    "\n",
    "flist = glob(r'사진\\*.jpg')\n",
    "\n",
    "for fname in flist:\n",
    "\n",
    "    lat, lon, pictime = getPicInfo(fname)\n",
    "    si,do = getAddress(lat,lon)\n",
    "    # print(lat, lon, pictime)\n",
    "    # print(si,do)\n",
    "    newfname = f'사진\\\\{si}_{do}_{pictime}.jpg'\n",
    "    # print(newfname)\n",
    "\n",
    "    os.rename(fname,newfname)"
   ]
  }
 ],
 "metadata": {
  "kernelspec": {
   "display_name": "Python 3",
   "language": "python",
   "name": "python3"
  },
  "language_info": {
   "codemirror_mode": {
    "name": "ipython",
    "version": 3
   },
   "file_extension": ".py",
   "mimetype": "text/x-python",
   "name": "python",
   "nbconvert_exporter": "python",
   "pygments_lexer": "ipython3",
   "version": "3.10.11"
  },
  "orig_nbformat": 4
 },
 "nbformat": 4,
 "nbformat_minor": 2
}
