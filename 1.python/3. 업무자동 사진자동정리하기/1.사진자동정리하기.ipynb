{
 "cells": [
  {
   "attachments": {},
   "cell_type": "markdown",
   "metadata": {},
   "source": [
    "# 사진 자동 정리하기\n",
    "\n",
    "사진 정보를 이용하여 위치, 날짜등의 이름으로 사진의 이름을 변경하여 정리합니다. \n",
    "\n",
    "[정리 전]\n",
    "\n",
    "KakaoTalk_2022-05-06 14-58-50.jpg\n",
    "\n",
    "\n",
    "[정리 후]\n",
    "\n",
    "시흥시_은행동_2022-06-04 14-06-00.jpg\n",
    "\n",
    "\n",
    "---"
   ]
  },
  {
   "attachments": {},
   "cell_type": "markdown",
   "metadata": {},
   "source": [
    "개발 프로세스\n",
    "\n",
    "1. 사진에서 정보 추출\n",
    "    * 위도, 경도(GPS 정보 추출) 추출\n",
    "    * 시간\n",
    "2. 위도, 경도 -> 주소로 변환\n",
    "3. 파일이름 변경\n",
    "    * 변경전:KakaoTalk_2022-05-20 14-22-57.jpg\n",
    "    * 변경후:아산시_구령리_2022-05-20 14-22-57.jpg"
   ]
  },
  {
   "attachments": {},
   "cell_type": "markdown",
   "metadata": {},
   "source": [
    "----"
   ]
  },
  {
   "attachments": {},
   "cell_type": "markdown",
   "metadata": {},
   "source": [
    "## 사진 정보 추출하기"
   ]
  },
  {
   "cell_type": "code",
   "execution_count": null,
   "metadata": {},
   "outputs": [],
   "source": [
    "from PIL import Image #파이썬 이미지 라이브러리(Python Image Library)\n",
    "from PIL.ExifTags import TAGS\n",
    "\n",
    "image = Image.open()\n",
    "info = image._getexif(); #이미지 메타정보\n",
    "info"
   ]
  },
  {
   "cell_type": "code",
   "execution_count": null,
   "metadata": {},
   "outputs": [],
   "source": [
    "#파일 속성정보 출력\n",
    "#https://exiftool.org/TagNames/EXIF.html\n",
    "from PIL.ExifTags import TAGS\n"
   ]
  },
  {
   "cell_type": "code",
   "execution_count": null,
   "metadata": {},
   "outputs": [],
   "source": [
    "# GPSInfo 정보 추출"
   ]
  },
  {
   "cell_type": "code",
   "execution_count": null,
   "metadata": {},
   "outputs": [],
   "source": [
    "# GPSInfo 정보 추출(위도, 경도)"
   ]
  },
  {
   "cell_type": "code",
   "execution_count": null,
   "metadata": {},
   "outputs": [],
   "source": [
    "# 위도 경도 값 보정 (도,분,초) 1도는 60분이며, 1분은 60초이다. 1도 = 60분 = 3600초"
   ]
  },
  {
   "attachments": {},
   "cell_type": "markdown",
   "metadata": {},
   "source": [
    "## 날짜 정보 추출하기"
   ]
  },
  {
   "cell_type": "code",
   "execution_count": null,
   "metadata": {},
   "outputs": [
    {
     "name": "stdout",
     "output_type": "stream",
     "text": [
      "2022:06:04 14:06:00\n"
     ]
    }
   ],
   "source": []
  },
  {
   "attachments": {},
   "cell_type": "markdown",
   "metadata": {},
   "source": [
    "## 위도,경도에서 주소로 변환\n",
    "\n",
    "https://pypi.org/project/geopy/"
   ]
  },
  {
   "cell_type": "code",
   "execution_count": null,
   "metadata": {},
   "outputs": [],
   "source": [
    "%pip install geopy"
   ]
  },
  {
   "cell_type": "code",
   "execution_count": null,
   "metadata": {},
   "outputs": [],
   "source": [
    "# 지오코드 사용법 살펴보기\n",
    "# 주소를 위도 경도로 변환\n",
    "\n",
    "from geopy.geocoders import Nominatim\n",
    "\n",
    "test = '구로구 디지털로 27'\n",
    "# test = '강남구 학동로 346'\n",
    "geolocator = Nominatim(user_agent='South Korea') # user_agent는 식별가능 문자열(아무 문자열)\n",
    "location = geolocator.geocode(test)\n",
    "\n",
    "latitude = location.latitude #위도\n",
    "longitude = location.longitude #경도\n",
    "\n",
    "print(latitude,longitude )"
   ]
  },
  {
   "cell_type": "code",
   "execution_count": null,
   "metadata": {},
   "outputs": [],
   "source": [
    "# 위도 경도를 주소로 변환\n",
    "lat_lng_str = f'{latitude},{longitude}' #위도 경도 문자열\n",
    "loc = geolocator.reverse(lat_lng_str)\n",
    "loc.address"
   ]
  },
  {
   "attachments": {},
   "cell_type": "markdown",
   "metadata": {},
   "source": [
    "---"
   ]
  },
  {
   "attachments": {},
   "cell_type": "markdown",
   "metadata": {},
   "source": [
    "## 함수 생성"
   ]
  },
  {
   "cell_type": "code",
   "execution_count": null,
   "metadata": {},
   "outputs": [],
   "source": [
    "# 사진 정보 가져오기\n",
    "# 매개변수: 파일 이름\n",
    "# 반환값: 위도, 경도, 시간\n",
    "def getPicInfo(fname):"
   ]
  },
  {
   "cell_type": "code",
   "execution_count": null,
   "metadata": {},
   "outputs": [],
   "source": [
    "# 주소 가져오기\n",
    "def getAddress(latitude,longitude):\n"
   ]
  },
  {
   "attachments": {},
   "cell_type": "markdown",
   "metadata": {},
   "source": [
    "## 종합코드"
   ]
  },
  {
   "cell_type": "code",
   "execution_count": 12,
   "metadata": {},
   "outputs": [],
   "source": [
    "from glob import glob\n",
    "import os\n",
    "\n",
    "flist = glob(r'사진\\*.jpg')\n",
    "\n",
    "for fname in flist:\n",
    "\n",
    "    lat, lon, pictime = getPicInfo(fname)\n",
    "    si,do = getAddress(lat,lon)\n",
    "    # print(lat, lon, pictime)\n",
    "    # print(si,do)\n",
    "    newfname = f'사진\\\\{si}_{do}_{pictime}.jpg'\n",
    "    # print(newfname)\n",
    "\n",
    "    os.rename(fname,newfname)"
   ]
  }
 ],
 "metadata": {
  "kernelspec": {
   "display_name": "Python 3",
   "language": "python",
   "name": "python3"
  },
  "language_info": {
   "codemirror_mode": {
    "name": "ipython",
    "version": 3
   },
   "file_extension": ".py",
   "mimetype": "text/x-python",
   "name": "python",
   "nbconvert_exporter": "python",
   "pygments_lexer": "ipython3",
   "version": "3.10.11"
  },
  "orig_nbformat": 4
 },
 "nbformat": 4,
 "nbformat_minor": 2
}
