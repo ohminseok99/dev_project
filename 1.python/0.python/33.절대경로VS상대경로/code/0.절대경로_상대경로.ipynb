{
 "cells": [
  {
   "attachments": {},
   "cell_type": "markdown",
   "metadata": {},
   "source": [
    "## 절대경로 vs 상대경로"
   ]
  },
  {
   "cell_type": "code",
   "execution_count": 1,
   "metadata": {},
   "outputs": [
    {
     "data": {
      "text/plain": [
       "'c:\\\\Dev\\\\0.python\\\\33.절대경로VS상대경로\\\\code'"
      ]
     },
     "execution_count": 1,
     "metadata": {},
     "output_type": "execute_result"
    }
   ],
   "source": [
    "# 현재의 위치\n",
    "\n",
    "import os\n",
    "os.getcwd()"
   ]
  },
  {
   "cell_type": "code",
   "execution_count": 2,
   "metadata": {},
   "outputs": [
    {
     "data": {
      "text/plain": [
       "'C:\\\\Dev\\\\0.python\\\\33.절대경로VS상대경로\\\\code\\\\0.절대경로_상대경로.ipynb'"
      ]
     },
     "execution_count": 2,
     "metadata": {},
     "output_type": "execute_result"
    }
   ],
   "source": [
    "# 절대 경로로 file_code.txt 읽기\n",
    "# 절대 경로는 해당 파일이 들어있는 가장 맨 위 상위폴더(C)부터의 경로를 의마한다.\n",
    "# 맨 앞에 r은 r-string: raw의 의미 - 원본 그 자체를 의미한다.\n",
    "file_path = r'C:\\Dev\\0.python\\33.절대경로VS상대경로\\code\\0.절대경로_상대경로.ipynb'\n",
    "file_path"
   ]
  },
  {
   "cell_type": "code",
   "execution_count": 3,
   "metadata": {},
   "outputs": [
    {
     "data": {
      "text/plain": [
       "'C:\\\\Dev\\x00.python\\x1b.절대경로VS상대경로\\\\code\\x00.절대경로_상대경로.ipynb'"
      ]
     },
     "execution_count": 3,
     "metadata": {},
     "output_type": "execute_result"
    }
   ],
   "source": [
    "file_path = 'C:\\Dev\\0.python\\33.절대경로VS상대경로\\code\\0.절대경로_상대경로.ipynb'\n",
    "file_path"
   ]
  },
  {
   "attachments": {},
   "cell_type": "markdown",
   "metadata": {},
   "source": [
    "> * 경로문자열이 \\와 결합하여 이스케이프 형태로 해석됨"
   ]
  },
  {
   "cell_type": "code",
   "execution_count": 8,
   "metadata": {},
   "outputs": [
    {
     "data": {
      "text/plain": [
       "'C:\\\\수업\\\\python\\\\33.절대경로VS상대경로\\\\code\\\\file_code.txt'"
      ]
     },
     "execution_count": 8,
     "metadata": {},
     "output_type": "execute_result"
    }
   ],
   "source": [
    "#해결방법1: \\를 \\자체로만 해석하도록 \\\\(역슬래쉬 두개)로 지정\n",
    "file_path = 'C:\\\\수업\\\\python\\\\33.절대경로VS상대경로\\\\code\\\\file_code.txt'\n",
    "file_path"
   ]
  },
  {
   "cell_type": "code",
   "execution_count": 4,
   "metadata": {},
   "outputs": [
    {
     "data": {
      "text/plain": [
       "'C:\\\\Dev\\\\0.python\\\\33.절대경로VS상대경로\\\\code\\\\0.절대경로_상대경로.ipynb'"
      ]
     },
     "execution_count": 4,
     "metadata": {},
     "output_type": "execute_result"
    }
   ],
   "source": [
    "#해결방법2: r의 의미는 raw(있는 그 자체, 보이는 그 자체로만 사용)\n",
    "file_path = r'C:\\Dev\\0.python\\33.절대경로VS상대경로\\code\\0.절대경로_상대경로.ipynb'\n",
    "file_path"
   ]
  },
  {
   "cell_type": "code",
   "execution_count": 7,
   "metadata": {},
   "outputs": [
    {
     "name": "stdout",
     "output_type": "stream",
     "text": [
      "code폴드 안에 위치하고 있습니다. \n"
     ]
    }
   ],
   "source": [
    "# 절대 경로로 file_code.txt 읽기\n",
    "\n",
    "file_path = r'C:\\Dev\\0.python\\33.절대경로VS상대경로\\code\\file_code.txt'\n",
    "file_path\n",
    "\n",
    "with open(file_path,'r',encoding='utf-8') as file:\n",
    "    content = file.read()\n",
    "    print(content)"
   ]
  },
  {
   "cell_type": "code",
   "execution_count": 8,
   "metadata": {},
   "outputs": [
    {
     "name": "stdout",
     "output_type": "stream",
     "text": [
      "code폴드 안에 위치하고 있습니다. \n"
     ]
    }
   ],
   "source": [
    "#왜 파일이름만 지정해도 되나요?\n",
    "#현재 실행되고 있는(.ipynb) 위치는 생략가능하기 때문\n",
    "\n",
    "# 상대경로\n",
    "file_path = r'file_code.txt'\n",
    "file_path\n",
    "\n",
    "with open(file_path,'r',encoding='utf-8') as file:\n",
    "    content = file.read()\n",
    "    print(content)"
   ]
  },
  {
   "cell_type": "code",
   "execution_count": 9,
   "metadata": {},
   "outputs": [
    {
     "name": "stdout",
     "output_type": "stream",
     "text": [
      "code폴드 안에 위치하고 있습니다. \n"
     ]
    }
   ],
   "source": [
    "# 상대경로\n",
    "# .: 현재의 위치\n",
    "# 지금 내가 있는 이 위치는 '절대경로_상대경로'파일임. -> 이 위치를 기준으로 상대적으로\n",
    "# 가장 가까이에 있는 file_code.txt를 찾아달라는 의미. 그래서 '.'을 붙인 것.\n",
    "file_path = r'./file_code.txt'\n",
    "file_path\n",
    "\n",
    "with open(file_path,'r',encoding='utf-8') as file:\n",
    "    content = file.read()\n",
    "    print(content)"
   ]
  },
  {
   "cell_type": "code",
   "execution_count": 10,
   "metadata": {},
   "outputs": [
    {
     "name": "stdout",
     "output_type": "stream",
     "text": [
      "root에 위치하고 있습니다. \n"
     ]
    }
   ],
   "source": [
    "# file_root.txt 파일 읽기(상대경로 사용)\n",
    "# .. : 위의 디렉토리로 이동, 한 칸 위로 가면 code폴더랑 같은 위치에 있는 file_root.txt를 찾는 것.\n",
    "# 상대경로\n",
    "file_path = r'../file_root.txt'\n",
    "file_path\n",
    "\n",
    "with open(file_path,'r',encoding='utf-8') as file:\n",
    "    content = file.read()\n",
    "    print(content)"
   ]
  },
  {
   "cell_type": "code",
   "execution_count": 16,
   "metadata": {},
   "outputs": [
    {
     "name": "stdout",
     "output_type": "stream",
     "text": [
      "test2 파일 안 입니다.\n"
     ]
    }
   ],
   "source": [
    "# file_data.txt 파일 읽기(상대경로 사용)\n",
    "\n",
    "file_path = r'C:\\Dev\\0.python\\33.절대경로VS상대경로\\code\\test\\test2\\file_test2.txt'\n",
    "file_path\n",
    "\n",
    "with open(file_path,'r',encoding='utf-8') as file:\n",
    "    content = file.read()\n",
    "    print(content)"
   ]
  },
  {
   "attachments": {},
   "cell_type": "markdown",
   "metadata": {},
   "source": [
    "## 상대 경로 사용하는 이유\n",
    "\n",
    "* test.py을 포함한 프로젝트(폴더) 전체 폴더의 위치는 개발자에 따라 또는 개발 상황에 따라 바뀔 수 있겠지요.\n",
    "* 프로젝트 폴더를 C: 드라이브에 넣거나, D:드라이브에 이동시키거나, Mac OS로 바뀌면\n",
    "* 절대 경로로 지정하면 일일이 다 수정해야하는 번거로움이 생깁니다. \n",
    "* 만약 상대 경로로 지정되어 있다면 test.py와 dog.jpg 파일의 관계는 변함 없기 때문에\n",
    "* 프로젝트 폴더가 이동하게 되어도 코드 내의 경로 수정은 하지 않아도 됩니다. "
   ]
  },
  {
   "cell_type": "markdown",
   "metadata": {},
   "source": [
    "## 연습문제\n",
    "file_test2.txt 파일의 경로를 지정하고 읽으세요."
   ]
  },
  {
   "cell_type": "code",
   "execution_count": 18,
   "metadata": {},
   "outputs": [
    {
     "name": "stdout",
     "output_type": "stream",
     "text": [
      "test2 파일 안 입니다.\n"
     ]
    }
   ],
   "source": [
    "file_path = r'./test/test2/file_test2.txt'\n",
    "file_path\n",
    "\n",
    "with open (file_path, 'r', encoding = 'utf-8') as file:\n",
    "    content = file.read()\n",
    "    print(content)"
   ]
  }
 ],
 "metadata": {
  "kernelspec": {
   "display_name": "Python 3",
   "language": "python",
   "name": "python3"
  },
  "language_info": {
   "codemirror_mode": {
    "name": "ipython",
    "version": 3
   },
   "file_extension": ".py",
   "mimetype": "text/x-python",
   "name": "python",
   "nbconvert_exporter": "python",
   "pygments_lexer": "ipython3",
   "version": "3.10.11"
  },
  "orig_nbformat": 4
 },
 "nbformat": 4,
 "nbformat_minor": 2
}
