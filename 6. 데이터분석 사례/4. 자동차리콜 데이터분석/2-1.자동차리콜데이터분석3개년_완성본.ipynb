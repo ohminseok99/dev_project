{
 "cells": [
  {
   "attachments": {},
   "cell_type": "markdown",
   "metadata": {},
   "source": [
    "## 자동차 리콜 3개년 분석"
   ]
  },
  {
   "cell_type": "markdown",
   "metadata": {},
   "source": [
    "## 데이터 출처\n",
    "-  https://www.data.go.kr/data/3048950/fileData.do\n",
    "\n",
    "[받은 파일]\n",
    "- 2020년:자동차리콜현황(2020) v3.0.csv\n",
    "- 2021년:자동차리콜현황(2021).csv\n",
    "- 2022년:한국교통안전공단_자동차결함 리콜현황_20221231.csv"
   ]
  },
  {
   "cell_type": "code",
   "execution_count": null,
   "metadata": {},
   "outputs": [],
   "source": [
    "import numpy as np \n",
    "import pandas as pd \n",
    "import matplotlib.pyplot as plt\n",
    "import seaborn as sns"
   ]
  },
  {
   "cell_type": "code",
   "execution_count": null,
   "metadata": {},
   "outputs": [],
   "source": [
    "df1 = pd.read_csv('./data/다운/자동차리콜현황(2020) v3.0.csv',encoding=\"euc-kr\")\n",
    "df2 = pd.read_csv('./data/다운/자동차리콜현황(2021).csv',encoding=\"euc-kr\")\n",
    "df3 = pd.read_csv('./data/다운/한국교통안전공단_자동차결함 리콜현황_20221231.csv',encoding=\"euc-kr\")"
   ]
  },
  {
   "cell_type": "code",
   "execution_count": null,
   "metadata": {},
   "outputs": [],
   "source": [
    "df = pd.concat([df1, df2, df3], ignore_index=True)"
   ]
  },
  {
   "cell_type": "code",
   "execution_count": null,
   "metadata": {},
   "outputs": [],
   "source": [
    "df.info()"
   ]
  },
  {
   "cell_type": "code",
   "execution_count": null,
   "metadata": {},
   "outputs": [],
   "source": [
    "df.duplicated().sum()"
   ]
  },
  {
   "cell_type": "code",
   "execution_count": null,
   "metadata": {},
   "outputs": [],
   "source": [
    "df[df.duplicated(keep=False)]"
   ]
  },
  {
   "cell_type": "code",
   "execution_count": null,
   "metadata": {},
   "outputs": [],
   "source": [
    "print(\"Before:\", len(df))\n",
    "df = df.drop_duplicates()\n",
    "print(\"After:\", len(df))"
   ]
  },
  {
   "cell_type": "code",
   "execution_count": null,
   "metadata": {},
   "outputs": [],
   "source": [
    "df['생산기간(부터)'] = pd.to_datetime(df['생산기간(부터)'])\n",
    "df['생산_년']=df['생산기간(부터)'].dt.year\n",
    "df['생산_월']=df['생산기간(부터)'].dt.month\n",
    "df['생산_일']=df['생산기간(부터)'].dt.day\n",
    "\n",
    "df['생산기간(까지)'] = pd.to_datetime(df['생산기간(까지)'])\n",
    "df['종료_년']=df['생산기간(까지)'].dt.year\n",
    "df['종료_월']=df['생산기간(까지)'].dt.month\n",
    "df['종료_일']=df['생산기간(까지)'].dt.day\n",
    "\n",
    "df['리콜개시일'] = pd.to_datetime(df['리콜개시일'])\n",
    "df['리콜_년']=df['리콜개시일'].dt.year\n",
    "df['리콜_월']=df['리콜개시일'].dt.month\n",
    "df['리콜_일']=df['리콜개시일'].dt.day"
   ]
  },
  {
   "attachments": {},
   "cell_type": "markdown",
   "metadata": {},
   "source": [
    "## 1. 제조사별 리콜 현황\n",
    "* 3년동안 리콜 건수가 가장 많은 제조사는?"
   ]
  },
  {
   "cell_type": "code",
   "execution_count": null,
   "metadata": {},
   "outputs": [],
   "source": [
    "df[\"제작자\"].value_counts()"
   ]
  },
  {
   "cell_type": "code",
   "execution_count": null,
   "metadata": {},
   "outputs": [],
   "source": [
    "tmp = df['제작자'].value_counts().to_frame('count')"
   ]
  },
  {
   "cell_type": "code",
   "execution_count": null,
   "metadata": {},
   "outputs": [],
   "source": [
    "import matplotlib.font_manager as fm\n",
    "import matplotlib.pyplot as plt\n",
    "\n",
    "plt.figure(figsize=(20, 6))\n",
    "plt.rc('font', family = \"Malgun Gothic\") #한글사용\n",
    "plt.rcParams['axes.unicode_minus']=False #마이너스 부호 깨짐\n",
    "\n",
    "x = tmp.index\n",
    "y = tmp['count']\n",
    "\n",
    "plt.bar(x, height=y)\n",
    "plt.xticks(rotation=90)\n",
    "plt.title('제조사별 리콜 현황')\n",
    "plt.show()"
   ]
  },
  {
   "cell_type": "markdown",
   "metadata": {},
   "source": [
    "```\n",
    "문제: 3년동안 리콜건수가 가장 많은 제조사는?\n",
    "답: 비엠더블유코리아\n",
    "```"
   ]
  },
  {
   "attachments": {},
   "cell_type": "markdown",
   "metadata": {},
   "source": [
    "## 2.(그나마) 튼튼하게 만드는 기업 vs  Worst 기업 top10\n",
    "\n",
    "* 출고 년도부터 리콜 개시일 사이의 기간을 사용기간이라고 할때, \n",
    "* 이 사용기간이 길면 길수록 그나마 튼튼하게 만들었다고 볼 수 있다. \n",
    "* 물론, 여기 리콜현황에 등록되지 않은 제조사가 베스트이겠지만....\n",
    "* 사용기간의 평균이 가장 높고 낮은 10개 기업 리스트를 알아보자"
   ]
  },
  {
   "cell_type": "code",
   "execution_count": null,
   "metadata": {},
   "outputs": [],
   "source": [
    "# 사용기간 컬럼 새로 만들기(파생변수 생성해서)\n",
    "\n",
    "df['사용기간'] = df['리콜개시일'] - df['생산기간(까지)']"
   ]
  },
  {
   "cell_type": "code",
   "execution_count": null,
   "metadata": {},
   "outputs": [],
   "source": [
    "df.head(3)"
   ]
  },
  {
   "cell_type": "code",
   "execution_count": null,
   "metadata": {},
   "outputs": [],
   "source": [
    "# 제조사별 사용기간이 가장 긴 순서대로 정렬\n",
    "avg_usage = df.groupby('제작자')['사용기간'].mean().sort_values(ascending=False).to_frame('튼튼기간')\n"
   ]
  },
  {
   "cell_type": "code",
   "execution_count": null,
   "metadata": {},
   "outputs": [],
   "source": [
    "avg_usage.head(3)"
   ]
  },
  {
   "cell_type": "code",
   "execution_count": null,
   "metadata": {},
   "outputs": [],
   "source": [
    "avg_usage['튼튼기간'] = avg_usage['튼튼기간'].dt.days"
   ]
  },
  {
   "cell_type": "code",
   "execution_count": null,
   "metadata": {},
   "outputs": [],
   "source": [
    "good_brand = avg_usage.head(10)\n",
    "bad_brand = avg_usage.tail(10)"
   ]
  },
  {
   "cell_type": "code",
   "execution_count": null,
   "metadata": {},
   "outputs": [],
   "source": [
    "good_brand['튼튼기간']"
   ]
  },
  {
   "cell_type": "code",
   "execution_count": null,
   "metadata": {},
   "outputs": [],
   "source": [
    "import matplotlib.font_manager as fm\n",
    "import matplotlib.pyplot as plt\n",
    "\n",
    "plt.figure(figsize=(8, 4))\n",
    "plt.rc('font', family = \"Malgun Gothic\") #한글사용\n",
    "plt.rcParams['axes.unicode_minus']=False #마이너스 부호 깨짐\n",
    "\n",
    "\n",
    "x = good_brand.index\n",
    "y = good_brand['튼튼기간']\n",
    "\n",
    "plt.subplot(1, 2, 1)\n",
    "plt.bar(x=x, height=y)\n",
    "plt.xticks(rotation=90)\n",
    "plt.title('사용기간 가장 긴 제조사(good)')\n",
    "\n",
    "x = bad_brand.index\n",
    "y = bad_brand['튼튼기간']\n",
    "\n",
    "plt.subplot(1, 2, 2)\n",
    "plt.bar(x=x, height=y)\n",
    "plt.xticks(rotation=90)\n",
    "plt.title('사용기간 가장 짧은 제조사(bad)')\n",
    "\n",
    "plt.show()\n"
   ]
  },
  {
   "cell_type": "markdown",
   "metadata": {},
   "source": [
    "```\n",
    "문제:그나마 튼튼 제조사 top 3는?\n",
    "답: 한신특장, 한국닛산, 비엠더블유코리아\n",
    "```"
   ]
  },
  {
   "attachments": {},
   "cell_type": "markdown",
   "metadata": {},
   "source": [
    "## 3. 리콜이 가장 많은 제조사 1위의 리콜 원인은 ?\n",
    "* 리콜 대마왕 XXX 기업의 문제의 모델 xxx에 대해 대규모 손해배상청구 소송을 진행하려 한다. \n",
    "* 이 회사의 주요 리콜 사유를 알아내고,(워드 클라우드로 제작해서 키워드 추출)\n",
    "* 해당 사유로 리콜된 최고 문제 모델을 찾아내서\n",
    "* 소송으로 가즈아~"
   ]
  },
  {
   "cell_type": "code",
   "execution_count": null,
   "metadata": {},
   "outputs": [],
   "source": [
    "# 리콜건수가 가장 많은 제조사는?\n",
    "brand = df['제작자'].value_counts().index[0]\n",
    "brand"
   ]
  },
  {
   "cell_type": "code",
   "execution_count": null,
   "metadata": {},
   "outputs": [],
   "source": [
    "# 리콜 사유는?\n",
    "result = df[df['제작자'] == brand]\n",
    "result.head(3)\n"
   ]
  },
  {
   "cell_type": "code",
   "execution_count": null,
   "metadata": {},
   "outputs": [],
   "source": [
    "# 워드클라우드를 사용해 키워드 추출\n",
    "\n",
    "from wordcloud import WordCloud, STOPWORDS\n",
    "set(STOPWORDS)\n",
    "spwords = set(['되었습니다','발견','되었습니다.',\"수이기는\",\"적은 수이기는\",\"동안\", \"인하여\", \"있는\", \"경우\", \"있습니다\", \"가능성이\", \"않을\", \"차량의\", \"가\", \"에\", \"될\", \"이\",\n",
    "               \"인해\", \"수\", \"중\", \"시\", \"또는\", \"있음\", \"의\", \"및\", \"있으며\", \"발생할\", \"이로\", \"오류로\", \"해당\", \"있어\", \"내에\",\n",
    "                \"못\", '으로\", \"의한', \"위해\", '후', '할', '로', '더', '와', '나', '전', '매우', '등', '내에', '을', '함'])\n",
    "\n",
    "caselist = result['리콜사유'].values\n",
    "text = ' '.join(caselist)\n",
    "len(text)\n",
    "\n",
    "\n",
    "font_path = './NanumGothic.ttf'\n",
    "wc1 = WordCloud(max_font_size=200, stopwords=spwords, font_path=font_path,\n",
    "                background_color='white', width=800, height=800)\n",
    "wc1.generate(text)\n",
    "\n",
    "plt.figure(figsize=(6, 4))\n",
    "plt.imshow(wc1)\n",
    "plt.tight_layout()\n",
    "plt.axis('off')\n",
    "plt.show()\n"
   ]
  },
  {
   "cell_type": "code",
   "execution_count": null,
   "metadata": {},
   "outputs": [],
   "source": [
    "word_freq = wc1.process_text(text)\n",
    "sorted_dict = sorted(word_freq.items(), key = lambda item: item[1], reverse = True)\n",
    "print(sorted_dict)"
   ]
  },
  {
   "cell_type": "code",
   "execution_count": null,
   "metadata": {},
   "outputs": [],
   "source": [
    "sorted_dict[0]"
   ]
  },
  {
   "cell_type": "code",
   "execution_count": null,
   "metadata": {},
   "outputs": [],
   "source": [
    "print(f'{sorted_dict[0][0]}:{sorted_dict[0][1]}')\n",
    "print(f'{sorted_dict[1][0]}:{sorted_dict[1][1]}')"
   ]
  },
  {
   "cell_type": "code",
   "execution_count": null,
   "metadata": {},
   "outputs": [],
   "source": [
    "# 주요 원인인 EGR이 포함된 이유 상세 보기\n",
    "egr = df[df['리콜사유'].str.contains('EGR')]\n",
    "egr.head(5)"
   ]
  },
  {
   "cell_type": "code",
   "execution_count": null,
   "metadata": {},
   "outputs": [],
   "source": [
    "len(egr)"
   ]
  },
  {
   "cell_type": "code",
   "execution_count": null,
   "metadata": {},
   "outputs": [],
   "source": [
    "#EGR 원인으로 리콜된 가장 나쁜 모델3개는?\n",
    "egr['차명'].value_counts().head(3)"
   ]
  },
  {
   "cell_type": "markdown",
   "metadata": {},
   "source": [
    "```\n",
    "리콜 주요 원인은? EGR 쿨러\n",
    "\n",
    "그래서, 가장 나쁜 모델은? BMW 320d\n",
    "\n",
    "```"
   ]
  }
 ],
 "metadata": {
  "kernelspec": {
   "display_name": "venv1",
   "language": "python",
   "name": "python3"
  },
  "language_info": {
   "codemirror_mode": {
    "name": "ipython",
    "version": 3
   },
   "file_extension": ".py",
   "mimetype": "text/x-python",
   "name": "python",
   "nbconvert_exporter": "python",
   "pygments_lexer": "ipython3",
   "version": "3.10.11"
  },
  "orig_nbformat": 4
 },
 "nbformat": 4,
 "nbformat_minor": 2
}
