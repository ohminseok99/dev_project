{
 "cells": [
  {
   "cell_type": "markdown",
   "metadata": {},
   "source": [
    "## 데이터 프레임 정보"
   ]
  },
  {
   "cell_type": "code",
   "execution_count": 1,
   "metadata": {},
   "outputs": [
    {
     "data": {
      "text/html": [
       "<div>\n",
       "<style scoped>\n",
       "    .dataframe tbody tr th:only-of-type {\n",
       "        vertical-align: middle;\n",
       "    }\n",
       "\n",
       "    .dataframe tbody tr th {\n",
       "        vertical-align: top;\n",
       "    }\n",
       "\n",
       "    .dataframe thead th {\n",
       "        text-align: right;\n",
       "    }\n",
       "</style>\n",
       "<table border=\"1\" class=\"dataframe\">\n",
       "  <thead>\n",
       "    <tr style=\"text-align: right;\">\n",
       "      <th></th>\n",
       "      <th>학번</th>\n",
       "      <th>이름</th>\n",
       "      <th>수학</th>\n",
       "      <th>영어</th>\n",
       "      <th>국어</th>\n",
       "      <th>출석</th>\n",
       "      <th>제출일</th>\n",
       "    </tr>\n",
       "  </thead>\n",
       "  <tbody>\n",
       "    <tr>\n",
       "      <th>0</th>\n",
       "      <td>A1021</td>\n",
       "      <td>김용명</td>\n",
       "      <td>92</td>\n",
       "      <td>88</td>\n",
       "      <td>69</td>\n",
       "      <td>True</td>\n",
       "      <td>20230501</td>\n",
       "    </tr>\n",
       "    <tr>\n",
       "      <th>1</th>\n",
       "      <td>A1022</td>\n",
       "      <td>다나카</td>\n",
       "      <td>100</td>\n",
       "      <td>75</td>\n",
       "      <td>96</td>\n",
       "      <td>True</td>\n",
       "      <td>20230502</td>\n",
       "    </tr>\n",
       "    <tr>\n",
       "      <th>2</th>\n",
       "      <td>A1023</td>\n",
       "      <td>유재석</td>\n",
       "      <td>73</td>\n",
       "      <td>45</td>\n",
       "      <td>100</td>\n",
       "      <td>False</td>\n",
       "      <td>20230502</td>\n",
       "    </tr>\n",
       "    <tr>\n",
       "      <th>3</th>\n",
       "      <td>A1024</td>\n",
       "      <td>이용진</td>\n",
       "      <td>89</td>\n",
       "      <td>98</td>\n",
       "      <td>74</td>\n",
       "      <td>False</td>\n",
       "      <td>20230506</td>\n",
       "    </tr>\n",
       "  </tbody>\n",
       "</table>\n",
       "</div>"
      ],
      "text/plain": [
       "      학번   이름   수학  영어   국어     출석       제출일\n",
       "0  A1021  김용명   92  88   69   True  20230501\n",
       "1  A1022  다나카  100  75   96   True  20230502\n",
       "2  A1023  유재석   73  45  100  False  20230502\n",
       "3  A1024  이용진   89  98   74  False  20230506"
      ]
     },
     "execution_count": 1,
     "metadata": {},
     "output_type": "execute_result"
    }
   ],
   "source": [
    "import pandas as pd\n",
    "df = pd.DataFrame({\n",
    "    \"학번\": ['A1021','A1022', 'A1023', 'A1024'],  \n",
    "    \"이름\": ['김용명','다나카','유재석','이용진'], \n",
    "    \"수학\": ['92', '100', '73', '89'],\n",
    "    \"영어\": ['88', '75', '45', '98'],\n",
    "    \"국어\": ['69', '96', '100','74'],\n",
    "    '출석': [True,True,False,False],\n",
    "    '제출일':['20230501','20230502','20230502','20230506']\n",
    "})\n",
    "df"
   ]
  },
  {
   "cell_type": "code",
   "execution_count": 2,
   "metadata": {},
   "outputs": [
    {
     "name": "stdout",
     "output_type": "stream",
     "text": [
      "<class 'pandas.core.frame.DataFrame'>\n",
      "RangeIndex: 4 entries, 0 to 3\n",
      "Data columns (total 7 columns):\n",
      " #   Column  Non-Null Count  Dtype \n",
      "---  ------  --------------  ----- \n",
      " 0   학번      4 non-null      object\n",
      " 1   이름      4 non-null      object\n",
      " 2   수학      4 non-null      object\n",
      " 3   영어      4 non-null      object\n",
      " 4   국어      4 non-null      object\n",
      " 5   출석      4 non-null      bool  \n",
      " 6   제출일     4 non-null      object\n",
      "dtypes: bool(1), object(6)\n",
      "memory usage: 324.0+ bytes\n"
     ]
    }
   ],
   "source": [
    "df.info()"
   ]
  },
  {
   "cell_type": "code",
   "execution_count": 3,
   "metadata": {},
   "outputs": [
    {
     "data": {
      "text/plain": [
       "(4, 7)"
      ]
     },
     "execution_count": 3,
     "metadata": {},
     "output_type": "execute_result"
    }
   ],
   "source": [
    "df.shape   # 행, 열에 대한 정보"
   ]
  },
  {
   "cell_type": "code",
   "execution_count": 4,
   "metadata": {},
   "outputs": [
    {
     "data": {
      "text/plain": [
       "28"
      ]
     },
     "execution_count": 4,
     "metadata": {},
     "output_type": "execute_result"
    }
   ],
   "source": [
    "df.size   # 데이터 개수: values"
   ]
  },
  {
   "cell_type": "code",
   "execution_count": 5,
   "metadata": {},
   "outputs": [
    {
     "data": {
      "text/plain": [
       "4"
      ]
     },
     "execution_count": 5,
     "metadata": {},
     "output_type": "execute_result"
    }
   ],
   "source": [
    "len(df)   # 관측치 수, 행 수"
   ]
  },
  {
   "cell_type": "code",
   "execution_count": 6,
   "metadata": {},
   "outputs": [
    {
     "data": {
      "text/html": [
       "<div>\n",
       "<style scoped>\n",
       "    .dataframe tbody tr th:only-of-type {\n",
       "        vertical-align: middle;\n",
       "    }\n",
       "\n",
       "    .dataframe tbody tr th {\n",
       "        vertical-align: top;\n",
       "    }\n",
       "\n",
       "    .dataframe thead th {\n",
       "        text-align: right;\n",
       "    }\n",
       "</style>\n",
       "<table border=\"1\" class=\"dataframe\">\n",
       "  <thead>\n",
       "    <tr style=\"text-align: right;\">\n",
       "      <th></th>\n",
       "      <th>학번</th>\n",
       "      <th>이름</th>\n",
       "      <th>수학</th>\n",
       "      <th>영어</th>\n",
       "      <th>국어</th>\n",
       "      <th>출석</th>\n",
       "      <th>제출일</th>\n",
       "    </tr>\n",
       "  </thead>\n",
       "  <tbody>\n",
       "    <tr>\n",
       "      <th>count</th>\n",
       "      <td>4</td>\n",
       "      <td>4</td>\n",
       "      <td>4</td>\n",
       "      <td>4</td>\n",
       "      <td>4</td>\n",
       "      <td>4</td>\n",
       "      <td>4</td>\n",
       "    </tr>\n",
       "    <tr>\n",
       "      <th>unique</th>\n",
       "      <td>4</td>\n",
       "      <td>4</td>\n",
       "      <td>4</td>\n",
       "      <td>4</td>\n",
       "      <td>4</td>\n",
       "      <td>2</td>\n",
       "      <td>3</td>\n",
       "    </tr>\n",
       "    <tr>\n",
       "      <th>top</th>\n",
       "      <td>A1021</td>\n",
       "      <td>김용명</td>\n",
       "      <td>92</td>\n",
       "      <td>88</td>\n",
       "      <td>69</td>\n",
       "      <td>True</td>\n",
       "      <td>20230502</td>\n",
       "    </tr>\n",
       "    <tr>\n",
       "      <th>freq</th>\n",
       "      <td>1</td>\n",
       "      <td>1</td>\n",
       "      <td>1</td>\n",
       "      <td>1</td>\n",
       "      <td>1</td>\n",
       "      <td>2</td>\n",
       "      <td>2</td>\n",
       "    </tr>\n",
       "  </tbody>\n",
       "</table>\n",
       "</div>"
      ],
      "text/plain": [
       "           학번   이름  수학  영어  국어    출석       제출일\n",
       "count       4    4   4   4   4     4         4\n",
       "unique      4    4   4   4   4     2         3\n",
       "top     A1021  김용명  92  88  69  True  20230502\n",
       "freq        1    1   1   1   1     2         2"
      ]
     },
     "execution_count": 6,
     "metadata": {},
     "output_type": "execute_result"
    }
   ],
   "source": [
    "df.describe()   # 기초 통계 정보이기 때문에: 수치형 데이터일 때만 의미있음."
   ]
  },
  {
   "cell_type": "code",
   "execution_count": 9,
   "metadata": {},
   "outputs": [
    {
     "data": {
      "text/html": [
       "<div>\n",
       "<style scoped>\n",
       "    .dataframe tbody tr th:only-of-type {\n",
       "        vertical-align: middle;\n",
       "    }\n",
       "\n",
       "    .dataframe tbody tr th {\n",
       "        vertical-align: top;\n",
       "    }\n",
       "\n",
       "    .dataframe thead th {\n",
       "        text-align: right;\n",
       "    }\n",
       "</style>\n",
       "<table border=\"1\" class=\"dataframe\">\n",
       "  <thead>\n",
       "    <tr style=\"text-align: right;\">\n",
       "      <th></th>\n",
       "      <th>학번</th>\n",
       "      <th>이름</th>\n",
       "      <th>수학</th>\n",
       "      <th>영어</th>\n",
       "      <th>국어</th>\n",
       "      <th>출석</th>\n",
       "      <th>제출일</th>\n",
       "    </tr>\n",
       "  </thead>\n",
       "  <tbody>\n",
       "    <tr>\n",
       "      <th>0</th>\n",
       "      <td>A1021</td>\n",
       "      <td>김용명</td>\n",
       "      <td>92</td>\n",
       "      <td>88</td>\n",
       "      <td>69</td>\n",
       "      <td>True</td>\n",
       "      <td>20230501</td>\n",
       "    </tr>\n",
       "    <tr>\n",
       "      <th>3</th>\n",
       "      <td>A1024</td>\n",
       "      <td>이용진</td>\n",
       "      <td>89</td>\n",
       "      <td>98</td>\n",
       "      <td>74</td>\n",
       "      <td>False</td>\n",
       "      <td>20230506</td>\n",
       "    </tr>\n",
       "    <tr>\n",
       "      <th>2</th>\n",
       "      <td>A1023</td>\n",
       "      <td>유재석</td>\n",
       "      <td>73</td>\n",
       "      <td>45</td>\n",
       "      <td>100</td>\n",
       "      <td>False</td>\n",
       "      <td>20230502</td>\n",
       "    </tr>\n",
       "    <tr>\n",
       "      <th>1</th>\n",
       "      <td>A1022</td>\n",
       "      <td>다나카</td>\n",
       "      <td>100</td>\n",
       "      <td>75</td>\n",
       "      <td>96</td>\n",
       "      <td>True</td>\n",
       "      <td>20230502</td>\n",
       "    </tr>\n",
       "  </tbody>\n",
       "</table>\n",
       "</div>"
      ],
      "text/plain": [
       "      학번   이름   수학  영어   국어     출석       제출일\n",
       "0  A1021  김용명   92  88   69   True  20230501\n",
       "3  A1024  이용진   89  98   74  False  20230506\n",
       "2  A1023  유재석   73  45  100  False  20230502\n",
       "1  A1022  다나카  100  75   96   True  20230502"
      ]
     },
     "execution_count": 9,
     "metadata": {},
     "output_type": "execute_result"
    }
   ],
   "source": [
    "#수학 제일 잘한 사람은?\n",
    "df.sort_values(by = '수학', ascending=False)"
   ]
  },
  {
   "cell_type": "markdown",
   "metadata": {},
   "source": [
    "```\n",
    "수학 100점인 다나카가 제일 상위에 출력되어야 하는데\n",
    "왜? 김용명이 제일 위에 올까?\n",
    "```"
   ]
  },
  {
   "cell_type": "code",
   "execution_count": 11,
   "metadata": {},
   "outputs": [
    {
     "data": {
      "text/html": [
       "<div>\n",
       "<style scoped>\n",
       "    .dataframe tbody tr th:only-of-type {\n",
       "        vertical-align: middle;\n",
       "    }\n",
       "\n",
       "    .dataframe tbody tr th {\n",
       "        vertical-align: top;\n",
       "    }\n",
       "\n",
       "    .dataframe thead th {\n",
       "        text-align: right;\n",
       "    }\n",
       "</style>\n",
       "<table border=\"1\" class=\"dataframe\">\n",
       "  <thead>\n",
       "    <tr style=\"text-align: right;\">\n",
       "      <th></th>\n",
       "      <th>학번</th>\n",
       "      <th>이름</th>\n",
       "      <th>수학</th>\n",
       "      <th>영어</th>\n",
       "      <th>국어</th>\n",
       "      <th>출석</th>\n",
       "      <th>제출일</th>\n",
       "    </tr>\n",
       "  </thead>\n",
       "  <tbody>\n",
       "    <tr>\n",
       "      <th>1</th>\n",
       "      <td>A1022</td>\n",
       "      <td>다나카</td>\n",
       "      <td>100</td>\n",
       "      <td>75</td>\n",
       "      <td>96</td>\n",
       "      <td>True</td>\n",
       "      <td>20230502</td>\n",
       "    </tr>\n",
       "    <tr>\n",
       "      <th>2</th>\n",
       "      <td>A1023</td>\n",
       "      <td>유재석</td>\n",
       "      <td>73</td>\n",
       "      <td>45</td>\n",
       "      <td>100</td>\n",
       "      <td>False</td>\n",
       "      <td>20230502</td>\n",
       "    </tr>\n",
       "    <tr>\n",
       "      <th>3</th>\n",
       "      <td>A1024</td>\n",
       "      <td>이용진</td>\n",
       "      <td>89</td>\n",
       "      <td>98</td>\n",
       "      <td>74</td>\n",
       "      <td>False</td>\n",
       "      <td>20230506</td>\n",
       "    </tr>\n",
       "    <tr>\n",
       "      <th>0</th>\n",
       "      <td>A1021</td>\n",
       "      <td>김용명</td>\n",
       "      <td>92</td>\n",
       "      <td>88</td>\n",
       "      <td>69</td>\n",
       "      <td>True</td>\n",
       "      <td>20230501</td>\n",
       "    </tr>\n",
       "  </tbody>\n",
       "</table>\n",
       "</div>"
      ],
      "text/plain": [
       "      학번   이름   수학  영어   국어     출석       제출일\n",
       "1  A1022  다나카  100  75   96   True  20230502\n",
       "2  A1023  유재석   73  45  100  False  20230502\n",
       "3  A1024  이용진   89  98   74  False  20230506\n",
       "0  A1021  김용명   92  88   69   True  20230501"
      ]
     },
     "execution_count": 11,
     "metadata": {},
     "output_type": "execute_result"
    }
   ],
   "source": [
    "df.sort_values(by = '수학', ascending=True)"
   ]
  },
  {
   "cell_type": "markdown",
   "metadata": {},
   "source": [
    "## 형 변환"
   ]
  },
  {
   "cell_type": "code",
   "execution_count": 12,
   "metadata": {},
   "outputs": [
    {
     "name": "stdout",
     "output_type": "stream",
     "text": [
      "<class 'pandas.core.frame.DataFrame'>\n",
      "RangeIndex: 4 entries, 0 to 3\n",
      "Data columns (total 7 columns):\n",
      " #   Column  Non-Null Count  Dtype \n",
      "---  ------  --------------  ----- \n",
      " 0   학번      4 non-null      object\n",
      " 1   이름      4 non-null      object\n",
      " 2   수학      4 non-null      object\n",
      " 3   영어      4 non-null      object\n",
      " 4   국어      4 non-null      object\n",
      " 5   출석      4 non-null      bool  \n",
      " 6   제출일     4 non-null      object\n",
      "dtypes: bool(1), object(6)\n",
      "memory usage: 324.0+ bytes\n"
     ]
    }
   ],
   "source": [
    "df.info()"
   ]
  },
  {
   "cell_type": "code",
   "execution_count": 13,
   "metadata": {},
   "outputs": [
    {
     "name": "stdout",
     "output_type": "stream",
     "text": [
      "<class 'pandas.core.frame.DataFrame'>\n",
      "RangeIndex: 4 entries, 0 to 3\n",
      "Data columns (total 7 columns):\n",
      " #   Column  Non-Null Count  Dtype \n",
      "---  ------  --------------  ----- \n",
      " 0   학번      4 non-null      object\n",
      " 1   이름      4 non-null      object\n",
      " 2   수학      4 non-null      int64 \n",
      " 3   영어      4 non-null      object\n",
      " 4   국어      4 non-null      object\n",
      " 5   출석      4 non-null      bool  \n",
      " 6   제출일     4 non-null      object\n",
      "dtypes: bool(1), int64(1), object(5)\n",
      "memory usage: 324.0+ bytes\n"
     ]
    }
   ],
   "source": [
    "df['수학'] = df['수학'].astype('int64')   # 수학 컬럼 수치형으로 바꾸기\n",
    "df.info()"
   ]
  },
  {
   "cell_type": "code",
   "execution_count": 15,
   "metadata": {},
   "outputs": [
    {
     "name": "stdout",
     "output_type": "stream",
     "text": [
      "<class 'pandas.core.frame.DataFrame'>\n",
      "RangeIndex: 4 entries, 0 to 3\n",
      "Data columns (total 7 columns):\n",
      " #   Column  Non-Null Count  Dtype  \n",
      "---  ------  --------------  -----  \n",
      " 0   학번      4 non-null      object \n",
      " 1   이름      4 non-null      object \n",
      " 2   수학      4 non-null      int64  \n",
      " 3   영어      4 non-null      object \n",
      " 4   국어      4 non-null      float64\n",
      " 5   출석      4 non-null      bool   \n",
      " 6   제출일     4 non-null      object \n",
      "dtypes: bool(1), float64(1), int64(1), object(4)\n",
      "memory usage: 324.0+ bytes\n"
     ]
    }
   ],
   "source": [
    "#수학은 정수, 영어와 국어는 실수로 변환하기\n",
    "df['국어'] = df['국어'].astype('float64')\n",
    "df.info()"
   ]
  },
  {
   "cell_type": "code",
   "execution_count": 20,
   "metadata": {},
   "outputs": [
    {
     "data": {
      "text/plain": [
       "'다나카'"
      ]
     },
     "execution_count": 20,
     "metadata": {},
     "output_type": "execute_result"
    }
   ],
   "source": [
    "#수학 제일 잘 한사람은?\n",
    "df.sort_values(by = '수학', ascending=False, inplace=True)\n",
    "df\n",
    "df.iloc[0,1]\n"
   ]
  },
  {
   "cell_type": "code",
   "execution_count": 25,
   "metadata": {},
   "outputs": [
    {
     "data": {
      "text/plain": [
       "27"
      ]
     },
     "execution_count": 25,
     "metadata": {},
     "output_type": "execute_result"
    }
   ],
   "source": [
    "# 수학 1등과 꼴등의 점수 차\n",
    "df\n",
    "#a = df.iloc[0,2]\n",
    "#b = df.iloc[3,2]\n",
    "#a-b\n",
    "\n",
    "df.head(1)['수학'].values[0] - df.tail(1)['수학'].values[0]\n"
   ]
  },
  {
   "cell_type": "markdown",
   "metadata": {},
   "source": [
    "## 날짜 변환"
   ]
  },
  {
   "cell_type": "code",
   "execution_count": 26,
   "metadata": {},
   "outputs": [
    {
     "data": {
      "text/html": [
       "<div>\n",
       "<style scoped>\n",
       "    .dataframe tbody tr th:only-of-type {\n",
       "        vertical-align: middle;\n",
       "    }\n",
       "\n",
       "    .dataframe tbody tr th {\n",
       "        vertical-align: top;\n",
       "    }\n",
       "\n",
       "    .dataframe thead th {\n",
       "        text-align: right;\n",
       "    }\n",
       "</style>\n",
       "<table border=\"1\" class=\"dataframe\">\n",
       "  <thead>\n",
       "    <tr style=\"text-align: right;\">\n",
       "      <th></th>\n",
       "      <th>학번</th>\n",
       "      <th>이름</th>\n",
       "      <th>수학</th>\n",
       "      <th>영어</th>\n",
       "      <th>국어</th>\n",
       "      <th>출석</th>\n",
       "      <th>제출일</th>\n",
       "    </tr>\n",
       "  </thead>\n",
       "  <tbody>\n",
       "    <tr>\n",
       "      <th>1</th>\n",
       "      <td>A1022</td>\n",
       "      <td>다나카</td>\n",
       "      <td>100</td>\n",
       "      <td>75</td>\n",
       "      <td>96.0</td>\n",
       "      <td>True</td>\n",
       "      <td>2023-05-02</td>\n",
       "    </tr>\n",
       "    <tr>\n",
       "      <th>0</th>\n",
       "      <td>A1021</td>\n",
       "      <td>김용명</td>\n",
       "      <td>92</td>\n",
       "      <td>88</td>\n",
       "      <td>69.0</td>\n",
       "      <td>True</td>\n",
       "      <td>2023-05-01</td>\n",
       "    </tr>\n",
       "    <tr>\n",
       "      <th>3</th>\n",
       "      <td>A1024</td>\n",
       "      <td>이용진</td>\n",
       "      <td>89</td>\n",
       "      <td>98</td>\n",
       "      <td>74.0</td>\n",
       "      <td>False</td>\n",
       "      <td>2023-05-06</td>\n",
       "    </tr>\n",
       "    <tr>\n",
       "      <th>2</th>\n",
       "      <td>A1023</td>\n",
       "      <td>유재석</td>\n",
       "      <td>73</td>\n",
       "      <td>45</td>\n",
       "      <td>100.0</td>\n",
       "      <td>False</td>\n",
       "      <td>2023-05-02</td>\n",
       "    </tr>\n",
       "  </tbody>\n",
       "</table>\n",
       "</div>"
      ],
      "text/plain": [
       "      학번   이름   수학  영어     국어     출석        제출일\n",
       "1  A1022  다나카  100  75   96.0   True 2023-05-02\n",
       "0  A1021  김용명   92  88   69.0   True 2023-05-01\n",
       "3  A1024  이용진   89  98   74.0  False 2023-05-06\n",
       "2  A1023  유재석   73  45  100.0  False 2023-05-02"
      ]
     },
     "execution_count": 26,
     "metadata": {},
     "output_type": "execute_result"
    }
   ],
   "source": [
    "df['제출일'] = pd.to_datetime(df['제출일'])\n",
    "df.head()"
   ]
  },
  {
   "cell_type": "code",
   "execution_count": 27,
   "metadata": {},
   "outputs": [
    {
     "name": "stdout",
     "output_type": "stream",
     "text": [
      "<class 'pandas.core.frame.DataFrame'>\n",
      "Index: 4 entries, 1 to 2\n",
      "Data columns (total 7 columns):\n",
      " #   Column  Non-Null Count  Dtype         \n",
      "---  ------  --------------  -----         \n",
      " 0   학번      4 non-null      object        \n",
      " 1   이름      4 non-null      object        \n",
      " 2   수학      4 non-null      int64         \n",
      " 3   영어      4 non-null      object        \n",
      " 4   국어      4 non-null      float64       \n",
      " 5   출석      4 non-null      bool          \n",
      " 6   제출일     4 non-null      datetime64[ns]\n",
      "dtypes: bool(1), datetime64[ns](1), float64(1), int64(1), object(3)\n",
      "memory usage: 228.0+ bytes\n"
     ]
    }
   ],
   "source": [
    "df.info()"
   ]
  },
  {
   "cell_type": "code",
   "execution_count": 28,
   "metadata": {},
   "outputs": [
    {
     "data": {
      "text/plain": [
       "1   2023-05-02\n",
       "0   2023-05-01\n",
       "3   2023-05-06\n",
       "2   2023-05-02\n",
       "Name: 제출일, dtype: datetime64[ns]"
      ]
     },
     "execution_count": 28,
     "metadata": {},
     "output_type": "execute_result"
    }
   ],
   "source": [
    "df['제출일']"
   ]
  },
  {
   "cell_type": "code",
   "execution_count": 30,
   "metadata": {},
   "outputs": [
    {
     "data": {
      "text/plain": [
       "1    2\n",
       "0    1\n",
       "3    6\n",
       "2    2\n",
       "Name: 제출일, dtype: int32"
      ]
     },
     "execution_count": 30,
     "metadata": {},
     "output_type": "execute_result"
    }
   ],
   "source": [
    "df['제출일'].dt.day"
   ]
  },
  {
   "cell_type": "code",
   "execution_count": 31,
   "metadata": {},
   "outputs": [],
   "source": [
    "# datetime형일 때, dt 객체를 사용할 수 있다.\n",
    "df['년'] = df['제출일'].dt.year\n",
    "df['월'] = df['제출일'].dt.month\n",
    "df['일'] = df['제출일'].dt.day"
   ]
  },
  {
   "cell_type": "code",
   "execution_count": 32,
   "metadata": {},
   "outputs": [
    {
     "data": {
      "text/html": [
       "<div>\n",
       "<style scoped>\n",
       "    .dataframe tbody tr th:only-of-type {\n",
       "        vertical-align: middle;\n",
       "    }\n",
       "\n",
       "    .dataframe tbody tr th {\n",
       "        vertical-align: top;\n",
       "    }\n",
       "\n",
       "    .dataframe thead th {\n",
       "        text-align: right;\n",
       "    }\n",
       "</style>\n",
       "<table border=\"1\" class=\"dataframe\">\n",
       "  <thead>\n",
       "    <tr style=\"text-align: right;\">\n",
       "      <th></th>\n",
       "      <th>학번</th>\n",
       "      <th>이름</th>\n",
       "      <th>수학</th>\n",
       "      <th>영어</th>\n",
       "      <th>국어</th>\n",
       "      <th>출석</th>\n",
       "      <th>제출일</th>\n",
       "      <th>년</th>\n",
       "      <th>월</th>\n",
       "      <th>일</th>\n",
       "    </tr>\n",
       "  </thead>\n",
       "  <tbody>\n",
       "    <tr>\n",
       "      <th>1</th>\n",
       "      <td>A1022</td>\n",
       "      <td>다나카</td>\n",
       "      <td>100</td>\n",
       "      <td>75</td>\n",
       "      <td>96.0</td>\n",
       "      <td>True</td>\n",
       "      <td>2023-05-02</td>\n",
       "      <td>2023</td>\n",
       "      <td>5</td>\n",
       "      <td>2</td>\n",
       "    </tr>\n",
       "    <tr>\n",
       "      <th>0</th>\n",
       "      <td>A1021</td>\n",
       "      <td>김용명</td>\n",
       "      <td>92</td>\n",
       "      <td>88</td>\n",
       "      <td>69.0</td>\n",
       "      <td>True</td>\n",
       "      <td>2023-05-01</td>\n",
       "      <td>2023</td>\n",
       "      <td>5</td>\n",
       "      <td>1</td>\n",
       "    </tr>\n",
       "    <tr>\n",
       "      <th>3</th>\n",
       "      <td>A1024</td>\n",
       "      <td>이용진</td>\n",
       "      <td>89</td>\n",
       "      <td>98</td>\n",
       "      <td>74.0</td>\n",
       "      <td>False</td>\n",
       "      <td>2023-05-06</td>\n",
       "      <td>2023</td>\n",
       "      <td>5</td>\n",
       "      <td>6</td>\n",
       "    </tr>\n",
       "    <tr>\n",
       "      <th>2</th>\n",
       "      <td>A1023</td>\n",
       "      <td>유재석</td>\n",
       "      <td>73</td>\n",
       "      <td>45</td>\n",
       "      <td>100.0</td>\n",
       "      <td>False</td>\n",
       "      <td>2023-05-02</td>\n",
       "      <td>2023</td>\n",
       "      <td>5</td>\n",
       "      <td>2</td>\n",
       "    </tr>\n",
       "  </tbody>\n",
       "</table>\n",
       "</div>"
      ],
      "text/plain": [
       "      학번   이름   수학  영어     국어     출석        제출일     년  월  일\n",
       "1  A1022  다나카  100  75   96.0   True 2023-05-02  2023  5  2\n",
       "0  A1021  김용명   92  88   69.0   True 2023-05-01  2023  5  1\n",
       "3  A1024  이용진   89  98   74.0  False 2023-05-06  2023  5  6\n",
       "2  A1023  유재석   73  45  100.0  False 2023-05-02  2023  5  2"
      ]
     },
     "execution_count": 32,
     "metadata": {},
     "output_type": "execute_result"
    }
   ],
   "source": [
    "df.head()"
   ]
  }
 ],
 "metadata": {
  "kernelspec": {
   "display_name": "Python 3",
   "language": "python",
   "name": "python3"
  },
  "language_info": {
   "codemirror_mode": {
    "name": "ipython",
    "version": 3
   },
   "file_extension": ".py",
   "mimetype": "text/x-python",
   "name": "python",
   "nbconvert_exporter": "python",
   "pygments_lexer": "ipython3",
   "version": "3.10.11"
  },
  "orig_nbformat": 4
 },
 "nbformat": 4,
 "nbformat_minor": 2
}
